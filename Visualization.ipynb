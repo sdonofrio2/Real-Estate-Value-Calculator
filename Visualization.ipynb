{
 "cells": [
  {
   "cell_type": "code",
   "execution_count": 240,
   "id": "ff9522f5",
   "metadata": {},
   "outputs": [],
   "source": [
    " # Import libraries\n",
    "import pandas as pd\n",
    "import pickle as pk\n",
    "\n",
    "# import libraries for api\n",
    "import os\n",
    "from dotenv import load_dotenv \n",
    "import requests\n",
    "import json\n",
    "\n",
    "# import libraries for vizualization (update)\n",
    "import plotly.express as px\n",
    "import panel as pn\n",
    "from pprint import pprint\n",
    "import matplotlib.pyplot as plt\n",
    "import numpy as np\n",
    "import seaborn as sns "
   ]
  },
  {
   "cell_type": "code",
   "execution_count": 166,
   "id": "103bb34e",
   "metadata": {},
   "outputs": [
    {
     "name": "stdout",
     "output_type": "stream",
     "text": [
      "num of rows: 40\n",
      "num of columns: 18\n"
     ]
    },
    {
     "data": {
      "text/html": [
       "<div>\n",
       "<style scoped>\n",
       "    .dataframe tbody tr th:only-of-type {\n",
       "        vertical-align: middle;\n",
       "    }\n",
       "\n",
       "    .dataframe tbody tr th {\n",
       "        vertical-align: top;\n",
       "    }\n",
       "\n",
       "    .dataframe thead th {\n",
       "        text-align: right;\n",
       "    }\n",
       "</style>\n",
       "<table border=\"1\" class=\"dataframe\">\n",
       "  <thead>\n",
       "    <tr style=\"text-align: right;\">\n",
       "      <th></th>\n",
       "      <th>bathrooms</th>\n",
       "      <th>propertyType</th>\n",
       "      <th>lotAreaValue</th>\n",
       "      <th>address</th>\n",
       "      <th>imgSrc</th>\n",
       "      <th>price</th>\n",
       "      <th>listingDateTime</th>\n",
       "      <th>listingStatus</th>\n",
       "      <th>zpid</th>\n",
       "      <th>longitude</th>\n",
       "      <th>latitude</th>\n",
       "      <th>lotAreaUnit</th>\n",
       "      <th>daysOnZillow</th>\n",
       "      <th>bedrooms</th>\n",
       "      <th>country</th>\n",
       "      <th>currency</th>\n",
       "      <th>livingArea</th>\n",
       "      <th>hasImage</th>\n",
       "    </tr>\n",
       "  </thead>\n",
       "  <tbody>\n",
       "    <tr>\n",
       "      <th>0</th>\n",
       "      <td>2</td>\n",
       "      <td>SINGLE_FAMILY</td>\n",
       "      <td>1742.40</td>\n",
       "      <td>318 W Ruscomb St, Philadelphia, PA 19120</td>\n",
       "      <td>https://photos.zillowstatic.com/fp/c528e4507f6...</td>\n",
       "      <td>150000</td>\n",
       "      <td>None</td>\n",
       "      <td>FOR_SALE</td>\n",
       "      <td>10428068</td>\n",
       "      <td>-75.130410</td>\n",
       "      <td>40.026787</td>\n",
       "      <td>sqft</td>\n",
       "      <td>-1</td>\n",
       "      <td>4</td>\n",
       "      <td>USA</td>\n",
       "      <td>USD</td>\n",
       "      <td>1440</td>\n",
       "      <td>True</td>\n",
       "    </tr>\n",
       "    <tr>\n",
       "      <th>1</th>\n",
       "      <td>2</td>\n",
       "      <td>SINGLE_FAMILY</td>\n",
       "      <td>3920.40</td>\n",
       "      <td>4913 Castor Ave, Philadelphia, PA 19124</td>\n",
       "      <td>https://photos.zillowstatic.com/fp/84229141ec1...</td>\n",
       "      <td>325000</td>\n",
       "      <td>None</td>\n",
       "      <td>FOR_SALE</td>\n",
       "      <td>10291269</td>\n",
       "      <td>-75.091110</td>\n",
       "      <td>40.024803</td>\n",
       "      <td>sqft</td>\n",
       "      <td>-1</td>\n",
       "      <td>4</td>\n",
       "      <td>USA</td>\n",
       "      <td>USD</td>\n",
       "      <td>1920</td>\n",
       "      <td>True</td>\n",
       "    </tr>\n",
       "    <tr>\n",
       "      <th>2</th>\n",
       "      <td>4</td>\n",
       "      <td>SINGLE_FAMILY</td>\n",
       "      <td>0.43</td>\n",
       "      <td>200 W Walnut Ln, Philadelphia, PA 19144</td>\n",
       "      <td>https://photos.zillowstatic.com/fp/b90b6b03745...</td>\n",
       "      <td>869000</td>\n",
       "      <td>None</td>\n",
       "      <td>FOR_SALE</td>\n",
       "      <td>2068504637</td>\n",
       "      <td>-75.181816</td>\n",
       "      <td>40.037050</td>\n",
       "      <td>acres</td>\n",
       "      <td>-1</td>\n",
       "      <td>5</td>\n",
       "      <td>USA</td>\n",
       "      <td>USD</td>\n",
       "      <td>3857</td>\n",
       "      <td>True</td>\n",
       "    </tr>\n",
       "    <tr>\n",
       "      <th>3</th>\n",
       "      <td>4</td>\n",
       "      <td>SINGLE_FAMILY</td>\n",
       "      <td>9583.20</td>\n",
       "      <td>2320 N 50th St, Philadelphia, PA 19131</td>\n",
       "      <td>https://photos.zillowstatic.com/fp/458505836a3...</td>\n",
       "      <td>267000</td>\n",
       "      <td>None</td>\n",
       "      <td>FOR_SALE</td>\n",
       "      <td>10486635</td>\n",
       "      <td>-75.227104</td>\n",
       "      <td>39.996180</td>\n",
       "      <td>sqft</td>\n",
       "      <td>-1</td>\n",
       "      <td>5</td>\n",
       "      <td>USA</td>\n",
       "      <td>USD</td>\n",
       "      <td>4520</td>\n",
       "      <td>True</td>\n",
       "    </tr>\n",
       "    <tr>\n",
       "      <th>4</th>\n",
       "      <td>3</td>\n",
       "      <td>SINGLE_FAMILY</td>\n",
       "      <td>3049.20</td>\n",
       "      <td>522 Gilham St, Philadelphia, PA 19111</td>\n",
       "      <td>https://photos.zillowstatic.com/fp/04cc332dd77...</td>\n",
       "      <td>144000</td>\n",
       "      <td>None</td>\n",
       "      <td>FOR_SALE</td>\n",
       "      <td>2071261604</td>\n",
       "      <td>-75.092926</td>\n",
       "      <td>40.050960</td>\n",
       "      <td>sqft</td>\n",
       "      <td>-1</td>\n",
       "      <td>5</td>\n",
       "      <td>USA</td>\n",
       "      <td>USD</td>\n",
       "      <td>2007</td>\n",
       "      <td>True</td>\n",
       "    </tr>\n",
       "  </tbody>\n",
       "</table>\n",
       "</div>"
      ],
      "text/plain": [
       "   bathrooms   propertyType  lotAreaValue  \\\n",
       "0          2  SINGLE_FAMILY       1742.40   \n",
       "1          2  SINGLE_FAMILY       3920.40   \n",
       "2          4  SINGLE_FAMILY          0.43   \n",
       "3          4  SINGLE_FAMILY       9583.20   \n",
       "4          3  SINGLE_FAMILY       3049.20   \n",
       "\n",
       "                                    address  \\\n",
       "0  318 W Ruscomb St, Philadelphia, PA 19120   \n",
       "1   4913 Castor Ave, Philadelphia, PA 19124   \n",
       "2   200 W Walnut Ln, Philadelphia, PA 19144   \n",
       "3    2320 N 50th St, Philadelphia, PA 19131   \n",
       "4     522 Gilham St, Philadelphia, PA 19111   \n",
       "\n",
       "                                              imgSrc   price listingDateTime  \\\n",
       "0  https://photos.zillowstatic.com/fp/c528e4507f6...  150000            None   \n",
       "1  https://photos.zillowstatic.com/fp/84229141ec1...  325000            None   \n",
       "2  https://photos.zillowstatic.com/fp/b90b6b03745...  869000            None   \n",
       "3  https://photos.zillowstatic.com/fp/458505836a3...  267000            None   \n",
       "4  https://photos.zillowstatic.com/fp/04cc332dd77...  144000            None   \n",
       "\n",
       "  listingStatus        zpid  longitude   latitude lotAreaUnit  daysOnZillow  \\\n",
       "0      FOR_SALE    10428068 -75.130410  40.026787        sqft            -1   \n",
       "1      FOR_SALE    10291269 -75.091110  40.024803        sqft            -1   \n",
       "2      FOR_SALE  2068504637 -75.181816  40.037050       acres            -1   \n",
       "3      FOR_SALE    10486635 -75.227104  39.996180        sqft            -1   \n",
       "4      FOR_SALE  2071261604 -75.092926  40.050960        sqft            -1   \n",
       "\n",
       "   bedrooms country currency  livingArea  hasImage  \n",
       "0         4     USA      USD        1440      True  \n",
       "1         4     USA      USD        1920      True  \n",
       "2         5     USA      USD        3857      True  \n",
       "3         5     USA      USD        4520      True  \n",
       "4         5     USA      USD        2007      True  "
      ]
     },
     "execution_count": 166,
     "metadata": {},
     "output_type": "execute_result"
    }
   ],
   "source": [
    "#from Thomas's code \n",
    "\n",
    "filename = \"Zillow_data\"\n",
    "infile = open(filename,'rb')\n",
    "new_dict = pk.load(infile)\n",
    "infile.close()\n",
    "z_for_sale_resp =new_dict.json()\n",
    "current_zillow_df = pd.json_normalize(data=z_for_sale_resp[\"props\"])\n",
    "print('num of rows:', len(current_zillow_df))\n",
    "print('num of columns:', len(current_zillow_df.columns))\n",
    "\n",
    "current_zillow_df.head()"
   ]
  },
  {
   "cell_type": "code",
   "execution_count": 167,
   "id": "cb8829ca",
   "metadata": {},
   "outputs": [
    {
     "data": {
      "text/html": [
       "<div>\n",
       "<style scoped>\n",
       "    .dataframe tbody tr th:only-of-type {\n",
       "        vertical-align: middle;\n",
       "    }\n",
       "\n",
       "    .dataframe tbody tr th {\n",
       "        vertical-align: top;\n",
       "    }\n",
       "\n",
       "    .dataframe thead th {\n",
       "        text-align: right;\n",
       "    }\n",
       "</style>\n",
       "<table border=\"1\" class=\"dataframe\">\n",
       "  <thead>\n",
       "    <tr style=\"text-align: right;\">\n",
       "      <th></th>\n",
       "      <th>Type of Property</th>\n",
       "      <th>price</th>\n",
       "      <th>Area in sqft.</th>\n",
       "      <th>bathrooms</th>\n",
       "      <th>bedrooms</th>\n",
       "      <th>zip code</th>\n",
       "      <th>Status</th>\n",
       "      <th>latitude</th>\n",
       "      <th>longitude</th>\n",
       "      <th>Image property</th>\n",
       "    </tr>\n",
       "    <tr>\n",
       "      <th>zpid</th>\n",
       "      <th></th>\n",
       "      <th></th>\n",
       "      <th></th>\n",
       "      <th></th>\n",
       "      <th></th>\n",
       "      <th></th>\n",
       "      <th></th>\n",
       "      <th></th>\n",
       "      <th></th>\n",
       "      <th></th>\n",
       "    </tr>\n",
       "  </thead>\n",
       "  <tbody>\n",
       "    <tr>\n",
       "      <th>10428068</th>\n",
       "      <td>SINGLE_FAMILY</td>\n",
       "      <td>150000</td>\n",
       "      <td>1440</td>\n",
       "      <td>2</td>\n",
       "      <td>4</td>\n",
       "      <td>19120</td>\n",
       "      <td>FOR_SALE</td>\n",
       "      <td>40.026787</td>\n",
       "      <td>-75.130410</td>\n",
       "      <td>https://photos.zillowstatic.com/fp/c528e4507f6...</td>\n",
       "    </tr>\n",
       "    <tr>\n",
       "      <th>10291269</th>\n",
       "      <td>SINGLE_FAMILY</td>\n",
       "      <td>325000</td>\n",
       "      <td>1920</td>\n",
       "      <td>2</td>\n",
       "      <td>4</td>\n",
       "      <td>19124</td>\n",
       "      <td>FOR_SALE</td>\n",
       "      <td>40.024803</td>\n",
       "      <td>-75.091110</td>\n",
       "      <td>https://photos.zillowstatic.com/fp/84229141ec1...</td>\n",
       "    </tr>\n",
       "    <tr>\n",
       "      <th>2068504637</th>\n",
       "      <td>SINGLE_FAMILY</td>\n",
       "      <td>869000</td>\n",
       "      <td>3857</td>\n",
       "      <td>4</td>\n",
       "      <td>5</td>\n",
       "      <td>19144</td>\n",
       "      <td>FOR_SALE</td>\n",
       "      <td>40.037050</td>\n",
       "      <td>-75.181816</td>\n",
       "      <td>https://photos.zillowstatic.com/fp/b90b6b03745...</td>\n",
       "    </tr>\n",
       "    <tr>\n",
       "      <th>10486635</th>\n",
       "      <td>SINGLE_FAMILY</td>\n",
       "      <td>267000</td>\n",
       "      <td>4520</td>\n",
       "      <td>4</td>\n",
       "      <td>5</td>\n",
       "      <td>19131</td>\n",
       "      <td>FOR_SALE</td>\n",
       "      <td>39.996180</td>\n",
       "      <td>-75.227104</td>\n",
       "      <td>https://photos.zillowstatic.com/fp/458505836a3...</td>\n",
       "    </tr>\n",
       "    <tr>\n",
       "      <th>2071261604</th>\n",
       "      <td>SINGLE_FAMILY</td>\n",
       "      <td>144000</td>\n",
       "      <td>2007</td>\n",
       "      <td>3</td>\n",
       "      <td>5</td>\n",
       "      <td>19111</td>\n",
       "      <td>FOR_SALE</td>\n",
       "      <td>40.050960</td>\n",
       "      <td>-75.092926</td>\n",
       "      <td>https://photos.zillowstatic.com/fp/04cc332dd77...</td>\n",
       "    </tr>\n",
       "  </tbody>\n",
       "</table>\n",
       "</div>"
      ],
      "text/plain": [
       "           Type of Property   price  Area in sqft.  bathrooms  bedrooms  \\\n",
       "zpid                                                                      \n",
       "10428068      SINGLE_FAMILY  150000           1440          2         4   \n",
       "10291269      SINGLE_FAMILY  325000           1920          2         4   \n",
       "2068504637    SINGLE_FAMILY  869000           3857          4         5   \n",
       "10486635      SINGLE_FAMILY  267000           4520          4         5   \n",
       "2071261604    SINGLE_FAMILY  144000           2007          3         5   \n",
       "\n",
       "           zip code    Status   latitude  longitude  \\\n",
       "zpid                                                  \n",
       "10428068      19120  FOR_SALE  40.026787 -75.130410   \n",
       "10291269      19124  FOR_SALE  40.024803 -75.091110   \n",
       "2068504637    19144  FOR_SALE  40.037050 -75.181816   \n",
       "10486635      19131  FOR_SALE  39.996180 -75.227104   \n",
       "2071261604    19111  FOR_SALE  40.050960 -75.092926   \n",
       "\n",
       "                                               Image property  \n",
       "zpid                                                           \n",
       "10428068    https://photos.zillowstatic.com/fp/c528e4507f6...  \n",
       "10291269    https://photos.zillowstatic.com/fp/84229141ec1...  \n",
       "2068504637  https://photos.zillowstatic.com/fp/b90b6b03745...  \n",
       "10486635    https://photos.zillowstatic.com/fp/458505836a3...  \n",
       "2071261604  https://photos.zillowstatic.com/fp/04cc332dd77...  "
      ]
     },
     "execution_count": 167,
     "metadata": {},
     "output_type": "execute_result"
    }
   ],
   "source": [
    "#thomas code\n",
    "zpid_list = current_zillow_df[\"zpid\"].tolist()\n",
    "current_zillow_df.columns\n",
    "### Select columns that we will need for the analysis\n",
    "current_zillow_df.columns\n",
    "current_price_df = current_zillow_df[[ \"zpid\",\"propertyType\" , \"price\", \"livingArea\" , \"bathrooms\" , \"bedrooms\" ,\"address\", \"listingStatus\" , \"latitude\" , \"longitude\", \"imgSrc\"]].copy()\n",
    "current_price_df.set_index(\"zpid\", inplace=True)\n",
    "\n",
    "\n",
    "#Pull only the zip code from the address column\n",
    "current_price_df[\"address\"] = current_price_df[\"address\"].str[-5:]\n",
    "\n",
    "# Change the column names to improve readability\n",
    "current_price_df.rename(columns = {\n",
    "        \"livingArea\" : \"Area in sqft.\",\n",
    "        \"propertyType\" : \"Type of Property\",\n",
    "        \"address\" : \"zip code\",\n",
    "        \"listingStatus\" : \"Status\",\n",
    "        \"imgSrc\" : \"Image property\"\n",
    "        }, inplace = True)\n",
    "current_price_df.head()"
   ]
  },
  {
   "cell_type": "code",
   "execution_count": 174,
   "id": "4b0eb911",
   "metadata": {},
   "outputs": [
    {
     "name": "stdout",
     "output_type": "stream",
     "text": [
      "num of rows: 5\n",
      "num of columns: 18\n"
     ]
    }
   ],
   "source": [
    "#thomas code\n",
    "filename = \"Zillow_old_data\"\n",
    "infile = open(filename,'rb')\n",
    "new_source = pk.load(infile)\n",
    "infile.close()\n",
    "z_recently_sold_resp =new_source.json()\n",
    "sold_zillow_df = pd.json_normalize(data=z_recently_sold_resp)\n",
    "print('num of rows:', len(sold_zillow_df))\n",
    "print('num of columns:', len(sold_zillow_df.columns))\n",
    "sold_zillow_df.columns\n",
    "sold_price_df = sold_zillow_df[[ \"zpid\", \"homeType\", \"lastSoldPrice\", \"livingArea\" , \"bathrooms\" , \"bedrooms\" , \"address.zipcode\",  \"homeStatus\" , \"latitude\" , \"longitude\", \"miniCardPhotos\"]].copy()\n",
    "sold_price_df.set_index(\"zpid\", inplace=True)\n",
    "\n",
    "# Change the column names to improve readability\n",
    "sold_price_df.rename(columns = {\n",
    "        \"homeType\" : \"Type of Property\",\n",
    "        \"lastSoldPrice\" : \"price\",\n",
    "        \"livingArea\" : \"Area in sqft.\",\n",
    "        \"address.zipcode\" :\"zip code\",\n",
    "        \"homeStatus\" : \"Status\",\n",
    "        \"miniCardPhotos\" : \"Image property\"\n",
    "        }, inplace = True)"
   ]
  },
  {
   "cell_type": "code",
   "execution_count": 175,
   "id": "0a75e2dc-85ed-457c-8a8e-f1f97f163cfd",
   "metadata": {},
   "outputs": [
    {
     "data": {
      "text/html": [
       "<div>\n",
       "<style scoped>\n",
       "    .dataframe tbody tr th:only-of-type {\n",
       "        vertical-align: middle;\n",
       "    }\n",
       "\n",
       "    .dataframe tbody tr th {\n",
       "        vertical-align: top;\n",
       "    }\n",
       "\n",
       "    .dataframe thead th {\n",
       "        text-align: right;\n",
       "    }\n",
       "</style>\n",
       "<table border=\"1\" class=\"dataframe\">\n",
       "  <thead>\n",
       "    <tr style=\"text-align: right;\">\n",
       "      <th></th>\n",
       "      <th>Type of Property</th>\n",
       "      <th>price</th>\n",
       "      <th>Area in sqft.</th>\n",
       "      <th>bathrooms</th>\n",
       "      <th>bedrooms</th>\n",
       "      <th>zip code</th>\n",
       "      <th>Status</th>\n",
       "      <th>latitude</th>\n",
       "      <th>longitude</th>\n",
       "      <th>Image property</th>\n",
       "    </tr>\n",
       "    <tr>\n",
       "      <th>zpid</th>\n",
       "      <th></th>\n",
       "      <th></th>\n",
       "      <th></th>\n",
       "      <th></th>\n",
       "      <th></th>\n",
       "      <th></th>\n",
       "      <th></th>\n",
       "      <th></th>\n",
       "      <th></th>\n",
       "      <th></th>\n",
       "    </tr>\n",
       "  </thead>\n",
       "  <tbody>\n",
       "    <tr>\n",
       "      <th>10428068</th>\n",
       "      <td>SINGLE_FAMILY</td>\n",
       "      <td>150000</td>\n",
       "      <td>1440</td>\n",
       "      <td>2</td>\n",
       "      <td>4</td>\n",
       "      <td>19120</td>\n",
       "      <td>FOR_SALE</td>\n",
       "      <td>40.026787</td>\n",
       "      <td>-75.130410</td>\n",
       "      <td>https://photos.zillowstatic.com/fp/c528e4507f6...</td>\n",
       "    </tr>\n",
       "    <tr>\n",
       "      <th>10291269</th>\n",
       "      <td>SINGLE_FAMILY</td>\n",
       "      <td>325000</td>\n",
       "      <td>1920</td>\n",
       "      <td>2</td>\n",
       "      <td>4</td>\n",
       "      <td>19124</td>\n",
       "      <td>FOR_SALE</td>\n",
       "      <td>40.024803</td>\n",
       "      <td>-75.091110</td>\n",
       "      <td>https://photos.zillowstatic.com/fp/84229141ec1...</td>\n",
       "    </tr>\n",
       "    <tr>\n",
       "      <th>2068504637</th>\n",
       "      <td>SINGLE_FAMILY</td>\n",
       "      <td>869000</td>\n",
       "      <td>3857</td>\n",
       "      <td>4</td>\n",
       "      <td>5</td>\n",
       "      <td>19144</td>\n",
       "      <td>FOR_SALE</td>\n",
       "      <td>40.037050</td>\n",
       "      <td>-75.181816</td>\n",
       "      <td>https://photos.zillowstatic.com/fp/b90b6b03745...</td>\n",
       "    </tr>\n",
       "    <tr>\n",
       "      <th>10486635</th>\n",
       "      <td>SINGLE_FAMILY</td>\n",
       "      <td>267000</td>\n",
       "      <td>4520</td>\n",
       "      <td>4</td>\n",
       "      <td>5</td>\n",
       "      <td>19131</td>\n",
       "      <td>FOR_SALE</td>\n",
       "      <td>39.996180</td>\n",
       "      <td>-75.227104</td>\n",
       "      <td>https://photos.zillowstatic.com/fp/458505836a3...</td>\n",
       "    </tr>\n",
       "    <tr>\n",
       "      <th>2071261604</th>\n",
       "      <td>SINGLE_FAMILY</td>\n",
       "      <td>144000</td>\n",
       "      <td>2007</td>\n",
       "      <td>3</td>\n",
       "      <td>5</td>\n",
       "      <td>19111</td>\n",
       "      <td>FOR_SALE</td>\n",
       "      <td>40.050960</td>\n",
       "      <td>-75.092926</td>\n",
       "      <td>https://photos.zillowstatic.com/fp/04cc332dd77...</td>\n",
       "    </tr>\n",
       "  </tbody>\n",
       "</table>\n",
       "</div>"
      ],
      "text/plain": [
       "           Type of Property   price  Area in sqft.  bathrooms  bedrooms  \\\n",
       "zpid                                                                      \n",
       "10428068      SINGLE_FAMILY  150000           1440          2         4   \n",
       "10291269      SINGLE_FAMILY  325000           1920          2         4   \n",
       "2068504637    SINGLE_FAMILY  869000           3857          4         5   \n",
       "10486635      SINGLE_FAMILY  267000           4520          4         5   \n",
       "2071261604    SINGLE_FAMILY  144000           2007          3         5   \n",
       "\n",
       "           zip code    Status   latitude  longitude  \\\n",
       "zpid                                                  \n",
       "10428068      19120  FOR_SALE  40.026787 -75.130410   \n",
       "10291269      19124  FOR_SALE  40.024803 -75.091110   \n",
       "2068504637    19144  FOR_SALE  40.037050 -75.181816   \n",
       "10486635      19131  FOR_SALE  39.996180 -75.227104   \n",
       "2071261604    19111  FOR_SALE  40.050960 -75.092926   \n",
       "\n",
       "                                               Image property  \n",
       "zpid                                                           \n",
       "10428068    https://photos.zillowstatic.com/fp/c528e4507f6...  \n",
       "10291269    https://photos.zillowstatic.com/fp/84229141ec1...  \n",
       "2068504637  https://photos.zillowstatic.com/fp/b90b6b03745...  \n",
       "10486635    https://photos.zillowstatic.com/fp/458505836a3...  \n",
       "2071261604  https://photos.zillowstatic.com/fp/04cc332dd77...  "
      ]
     },
     "execution_count": 175,
     "metadata": {},
     "output_type": "execute_result"
    }
   ],
   "source": [
    "total_price_df = pd.concat([current_price_df,sold_price_df ], axis=0, join=\"inner\")\n",
    "\n",
    "total_price_df.head()"
   ]
  },
  {
   "cell_type": "code",
   "execution_count": 177,
   "id": "7253819c",
   "metadata": {},
   "outputs": [],
   "source": [
    "#Add new columns in dataframes for \"price per sqft\"\n",
    "current_price_df[\"price_per_sqft\"] = current_price_df[\"price\"] / current_price_df[\"Area in sqft.\"]\n",
    "\n",
    "sold_price_df[\"price_per_sqft\"] = sold_price_df[\"price\"] / sold_price_df[\"Area in sqft.\"]\n",
    "\n"
   ]
  },
  {
   "cell_type": "code",
   "execution_count": 178,
   "id": "ac8260d8",
   "metadata": {},
   "outputs": [
    {
     "data": {
      "text/html": [
       "<div>\n",
       "<style scoped>\n",
       "    .dataframe tbody tr th:only-of-type {\n",
       "        vertical-align: middle;\n",
       "    }\n",
       "\n",
       "    .dataframe tbody tr th {\n",
       "        vertical-align: top;\n",
       "    }\n",
       "\n",
       "    .dataframe thead th {\n",
       "        text-align: right;\n",
       "    }\n",
       "</style>\n",
       "<table border=\"1\" class=\"dataframe\">\n",
       "  <thead>\n",
       "    <tr style=\"text-align: right;\">\n",
       "      <th></th>\n",
       "      <th>Type of Property</th>\n",
       "      <th>price</th>\n",
       "      <th>Area in sqft.</th>\n",
       "      <th>bathrooms</th>\n",
       "      <th>bedrooms</th>\n",
       "      <th>zip code</th>\n",
       "      <th>Status</th>\n",
       "      <th>latitude</th>\n",
       "      <th>longitude</th>\n",
       "      <th>Image property</th>\n",
       "      <th>price_per_sqft</th>\n",
       "    </tr>\n",
       "    <tr>\n",
       "      <th>zpid</th>\n",
       "      <th></th>\n",
       "      <th></th>\n",
       "      <th></th>\n",
       "      <th></th>\n",
       "      <th></th>\n",
       "      <th></th>\n",
       "      <th></th>\n",
       "      <th></th>\n",
       "      <th></th>\n",
       "      <th></th>\n",
       "      <th></th>\n",
       "    </tr>\n",
       "  </thead>\n",
       "  <tbody>\n",
       "    <tr>\n",
       "      <th>10285435</th>\n",
       "      <td>SINGLE_FAMILY</td>\n",
       "      <td>458900</td>\n",
       "      <td>1984</td>\n",
       "      <td>3</td>\n",
       "      <td>4</td>\n",
       "      <td>19119</td>\n",
       "      <td>FOR_SALE</td>\n",
       "      <td>40.052326</td>\n",
       "      <td>-75.193275</td>\n",
       "      <td>https://photos.zillowstatic.com/fp/f5cca126d4e...</td>\n",
       "      <td>231.300403</td>\n",
       "    </tr>\n",
       "  </tbody>\n",
       "</table>\n",
       "</div>"
      ],
      "text/plain": [
       "         Type of Property   price  Area in sqft.  bathrooms  bedrooms  \\\n",
       "zpid                                                                    \n",
       "10285435    SINGLE_FAMILY  458900           1984          3         4   \n",
       "\n",
       "         zip code    Status   latitude  longitude  \\\n",
       "zpid                                                \n",
       "10285435    19119  FOR_SALE  40.052326 -75.193275   \n",
       "\n",
       "                                             Image property  price_per_sqft  \n",
       "zpid                                                                         \n",
       "10285435  https://photos.zillowstatic.com/fp/f5cca126d4e...      231.300403  "
      ]
     },
     "execution_count": 178,
     "metadata": {},
     "output_type": "execute_result"
    }
   ],
   "source": [
    "#Add a variable for the ZPID. Add a variable \"Purchase_house\" to be the ZPID of the house we are looking to buy. \n",
    "ZPID = '10285435'\n",
    "Purchase_house = current_price_df.loc[[ZPID]]\n",
    "Purchase_house"
   ]
  },
  {
   "cell_type": "code",
   "execution_count": 179,
   "id": "b95e57e2",
   "metadata": {},
   "outputs": [],
   "source": [
    "# Add variables for the average price per square foot/bedrooms/bathrooms of the comparable properties\n",
    "sold_average_price_per_sqft = sold_price_df['price_per_sqft'].mean()\n",
    "sold_average_sqft = sold_price_df['Area in sqft.'].mean()\n",
    "sold_average_bathrooms = sold_price_df['bathrooms'].mean()\n",
    "sold_average_bedrooms = sold_price_df['bedrooms'].mean()"
   ]
  },
  {
   "cell_type": "code",
   "execution_count": 180,
   "id": "9dbac77f",
   "metadata": {},
   "outputs": [],
   "source": [
    "# Add variables for the price per square foot/bedrooms/bathrooms of the home we are looking to buy\n",
    "Purchase_house_price_per_sqft = round(Purchase_house.loc[ZPID,'price_per_sqft'],2)\n",
    "Purchase_house_sqft = round(Purchase_house.loc[ZPID,'Area in sqft.'],2)\n",
    "Purchase_house_bathrooms = round(Purchase_house.loc[ZPID,'bathrooms'],2)\n",
    "Purchase_house_bedrooms = round(Purchase_house.loc[ZPID,'bedrooms'],2)"
   ]
  },
  {
   "cell_type": "code",
   "execution_count": 181,
   "id": "ea7ed81e",
   "metadata": {},
   "outputs": [],
   "source": [
    "# Add variables that are the difference per square foot/bedrooms/bathrooms of the comparables price per sqft vs. the house we want to buy\n",
    "difference_price_per_sqft = round((sold_average_price_per_sqft - Purchase_house_price_per_sqft),2)\n",
    "difference_sqft = round((sold_average_sqft - Purchase_house_sqft),2)\n",
    "difference_bathrooms = round((sold_average_bathrooms - Purchase_house_bathrooms), 2)\n",
    "difference_bedrooms = round((sold_average_bedrooms - Purchase_house_bedrooms), 2)"
   ]
  },
  {
   "cell_type": "code",
   "execution_count": 182,
   "id": "9b7c27f9",
   "metadata": {},
   "outputs": [],
   "source": [
    "# Add a variable for our estimated Fair Value of the home we are looking to buy ( comparables average price per sq ft * purchase home sq ft)\n",
    "Calculated_Home_Value = round((sold_average_price_per_sqft *  Purchase_house_sqft))"
   ]
  },
  {
   "cell_type": "code",
   "execution_count": 183,
   "id": "493ef81c",
   "metadata": {},
   "outputs": [
    {
     "data": {
      "text/plain": [
       "\"We estimate the fair value of this house to be $421773. This house is $248.6 per square foot more expensive than comparable properties. We don't recommend you buy this house.\""
      ]
     },
     "execution_count": 183,
     "metadata": {},
     "output_type": "execute_result"
    }
   ],
   "source": [
    "# Add a function to return our recommendation \n",
    "def recommendation(): \n",
    "    if sold_average_price_per_sqft > Purchase_house_price_per_sqft:\n",
    "        return(f\"We estimate the fair value of this house to be ${Calculated_Home_Value}. This house is ${difference_sqft} per square foot less expensive than comparable properties. We recommend you buy this house.\")\n",
    "    else:\n",
    "        return(f\"We estimate the fair value of this house to be ${Calculated_Home_Value}. This house is ${difference_sqft} per square foot more expensive than comparable properties. We don't recommend you buy this house.\")\n",
    "recommendation()\n",
    "\n",
    "recommendation_text = recommendation()\n",
    "recommendation_text"
   ]
  },
  {
   "cell_type": "code",
   "execution_count": 184,
   "id": "60016349",
   "metadata": {},
   "outputs": [],
   "source": [
    "# Add functions to return other statistics on sqft\n",
    "def other_info_sqft(): \n",
    "    if sold_average_sqft > Purchase_house_sqft:\n",
    "        return(f\"The property you are looking to buy has {difference_sqft: .2f} fewer square feet than the average of the comparables.\")\n",
    "    elif sold_average_sqft == Purchase_house_sqft:\n",
    "        return(f\"The property you are looking to buy has the same amount of square feet as the average of the comparable properties.\")\n",
    "    else:\n",
    "        return(f\"The property you are looking to buy has {difference_sqft: .2f} more square feet than the average of the comparables.\")\n",
    "\n",
    "other_info_sqft_text = other_info_sqft()"
   ]
  },
  {
   "cell_type": "code",
   "execution_count": 185,
   "id": "a4f32ae3",
   "metadata": {},
   "outputs": [],
   "source": [
    "# Add functions to return other statistics on bathrooms\n",
    "def other_info_bathrooms(): \n",
    "    if sold_average_bathrooms > Purchase_house_bathrooms:\n",
    "        return(f\"The property you are looking to buy has {difference_bathrooms: .2f} fewer bathrooms than the average of the comparables.\")\n",
    "    elif sold_average_bathrooms == Purchase_house_bathrooms:\n",
    "        return(f\"The property you are looking to buy has the same amount of bathrooms as the average of the comparable properties.\")\n",
    "    else:\n",
    "        return(f\"The property you are looking to buy has {difference_bathrooms: .2f} more bathrooms than the average of the comparables.\")\n",
    "\n",
    "other_info_bathrooms_text = other_info_bathrooms()"
   ]
  },
  {
   "cell_type": "code",
   "execution_count": 186,
   "id": "2359b059",
   "metadata": {},
   "outputs": [],
   "source": [
    "# Add functions to return other statistics on bedrooms\n",
    "def other_info_bedrooms(): \n",
    "    if sold_average_bathrooms > Purchase_house_bathrooms:\n",
    "        return(f\"The property you are looking to buy has {difference_bedrooms: .2f} more bedrooms than the average of the comparables.\")\n",
    "    elif difference_bedrooms == 0.0:\n",
    "        return(f\"The property you are looking to buy has the same amount of bedrooms as the average of the comparable properties.\")\n",
    "    else:\n",
    "        return(f\"The property you are looking to buy has {difference_bedrooms: .2f} fewer bedrooms than the average of the comparables.\")\n",
    "\n",
    "other_info_bedrooms_text = other_info_bedrooms()"
   ]
  },
  {
   "cell_type": "code",
   "execution_count": 187,
   "id": "df995235",
   "metadata": {},
   "outputs": [
    {
     "ename": "ModuleNotFoundError",
     "evalue": "No module named 'dash'",
     "output_type": "error",
     "traceback": [
      "\u001b[1;31m---------------------------------------------------------------------------\u001b[0m",
      "\u001b[1;31mModuleNotFoundError\u001b[0m                       Traceback (most recent call last)",
      "\u001b[1;32m<ipython-input-187-ed9529665e73>\u001b[0m in \u001b[0;36m<module>\u001b[1;34m\u001b[0m\n\u001b[1;32m----> 1\u001b[1;33m \u001b[1;32mimport\u001b[0m \u001b[0mdash\u001b[0m\u001b[1;33m\u001b[0m\u001b[1;33m\u001b[0m\u001b[0m\n\u001b[0m\u001b[0;32m      2\u001b[0m \u001b[1;32mimport\u001b[0m \u001b[0mdash_core_components\u001b[0m \u001b[1;32mas\u001b[0m \u001b[0mdcc\u001b[0m\u001b[1;33m\u001b[0m\u001b[1;33m\u001b[0m\u001b[0m\n\u001b[0;32m      3\u001b[0m \u001b[1;32mimport\u001b[0m \u001b[0mdash_html_components\u001b[0m \u001b[1;32mas\u001b[0m \u001b[0mhtml\u001b[0m\u001b[1;33m\u001b[0m\u001b[1;33m\u001b[0m\u001b[0m\n\u001b[0;32m      4\u001b[0m \u001b[1;32mimport\u001b[0m \u001b[0mplotly\u001b[0m\u001b[1;33m.\u001b[0m\u001b[0mexpress\u001b[0m \u001b[1;32mas\u001b[0m \u001b[0mpx\u001b[0m\u001b[1;33m\u001b[0m\u001b[1;33m\u001b[0m\u001b[0m\n\u001b[0;32m      5\u001b[0m \u001b[1;32mfrom\u001b[0m \u001b[0mdash\u001b[0m\u001b[1;33m.\u001b[0m\u001b[0mdependencies\u001b[0m \u001b[1;32mimport\u001b[0m \u001b[0mInput\u001b[0m\u001b[1;33m,\u001b[0m \u001b[0mOutput\u001b[0m\u001b[1;33m\u001b[0m\u001b[1;33m\u001b[0m\u001b[0m\n",
      "\u001b[1;31mModuleNotFoundError\u001b[0m: No module named 'dash'"
     ]
    }
   ],
   "source": [
    "import dash\n",
    "import dash_core_components as dcc\n",
    "import dash_html_components as html\n",
    "import plotly.express as px\n",
    "from dash.dependencies import Input, Output"
   ]
  },
  {
   "cell_type": "code",
   "execution_count": 188,
   "id": "d0029768",
   "metadata": {},
   "outputs": [],
   "source": [
    "file=open('HouseForSale.html',\"w\")\n",
    "file.write(recommendation_text)\n",
    "file.close()"
   ]
  },
  {
   "cell_type": "code",
   "execution_count": 189,
   "id": "7fdb4f64",
   "metadata": {},
   "outputs": [],
   "source": [
    "#test\n",
    "\n",
    "\n",
    "#app.layout = html.Div[html.Div([ \n",
    "    #html.Div([\n",
    "       # dcc.Input(\n",
    "         #   id='ZID'.format('text'),\n",
    "         #   type='text',\n",
    "         #   placeholder=\"insert {}\".format('text'),\n",
    "          #  debounce=True,\n",
    "         #   minLength=0, maxLength=50,\n",
    "          #  disabled=False,\n",
    "         #   readOnly=False,\n",
    "           # required=False,\n",
    "         #   size=\"20\"\n",
    "   #     ) \n",
    " #   ,\n",
    "#\n",
    "        \n",
    " #   ])\n",
    "#])]"
   ]
  },
  {
   "cell_type": "code",
   "execution_count": 190,
   "id": "dcb8771b",
   "metadata": {},
   "outputs": [],
   "source": [
    "#test\n",
    "\n",
    "#dff = df.copy()\n",
    "#dff = dff[dff['ZID'] == ZID]\n",
    "#print(\"ZID:\" + str(ZID)"
   ]
  },
  {
   "cell_type": "code",
   "execution_count": 191,
   "id": "e3a6274b",
   "metadata": {},
   "outputs": [],
   "source": [
    "# Vizualisations\n"
   ]
  },
  {
   "cell_type": "code",
   "execution_count": 192,
   "id": "bbd2fd09",
   "metadata": {},
   "outputs": [],
   "source": [
    "## First vizualisation : comparison of caracteristics between current house for sale and mean house profile sold\n"
   ]
  },
  {
   "cell_type": "code",
   "execution_count": 267,
   "id": "0f83fdec-c0bf-4500-8807-1e808b212336",
   "metadata": {},
   "outputs": [
    {
     "data": {
      "text/plain": [
       "<AxesSubplot:title={'center':' different house by neighborhood'}, xlabel='zip code'>"
      ]
     },
     "execution_count": 267,
     "metadata": {},
     "output_type": "execute_result"
    },
    {
     "data": {
      "image/png": "[encoded data removed]",
      "text/plain": [
       "<Figure size 1440x2160 with 1 Axes>"
      ]
     },
     "metadata": {
      "needs_background": "light"
     },
     "output_type": "display_data"
    }
   ],
   "source": [
    "## Second vizualisation : House prices  by neighborhood \n",
    "total_price_df.plot.bar(x='zip code', y= 'price', title=' different house by neighborhood', figsize =(20, 30))"
   ]
  },
  {
   "cell_type": "code",
   "execution_count": 276,
   "id": "0a2c0a1d-7d96-49cb-accb-2608699381d6",
   "metadata": {},
   "outputs": [
    {
     "data": {
      "text/plain": [
       "<AxesSubplot:>"
      ]
     },
     "execution_count": 276,
     "metadata": {},
     "output_type": "execute_result"
    },
    {
     "data": {
      "image/png": "[encoded data removed]",
      "text/plain": [
       "<Figure size 1440x1296 with 1 Axes>"
      ]
     },
     "metadata": {
      "needs_background": "light"
     },
     "output_type": "display_data"
    }
   ],
   "source": [
    "total_price_df['zip code'].value_counts().plot(kind='bar')"
   ]
  },
  {
   "cell_type": "code",
   "execution_count": 270,
   "id": "75954b2d-6e9b-4c63-aa99-46f507ba1778",
   "metadata": {},
   "outputs": [
    {
     "data": {
      "text/plain": [
       "<AxesSubplot:ylabel='Status'>"
      ]
     },
     "execution_count": 270,
     "metadata": {},
     "output_type": "execute_result"
    },
    {
     "data": {
      "image/png": "[encoded data removed]",
      "text/plain": [
       "<Figure size 1440x1296 with 1 Axes>"
      ]
     },
     "metadata": {},
     "output_type": "display_data"
    }
   ],
   "source": [
    "## Thirs vizualisation : House Listed  by Status \n",
    "total_price_df['Status'].value_counts().plot(kind='pie')"
   ]
  },
  {
   "cell_type": "code",
   "execution_count": 255,
   "id": "c5942c07-cc4f-4ff0-a3bf-94b9f366a55e",
   "metadata": {},
   "outputs": [
    {
     "name": "stderr",
     "output_type": "stream",
     "text": [
      "C:\\Users\\Jean-Pierre Koudifo\\anaconda3\\envs\\pyvizenv\\lib\\site-packages\\ipykernel_launcher.py:10: DeprecationWarning: `np.bool` is a deprecated alias for the builtin `bool`. To silence this warning, use `bool` by itself. Doing this will not modify any behavior and is safe. If you specifically wanted the numpy scalar type, use `np.bool_` here.\n",
      "Deprecated in NumPy 1.20; for more details and guidance: https://numpy.org/devdocs/release/1.20.0-notes.html#deprecations\n",
      "  # Remove the CWD from sys.path while we load stuff.\n"
     ]
    },
    {
     "data": {
      "image/png": "[encoded data removed]",
      "text/plain": [
       "<Figure size 1152x864 with 2 Axes>"
      ]
     },
     "metadata": {
      "needs_background": "light"
     },
     "output_type": "display_data"
    }
   ],
   "source": [
    "# fith Visualization \n",
    "## Correlation between housing sold Feature in the neighborhood  (area in sqf, bedrooms, bathrooms, price and location)\n",
    "\n",
    "plt.figure(figsize=(16,12))\n",
    "\n",
    "# Compute the correlation matrix\n",
    "\n",
    "corr = sold_price_df.corr()\n",
    "# Generate a mask for the upper triangle\n",
    "mask = np.zeros_like(corr, dtype=np.bool)\n",
    "mask[np.triu_indices_from(mask)] = True\n",
    "# Draw the heatmap with the mask and correct aspect ratio\n",
    "sns.heatmap(corr, mask=mask, annot=True, center=0, vmin=0.5, square=True, linewidths=1, cmap='gist_rainbow')\n",
    "plt.title('Correlation between housing sold features in the neighbordhood', fontdict={'fontsize': 16})\n",
    "plt.xticks(range(len(corr.columns)), corr.columns);\n",
    "#Apply yticks\n",
    "plt.yticks(range(len(corr.columns)), corr.columns)\n",
    "\n",
    "plt.show()"
   ]
  },
  {
   "cell_type": "code",
   "execution_count": 271,
   "id": "015e5421-18f0-4959-86d0-2f469acad538",
   "metadata": {},
   "outputs": [
    {
     "name": "stdout",
     "output_type": "stream",
     "text": [
      "There is strong correlation between bathrooms,  Area in sqf and location for all house sold\n"
     ]
    }
   ],
   "source": [
    "# observation\n",
    "print('There is strong correlation between bathrooms,  Area in sqf and location for all house sold') "
   ]
  },
  {
   "cell_type": "code",
   "execution_count": 274,
   "id": "504e78e8-630c-4403-a253-3b29a15930fc",
   "metadata": {},
   "outputs": [
    {
     "data": {
      "text/html": [
       "<div>\n",
       "<style scoped>\n",
       "    .dataframe tbody tr th:only-of-type {\n",
       "        vertical-align: middle;\n",
       "    }\n",
       "\n",
       "    .dataframe tbody tr th {\n",
       "        vertical-align: top;\n",
       "    }\n",
       "\n",
       "    .dataframe thead th {\n",
       "        text-align: right;\n",
       "    }\n",
       "</style>\n",
       "<table border=\"1\" class=\"dataframe\">\n",
       "  <thead>\n",
       "    <tr style=\"text-align: right;\">\n",
       "      <th></th>\n",
       "      <th>Type of Property</th>\n",
       "      <th>price</th>\n",
       "      <th>Area in sqft.</th>\n",
       "      <th>bathrooms</th>\n",
       "      <th>bedrooms</th>\n",
       "      <th>zip code</th>\n",
       "      <th>Status</th>\n",
       "      <th>Image property</th>\n",
       "    </tr>\n",
       "    <tr>\n",
       "      <th>zpid</th>\n",
       "      <th></th>\n",
       "      <th></th>\n",
       "      <th></th>\n",
       "      <th></th>\n",
       "      <th></th>\n",
       "      <th></th>\n",
       "      <th></th>\n",
       "      <th></th>\n",
       "    </tr>\n",
       "  </thead>\n",
       "  <tbody>\n",
       "    <tr>\n",
       "      <th>10428068</th>\n",
       "      <td>SINGLE_FAMILY</td>\n",
       "      <td>150000</td>\n",
       "      <td>1440</td>\n",
       "      <td>2</td>\n",
       "      <td>4</td>\n",
       "      <td>19120</td>\n",
       "      <td>FOR_SALE</td>\n",
       "      <td>https://photos.zillowstatic.com/fp/c528e4507f6...</td>\n",
       "    </tr>\n",
       "    <tr>\n",
       "      <th>10291269</th>\n",
       "      <td>SINGLE_FAMILY</td>\n",
       "      <td>325000</td>\n",
       "      <td>1920</td>\n",
       "      <td>2</td>\n",
       "      <td>4</td>\n",
       "      <td>19124</td>\n",
       "      <td>FOR_SALE</td>\n",
       "      <td>https://photos.zillowstatic.com/fp/84229141ec1...</td>\n",
       "    </tr>\n",
       "    <tr>\n",
       "      <th>2068504637</th>\n",
       "      <td>SINGLE_FAMILY</td>\n",
       "      <td>869000</td>\n",
       "      <td>3857</td>\n",
       "      <td>4</td>\n",
       "      <td>5</td>\n",
       "      <td>19144</td>\n",
       "      <td>FOR_SALE</td>\n",
       "      <td>https://photos.zillowstatic.com/fp/b90b6b03745...</td>\n",
       "    </tr>\n",
       "    <tr>\n",
       "      <th>10486635</th>\n",
       "      <td>SINGLE_FAMILY</td>\n",
       "      <td>267000</td>\n",
       "      <td>4520</td>\n",
       "      <td>4</td>\n",
       "      <td>5</td>\n",
       "      <td>19131</td>\n",
       "      <td>FOR_SALE</td>\n",
       "      <td>https://photos.zillowstatic.com/fp/458505836a3...</td>\n",
       "    </tr>\n",
       "    <tr>\n",
       "      <th>2071261604</th>\n",
       "      <td>SINGLE_FAMILY</td>\n",
       "      <td>144000</td>\n",
       "      <td>2007</td>\n",
       "      <td>3</td>\n",
       "      <td>5</td>\n",
       "      <td>19111</td>\n",
       "      <td>FOR_SALE</td>\n",
       "      <td>https://photos.zillowstatic.com/fp/04cc332dd77...</td>\n",
       "    </tr>\n",
       "  </tbody>\n",
       "</table>\n",
       "</div>"
      ],
      "text/plain": [
       "           Type of Property   price  Area in sqft.  bathrooms  bedrooms  \\\n",
       "zpid                                                                      \n",
       "10428068      SINGLE_FAMILY  150000           1440          2         4   \n",
       "10291269      SINGLE_FAMILY  325000           1920          2         4   \n",
       "2068504637    SINGLE_FAMILY  869000           3857          4         5   \n",
       "10486635      SINGLE_FAMILY  267000           4520          4         5   \n",
       "2071261604    SINGLE_FAMILY  144000           2007          3         5   \n",
       "\n",
       "           zip code    Status  \\\n",
       "zpid                            \n",
       "10428068      19120  FOR_SALE   \n",
       "10291269      19124  FOR_SALE   \n",
       "2068504637    19144  FOR_SALE   \n",
       "10486635      19131  FOR_SALE   \n",
       "2071261604    19111  FOR_SALE   \n",
       "\n",
       "                                               Image property  \n",
       "zpid                                                           \n",
       "10428068    https://photos.zillowstatic.com/fp/c528e4507f6...  \n",
       "10291269    https://photos.zillowstatic.com/fp/84229141ec1...  \n",
       "2068504637  https://photos.zillowstatic.com/fp/b90b6b03745...  \n",
       "10486635    https://photos.zillowstatic.com/fp/458505836a3...  \n",
       "2071261604  https://photos.zillowstatic.com/fp/04cc332dd77...  "
      ]
     },
     "execution_count": 274,
     "metadata": {},
     "output_type": "execute_result"
    }
   ],
   "source": [
    "#  sixth   Visualization -  histogram to show the  representation of the distribution of data for all House listed ( sold and current)\n",
    "# Let look at the historigram of the all House  - we will drop  latitiude and longtitiude columns  for the purpose of this  Visulations \n",
    "total_price_df_1 = total_price_df.drop(['latitude'], axis =1)\n",
    "total_price_df_1 = total_price_df_1.drop(['longitude'], axis =1)\n",
    "total_price_df_1.head()"
   ]
  },
  {
   "cell_type": "code",
   "execution_count": 275,
   "id": "61e5dae0-17eb-4ac4-a1a8-e6bda860c627",
   "metadata": {},
   "outputs": [
    {
     "data": {
      "image/png": "[encoded data removed]",
      "text/plain": [
       "<Figure size 1440x1296 with 4 Axes>"
      ]
     },
     "metadata": {
      "needs_background": "light"
     },
     "output_type": "display_data"
    }
   ],
   "source": [
    "# House Data histogram \n",
    "total_price_df_1.hist(figsize = (20,18));"
   ]
  }
 ],
 "metadata": {
  "kernelspec": {
   "display_name": "Python [conda env:pyvizenv] *",
   "language": "python",
   "name": "conda-env-pyvizenv-py"
  },
  "language_info": {
   "codemirror_mode": {
    "name": "ipython",
    "version": 3
   },
   "file_extension": ".py",
   "mimetype": "text/x-python",
   "name": "python",
   "nbconvert_exporter": "python",
   "pygments_lexer": "ipython3",
   "version": "3.7.10"
  }
 },
 "nbformat": 4,
 "nbformat_minor": 5
}
