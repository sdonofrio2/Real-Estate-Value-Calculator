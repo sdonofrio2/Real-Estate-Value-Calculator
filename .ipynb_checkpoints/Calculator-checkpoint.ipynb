{
 "cells": [
  {
   "cell_type": "code",
   "execution_count": 1,
   "id": "266cb106-3749-4ffd-93ac-11c5db2253d1",
   "metadata": {},
   "outputs": [],
   "source": [
    " # Import libraries\n",
    "import pandas as pd\n",
    "import pickle as pk\n",
    "\n",
    "# import libraries for api\n",
    "import os\n",
    "from dotenv import load_dotenv \n",
    "import requests\n",
    "import json\n",
    "\n",
    "# import libraries for vizualization\n",
    "import plotly.express as px\n",
    "import panel as pn\n",
    "from pprint import pprint"
   ]
  },
  {
   "cell_type": "code",
   "execution_count": 11,
   "id": "a9bde7ee-fd12-4ef1-81c0-eaf3e81bcdc3",
   "metadata": {},
   "outputs": [
    {
     "name": "stdout",
     "output_type": "stream",
     "text": [
      "num of rows: 40\n",
      "num of columns: 18\n"
     ]
    },
    {
     "data": {
      "text/html": [
       "<div>\n",
       "<style scoped>\n",
       "    .dataframe tbody tr th:only-of-type {\n",
       "        vertical-align: middle;\n",
       "    }\n",
       "\n",
       "    .dataframe tbody tr th {\n",
       "        vertical-align: top;\n",
       "    }\n",
       "\n",
       "    .dataframe thead th {\n",
       "        text-align: right;\n",
       "    }\n",
       "</style>\n",
       "<table border=\"1\" class=\"dataframe\">\n",
       "  <thead>\n",
       "    <tr style=\"text-align: right;\">\n",
       "      <th></th>\n",
       "      <th>bathrooms</th>\n",
       "      <th>propertyType</th>\n",
       "      <th>lotAreaValue</th>\n",
       "      <th>address</th>\n",
       "      <th>imgSrc</th>\n",
       "      <th>price</th>\n",
       "      <th>listingDateTime</th>\n",
       "      <th>listingStatus</th>\n",
       "      <th>zpid</th>\n",
       "      <th>longitude</th>\n",
       "      <th>latitude</th>\n",
       "      <th>lotAreaUnit</th>\n",
       "      <th>daysOnZillow</th>\n",
       "      <th>bedrooms</th>\n",
       "      <th>country</th>\n",
       "      <th>currency</th>\n",
       "      <th>livingArea</th>\n",
       "      <th>hasImage</th>\n",
       "    </tr>\n",
       "  </thead>\n",
       "  <tbody>\n",
       "    <tr>\n",
       "      <th>0</th>\n",
       "      <td>2</td>\n",
       "      <td>SINGLE_FAMILY</td>\n",
       "      <td>1742.40</td>\n",
       "      <td>318 W Ruscomb St, Philadelphia, PA 19120</td>\n",
       "      <td>https://photos.zillowstatic.com/fp/c528e4507f6...</td>\n",
       "      <td>150000</td>\n",
       "      <td>None</td>\n",
       "      <td>FOR_SALE</td>\n",
       "      <td>10428068</td>\n",
       "      <td>-75.130410</td>\n",
       "      <td>40.026787</td>\n",
       "      <td>sqft</td>\n",
       "      <td>-1</td>\n",
       "      <td>4</td>\n",
       "      <td>USA</td>\n",
       "      <td>USD</td>\n",
       "      <td>1440</td>\n",
       "      <td>True</td>\n",
       "    </tr>\n",
       "    <tr>\n",
       "      <th>1</th>\n",
       "      <td>2</td>\n",
       "      <td>SINGLE_FAMILY</td>\n",
       "      <td>3920.40</td>\n",
       "      <td>4913 Castor Ave, Philadelphia, PA 19124</td>\n",
       "      <td>https://photos.zillowstatic.com/fp/84229141ec1...</td>\n",
       "      <td>325000</td>\n",
       "      <td>None</td>\n",
       "      <td>FOR_SALE</td>\n",
       "      <td>10291269</td>\n",
       "      <td>-75.091110</td>\n",
       "      <td>40.024803</td>\n",
       "      <td>sqft</td>\n",
       "      <td>-1</td>\n",
       "      <td>4</td>\n",
       "      <td>USA</td>\n",
       "      <td>USD</td>\n",
       "      <td>1920</td>\n",
       "      <td>True</td>\n",
       "    </tr>\n",
       "    <tr>\n",
       "      <th>2</th>\n",
       "      <td>4</td>\n",
       "      <td>SINGLE_FAMILY</td>\n",
       "      <td>0.43</td>\n",
       "      <td>200 W Walnut Ln, Philadelphia, PA 19144</td>\n",
       "      <td>https://photos.zillowstatic.com/fp/b90b6b03745...</td>\n",
       "      <td>869000</td>\n",
       "      <td>None</td>\n",
       "      <td>FOR_SALE</td>\n",
       "      <td>2068504637</td>\n",
       "      <td>-75.181816</td>\n",
       "      <td>40.037050</td>\n",
       "      <td>acres</td>\n",
       "      <td>-1</td>\n",
       "      <td>5</td>\n",
       "      <td>USA</td>\n",
       "      <td>USD</td>\n",
       "      <td>3857</td>\n",
       "      <td>True</td>\n",
       "    </tr>\n",
       "    <tr>\n",
       "      <th>3</th>\n",
       "      <td>4</td>\n",
       "      <td>SINGLE_FAMILY</td>\n",
       "      <td>9583.20</td>\n",
       "      <td>2320 N 50th St, Philadelphia, PA 19131</td>\n",
       "      <td>https://photos.zillowstatic.com/fp/458505836a3...</td>\n",
       "      <td>267000</td>\n",
       "      <td>None</td>\n",
       "      <td>FOR_SALE</td>\n",
       "      <td>10486635</td>\n",
       "      <td>-75.227104</td>\n",
       "      <td>39.996180</td>\n",
       "      <td>sqft</td>\n",
       "      <td>-1</td>\n",
       "      <td>5</td>\n",
       "      <td>USA</td>\n",
       "      <td>USD</td>\n",
       "      <td>4520</td>\n",
       "      <td>True</td>\n",
       "    </tr>\n",
       "    <tr>\n",
       "      <th>4</th>\n",
       "      <td>3</td>\n",
       "      <td>SINGLE_FAMILY</td>\n",
       "      <td>3049.20</td>\n",
       "      <td>522 Gilham St, Philadelphia, PA 19111</td>\n",
       "      <td>https://photos.zillowstatic.com/fp/04cc332dd77...</td>\n",
       "      <td>144000</td>\n",
       "      <td>None</td>\n",
       "      <td>FOR_SALE</td>\n",
       "      <td>2071261604</td>\n",
       "      <td>-75.092926</td>\n",
       "      <td>40.050960</td>\n",
       "      <td>sqft</td>\n",
       "      <td>-1</td>\n",
       "      <td>5</td>\n",
       "      <td>USA</td>\n",
       "      <td>USD</td>\n",
       "      <td>2007</td>\n",
       "      <td>True</td>\n",
       "    </tr>\n",
       "  </tbody>\n",
       "</table>\n",
       "</div>"
      ],
      "text/plain": [
       "   bathrooms   propertyType  lotAreaValue  \\\n",
       "0          2  SINGLE_FAMILY       1742.40   \n",
       "1          2  SINGLE_FAMILY       3920.40   \n",
       "2          4  SINGLE_FAMILY          0.43   \n",
       "3          4  SINGLE_FAMILY       9583.20   \n",
       "4          3  SINGLE_FAMILY       3049.20   \n",
       "\n",
       "                                    address  \\\n",
       "0  318 W Ruscomb St, Philadelphia, PA 19120   \n",
       "1   4913 Castor Ave, Philadelphia, PA 19124   \n",
       "2   200 W Walnut Ln, Philadelphia, PA 19144   \n",
       "3    2320 N 50th St, Philadelphia, PA 19131   \n",
       "4     522 Gilham St, Philadelphia, PA 19111   \n",
       "\n",
       "                                              imgSrc   price listingDateTime  \\\n",
       "0  https://photos.zillowstatic.com/fp/c528e4507f6...  150000            None   \n",
       "1  https://photos.zillowstatic.com/fp/84229141ec1...  325000            None   \n",
       "2  https://photos.zillowstatic.com/fp/b90b6b03745...  869000            None   \n",
       "3  https://photos.zillowstatic.com/fp/458505836a3...  267000            None   \n",
       "4  https://photos.zillowstatic.com/fp/04cc332dd77...  144000            None   \n",
       "\n",
       "  listingStatus        zpid  longitude   latitude lotAreaUnit  daysOnZillow  \\\n",
       "0      FOR_SALE    10428068 -75.130410  40.026787        sqft            -1   \n",
       "1      FOR_SALE    10291269 -75.091110  40.024803        sqft            -1   \n",
       "2      FOR_SALE  2068504637 -75.181816  40.037050       acres            -1   \n",
       "3      FOR_SALE    10486635 -75.227104  39.996180        sqft            -1   \n",
       "4      FOR_SALE  2071261604 -75.092926  40.050960        sqft            -1   \n",
       "\n",
       "   bedrooms country currency  livingArea  hasImage  \n",
       "0         4     USA      USD        1440      True  \n",
       "1         4     USA      USD        1920      True  \n",
       "2         5     USA      USD        3857      True  \n",
       "3         5     USA      USD        4520      True  \n",
       "4         5     USA      USD        2007      True  "
      ]
     },
     "execution_count": 11,
     "metadata": {},
     "output_type": "execute_result"
    }
   ],
   "source": [
    "#from Thomas's code \n",
    "\n",
    "filename = \"Zillow_data\"\n",
    "infile = open(filename,'rb')\n",
    "new_dict = pk.load(infile)\n",
    "infile.close()\n",
    "z_for_sale_resp =new_dict.json()\n",
    "current_zillow_df = pd.json_normalize(data=z_for_sale_resp[\"props\"])\n",
    "print('num of rows:', len(current_zillow_df))\n",
    "print('num of columns:', len(current_zillow_df.columns))\n",
    "\n",
    "current_zillow_df.head()"
   ]
  },
  {
   "cell_type": "code",
   "execution_count": 18,
   "id": "ea7081fa-74b1-46d6-81bf-2837b398dad5",
   "metadata": {},
   "outputs": [],
   "source": [
    "#thomas code\n",
    "zpid_list = current_zillow_df[\"zpid\"].tolist()\n",
    "current_zillow_df.columns\n",
    "### Select columns that we will need for the analysis\n",
    "current_zillow_df.columns\n",
    "current_price_df = current_zillow_df[[ \"zpid\",\"propertyType\" , \"price\", \"livingArea\" , \"bathrooms\" , \"bedrooms\" ,\"address\", \"listingStatus\" , \"latitude\" , \"longitude\", \"imgSrc\"]].copy()\n",
    "current_price_df.set_index(\"zpid\", inplace=True)\n",
    "\n",
    "\n",
    "#Pull only the zip code from the address column\n",
    "current_price_df[\"address\"] = current_price_df[\"address\"].str[-5:]\n",
    "\n",
    "# Change the column names to improve readability\n",
    "current_price_df.rename(columns = {\n",
    "        \"livingArea\" : \"Area in sqft.\",\n",
    "        \"propertyType\" : \"Type of Property\",\n",
    "        \"address\" : \"zip code\",\n",
    "        \"listingStatus\" : \"Status\",\n",
    "        \"imgSrc\" : \"Image property\"\n",
    "        }, inplace = True)\n"
   ]
  },
  {
   "cell_type": "code",
   "execution_count": 23,
   "id": "ddf369c5-60c0-43d1-893d-9dfb935eeedf",
   "metadata": {},
   "outputs": [
    {
     "name": "stdout",
     "output_type": "stream",
     "text": [
      "num of rows: 5\n",
      "num of columns: 18\n"
     ]
    }
   ],
   "source": [
    "#thomas code\n",
    "filename = \"Zillow_old_data\"\n",
    "infile = open(filename,'rb')\n",
    "new_source = pk.load(infile)\n",
    "infile.close()\n",
    "z_recently_sold_resp =new_source.json()\n",
    "sold_zillow_df = pd.json_normalize(data=z_recently_sold_resp)\n",
    "print('num of rows:', len(sold_zillow_df))\n",
    "print('num of columns:', len(sold_zillow_df.columns))\n",
    "sold_zillow_df.columns\n",
    "sold_price_df = sold_zillow_df[[ \"zpid\", \"homeType\", \"lastSoldPrice\", \"livingArea\" , \"bathrooms\" , \"bedrooms\" , \"address.zipcode\",  \"homeStatus\" , \"latitude\" , \"longitude\", \"miniCardPhotos\"]].copy()\n",
    "sold_price_df.set_index(\"zpid\", inplace=True)\n",
    "\n",
    "# Change the column names to improve readability\n",
    "sold_price_df.rename(columns = {\n",
    "        \"homeType\" : \"Type of Property\",\n",
    "        \"lastSoldPrice\" : \"Price\",\n",
    "        \"livingArea\" : \"Area in sqft.\",\n",
    "        \"address.zipcode\" :\"zip code\",\n",
    "        \"homeStatus\" : \"Status\",\n",
    "        \"miniCardPhotos\" : \"Image property\"\n",
    "        }, inplace = True)"
   ]
  },
  {
   "cell_type": "code",
   "execution_count": 140,
   "id": "cbddbb64-ce39-400c-af68-1a5e2f0bf8ca",
   "metadata": {},
   "outputs": [],
   "source": [
    "#Add new columns in dataframes for \"price per sqft\"\n",
    "current_price_df[\"price_per_sqft\"] = current_price_df[\"price\"] / current_price_df[\"Area in sqft.\"]\n",
    "\n",
    "sold_price_df[\"price_per_sqft\"] = sold_price_df[\"Price\"] / sold_price_df[\"Area in sqft.\"]\n",
    "\n"
   ]
  },
  {
   "cell_type": "code",
   "execution_count": 158,
   "id": "eb8aaa69-db0c-4eae-93c6-15cfcdf2f5b5",
   "metadata": {},
   "outputs": [
    {
     "data": {
      "text/html": [
       "<div>\n",
       "<style scoped>\n",
       "    .dataframe tbody tr th:only-of-type {\n",
       "        vertical-align: middle;\n",
       "    }\n",
       "\n",
       "    .dataframe tbody tr th {\n",
       "        vertical-align: top;\n",
       "    }\n",
       "\n",
       "    .dataframe thead th {\n",
       "        text-align: right;\n",
       "    }\n",
       "</style>\n",
       "<table border=\"1\" class=\"dataframe\">\n",
       "  <thead>\n",
       "    <tr style=\"text-align: right;\">\n",
       "      <th></th>\n",
       "      <th>Type of Property</th>\n",
       "      <th>price</th>\n",
       "      <th>Area in sqft.</th>\n",
       "      <th>bathrooms</th>\n",
       "      <th>bedrooms</th>\n",
       "      <th>zip code</th>\n",
       "      <th>Status</th>\n",
       "      <th>latitude</th>\n",
       "      <th>longitude</th>\n",
       "      <th>Image property</th>\n",
       "      <th>price_per_sqft</th>\n",
       "    </tr>\n",
       "    <tr>\n",
       "      <th>zpid</th>\n",
       "      <th></th>\n",
       "      <th></th>\n",
       "      <th></th>\n",
       "      <th></th>\n",
       "      <th></th>\n",
       "      <th></th>\n",
       "      <th></th>\n",
       "      <th></th>\n",
       "      <th></th>\n",
       "      <th></th>\n",
       "      <th></th>\n",
       "    </tr>\n",
       "  </thead>\n",
       "  <tbody>\n",
       "    <tr>\n",
       "      <th>10285435</th>\n",
       "      <td>SINGLE_FAMILY</td>\n",
       "      <td>458900</td>\n",
       "      <td>1984</td>\n",
       "      <td>3</td>\n",
       "      <td>4</td>\n",
       "      <td>19119</td>\n",
       "      <td>FOR_SALE</td>\n",
       "      <td>40.052326</td>\n",
       "      <td>-75.193275</td>\n",
       "      <td>https://photos.zillowstatic.com/fp/f5cca126d4e...</td>\n",
       "      <td>231.300403</td>\n",
       "    </tr>\n",
       "  </tbody>\n",
       "</table>\n",
       "</div>"
      ],
      "text/plain": [
       "         Type of Property   price  Area in sqft.  bathrooms  bedrooms  \\\n",
       "zpid                                                                    \n",
       "10285435    SINGLE_FAMILY  458900           1984          3         4   \n",
       "\n",
       "         zip code    Status   latitude  longitude  \\\n",
       "zpid                                                \n",
       "10285435    19119  FOR_SALE  40.052326 -75.193275   \n",
       "\n",
       "                                             Image property  price_per_sqft  \n",
       "zpid                                                                         \n",
       "10285435  https://photos.zillowstatic.com/fp/f5cca126d4e...      231.300403  "
      ]
     },
     "execution_count": 158,
     "metadata": {},
     "output_type": "execute_result"
    }
   ],
   "source": [
    "#Add a variable for the ZPID. Add a variable \"Purchase_house\" to be the ZPID of the house we are looking to buy. \n",
    "ZPID = '10285435'\n",
    "Purchase_house = current_price_df.loc[[ZPID]]\n",
    "Purchase_house"
   ]
  },
  {
   "cell_type": "code",
   "execution_count": 208,
   "id": "db534d74-29ea-414f-bc92-61ec35627b2c",
   "metadata": {},
   "outputs": [],
   "source": [
    "# Add variables for the average price per square foot/bedrooms/bathrooms of the comparable properties\n",
    "sold_average_price_per_sqft = sold_price_df['price_per_sqft'].mean()\n",
    "sold_average_bathrooms = sold_price_df['bathrooms'].mean()\n",
    "sold_average_bedrooms = sold_price_df['bedrooms'].mean()"
   ]
  },
  {
   "cell_type": "code",
   "execution_count": 209,
   "id": "1ba77e15-e229-4f38-9571-1aa99ad7a536",
   "metadata": {},
   "outputs": [],
   "source": [
    "# Add variables for the price per square foot/bedrooms/bathrooms of the home we are looking to buy\n",
    "Purchase_house_price_per_sqft = Purchase_house.loc[ZPID,'price_per_sqft'] \n",
    "Purchase_house_bathrooms = Purchase_house.loc[ZPID,'bathrooms'] \n",
    "Purchase_house_bedrooms = Purchase_house.loc[ZPID,'bedrooms'] "
   ]
  },
  {
   "cell_type": "code",
   "execution_count": 210,
   "id": "31c0c905-75cc-448d-803f-602580521ed0",
   "metadata": {},
   "outputs": [
    {
     "name": "stdout",
     "output_type": "stream",
     "text": [
      "0.2\n"
     ]
    }
   ],
   "source": [
    "# Add variables that are the difference per square foot/bedrooms/bathrooms of the comparables price per sqft vs. the house we want to buy\n",
    "difference_sqft = round((sold_average_price_per_sqft - Purchase_house_price_per_sqft),2)\n",
    "difference_bathrooms = round((sold_average_bathrooms - Purchase_house_bathrooms), 2)\n",
    "difference_bedrooms = round((sold_average_bedrooms - Purchase_house_bedrooms), 2)\n",
    "print(difference_bathrooms)"
   ]
  },
  {
   "cell_type": "code",
   "execution_count": 211,
   "id": "9b565f7d-aee2-4e7e-b77b-53fd4111b29e",
   "metadata": {},
   "outputs": [],
   "source": [
    "# Add a variable for our estimated Fair Value of the home we are looking to buy ( comparables average price per sq ft * purchase home sq ft)\n",
    "Calculated_Home_Value = round((sold_average_price_per_sqft *  Purchase_house.loc['10285435','Area in sqft.']),2)"
   ]
  },
  {
   "cell_type": "code",
   "execution_count": 200,
   "id": "d9e9521f-0990-4de5-a49c-bf1a0bef2172",
   "metadata": {},
   "outputs": [
    {
     "name": "stdout",
     "output_type": "stream",
     "text": [
      "We estimate the fair value of this house to be $421773.25. This house is $-18.71 per square foot more expensive than comparable properties. We don't recommend you buy this house.\n"
     ]
    }
   ],
   "source": [
    "# Add a function to return our recommendation \n",
    "def recommendation(): \n",
    "    if sold_average_price_per_sqft > Purchase_house_price_per_sqft:\n",
    "        print(f\"We estimate the fair value of this house to be ${Calculated_Home_Value}. This house is ${difference_sqft} per square foot less expensive than comparable properties. We recommend you buy this house.\")\n",
    "    else:\n",
    "        print(f\"We estimate the fair value of this house to be ${Calculated_Home_Value}. This house is ${difference_sqft} per square foot more expensive than comparable properties. We don't recommend you buy this house.\")\n",
    "recommendation()"
   ]
  },
  {
   "cell_type": "code",
   "execution_count": null,
   "id": "3240984d-1e0a-4403-9d06-e101d4e9dd47",
   "metadata": {},
   "outputs": [],
   "source": [
    "# Add functions to return other statistics on sqft\n",
    "def other_info_sqft(): \n",
    "    if sold_average_bathrooms > Purchase_house_bathrooms:\n",
    "        print(f\"The property you are looking to buy has {difference_bathrooms: .2f} fewer bathrooms than the average of the comparables.\")\n",
    "    elif sold_average_bathrooms == Purchase_house_bathrooms:\n",
    "        print(f\"The property you are looking to buy has the same amount of bathrooms as the average of the comparable properties.\")\n",
    "    else:\n",
    "        print(f\"The property you are looking to buy has {difference_bathrooms: .2f} more bathrooms than the average of the comparables.\")\n",
    "\n",
    "other_info_bathrooms()"
   ]
  },
  {
   "cell_type": "code",
   "execution_count": 212,
   "id": "5242bcec-536a-4b4d-a0bd-5028c8e8322f",
   "metadata": {},
   "outputs": [
    {
     "name": "stdout",
     "output_type": "stream",
     "text": [
      "The property you are looking to buy has  0.20 fewer bathrooms than the average of the comparables.\n"
     ]
    }
   ],
   "source": [
    "# Add functions to return other statistics on bathrooms\n",
    "def other_info_bathrooms(): \n",
    "    if sold_average_bathrooms > Purchase_house_bathrooms:\n",
    "        print(f\"The property you are looking to buy has {difference_bathrooms: .2f} fewer bathrooms than the average of the comparables.\")\n",
    "    elif sold_average_bathrooms == Purchase_house_bathrooms:\n",
    "        print(f\"The property you are looking to buy has the same amount of bathrooms as the average of the comparable properties.\")\n",
    "    else:\n",
    "        print(f\"The property you are looking to buy has {difference_bathrooms: .2f} more bathrooms than the average of the comparables.\")\n",
    "\n",
    "other_info_bathrooms()"
   ]
  },
  {
   "cell_type": "code",
   "execution_count": 202,
   "id": "bf0a6d0e-8b90-48da-b96b-2fa5bcf38bd3",
   "metadata": {},
   "outputs": [
    {
     "name": "stdout",
     "output_type": "stream",
     "text": [
      "The property you are looking to buy has  0.00 more bedrooms than the average of the comparables.\n"
     ]
    }
   ],
   "source": [
    "# Add functions to return other statistics on bedrooms\n",
    "def other_info_bedrooms(): \n",
    "    if sold_average_bathrooms > Purchase_house_bathrooms:\n",
    "        print(f\"The property you are looking to buy has {difference_bedrooms: .2f} more bedrooms than the average of the comparables.\")\n",
    "    elif difference_bedrooms == 0.0:\n",
    "        print(f\"The property you are looking to buy has the same amount of bedrooms as the average of the comparable properties.\")\n",
    "    else:\n",
    "        print(f\"The property you are looking to buy has {difference_bedrooms: .2f} fewer bedrooms than the average of the comparables.\")\n",
    "\n",
    "other_info_bedrooms()"
   ]
  },
  {
   "cell_type": "code",
   "execution_count": 203,
   "id": "48886eef-f10c-4e19-aa96-61b07de174ae",
   "metadata": {},
   "outputs": [],
   "source": [
    "import dash\n",
    "import dash_core_components as dcc\n",
    "import dash_html_components as html\n",
    "import plotly.express as px\n",
    "from dash.dependencies import Input, Output"
   ]
  },
  {
   "cell_type": "code",
   "execution_count": 213,
   "id": "e24c33c8-1a41-417b-9678-284524f802b4",
   "metadata": {},
   "outputs": [],
   "source": [
    "#input_types = [\"zpid\"]\n",
    "#app.layout = html.Div[html.Div([])]"
   ]
  },
  {
   "cell_type": "code",
   "execution_count": null,
   "id": "a5e99508-197f-4ce5-9d83-f6de084349f7",
   "metadata": {},
   "outputs": [],
   "source": [
    "#Create a for loop to calculate the Estimated Fair Value for each house on the market:\n",
    "\n",
    "for ZPID in \n"
   ]
  },
  {
   "cell_type": "code",
   "execution_count": null,
   "id": "73d506f9-227d-42df-89d6-5e16132b2d43",
   "metadata": {},
   "outputs": [],
   "source": []
  }
 ],
 "metadata": {
  "kernelspec": {
   "display_name": "Python 3 (ipykernel)",
   "language": "python",
   "name": "python3"
  },
  "language_info": {
   "codemirror_mode": {
    "name": "ipython",
    "version": 3
   },
   "file_extension": ".py",
   "mimetype": "text/x-python",
   "name": "python",
   "nbconvert_exporter": "python",
   "pygments_lexer": "ipython3",
   "version": "3.8.8"
  }
 },
 "nbformat": 4,
 "nbformat_minor": 5
}
