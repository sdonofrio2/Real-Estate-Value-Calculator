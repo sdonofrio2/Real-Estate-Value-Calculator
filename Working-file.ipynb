{
 "cells": [
  {
   "cell_type": "code",
   "execution_count": 1,
   "id": "afd2a9c5-2b42-4eb0-b69d-c00a0352628d",
   "metadata": {},
   "outputs": [],
   "source": [
    " # Import libraries\n",
    "import pandas as pd\n",
    "import pickle as pk\n",
    "\n",
    "# import libraries for api\n",
    "import os\n",
    "from dotenv import load_dotenv \n",
    "import requests\n",
    "import json\n",
    "\n",
    "# import libraries for vizualization\n",
    "import plotly.express as px\n",
    "import panel as pn\n",
    "from pprint import pprint"
   ]
  },
  {
   "cell_type": "code",
   "execution_count": 3,
   "id": "8f18c459-e64f-4ecd-83a7-dc27c2c45f36",
   "metadata": {},
   "outputs": [],
   "source": [
    "### Open data from a pickle\n",
    "filename = \"Zillow_data\"\n",
    "infile = open(filename,'rb')\n",
    "new_dict = pk.load(infile)\n",
    "infile.close()"
   ]
  },
  {
   "cell_type": "code",
   "execution_count": 4,
   "id": "03646a90-94ed-40f6-9563-1df8ec50901f",
   "metadata": {},
   "outputs": [
    {
     "name": "stdout",
     "output_type": "stream",
     "text": [
      "('{\"props\":[{\"bathrooms\":2,\"propertyType\":\"SINGLE_FAMILY\",\"lotAreaValue\":1742.4,\"address\":\"318 '\n",
      " 'W Ruscomb St, Philadelphia, PA '\n",
      " '19120\",\"imgSrc\":\"https:\\\\/\\\\/photos.zillowstatic.com\\\\/fp\\\\/c528e4507f6a3a9faa6a6397b3b76d10-p_e.jpg\",\"price\":150000,\"listingDateTime\":null,\"listingStatus\":\"FOR_SALE\",\"zpid\":\"10428068\",\"longitude\":-75.13041,\"latitude\":40.026787,\"lotAreaUnit\":\"sqft\",\"daysOnZillow\":-1,\"bedrooms\":4,\"country\":\"USA\",\"currency\":\"USD\",\"livingArea\":1440,\"hasImage\":true},{\"bathrooms\":2,\"propertyType\":\"SINGLE_FAMILY\",\"lotAreaValue\":3920.4,\"address\":\"4913 '\n",
      " 'Castor Ave, Philadelphia, PA '\n",
      " '19124\",\"imgSrc\":\"https:\\\\/\\\\/photos.zillowstatic.com\\\\/fp\\\\/84229141ec1a1182fc4dde2a43f49ff9-p_e.jpg\",\"price\":325000,\"listingDateTime\":null,\"listingStatus\":\"FOR_SALE\",\"zpid\":\"10291269\",\"longitude\":-75.09111,\"latitude\":40.024803,\"lotAreaUnit\":\"sqft\",\"daysOnZillow\":-1,\"bedrooms\":4,\"country\":\"USA\",\"currency\":\"USD\",\"livingArea\":1920,\"hasImage\":true},{\"bathrooms\":4,\"propertyType\":\"SINGLE_FAMILY\",\"lotAreaValue\":0.43,\"address\":\"200 '\n",
      " 'W Walnut Ln, Philadelphia, PA '\n",
      " '19144\",\"imgSrc\":\"https:\\\\/\\\\/photos.zillowstatic.com\\\\/fp\\\\/b90b6b03745161ef03185f48b39108ff-p_e.jpg\",\"price\":869000,\"listingDateTime\":null,\"listingStatus\":\"FOR_SALE\",\"zpid\":\"2068504637\",\"longitude\":-75.181816,\"latitude\":40.03705,\"lotAreaUnit\":\"acres\",\"daysOnZillow\":-1,\"bedrooms\":5,\"country\":\"USA\",\"currency\":\"USD\",\"livingArea\":3857,\"hasImage\":true},{\"bathrooms\":4,\"propertyType\":\"SINGLE_FAMILY\",\"lotAreaValue\":9583.2,\"address\":\"2320 '\n",
      " 'N 50th St, Philadelphia, PA '\n",
      " '19131\",\"imgSrc\":\"https:\\\\/\\\\/photos.zillowstatic.com\\\\/fp\\\\/458505836a3cd0dee9b41ca26730cc54-p_e.jpg\",\"price\":267000,\"listingDateTime\":null,\"listingStatus\":\"FOR_SALE\",\"zpid\":\"10486635\",\"longitude\":-75.227104,\"latitude\":39.99618,\"lotAreaUnit\":\"sqft\",\"daysOnZillow\":-1,\"bedrooms\":5,\"country\":\"USA\",\"currency\":\"USD\",\"livingArea\":4520,\"hasImage\":true},{\"bathrooms\":3,\"propertyType\":\"SINGLE_FAMILY\",\"lotAreaValue\":3049.2,\"address\":\"522 '\n",
      " 'Gilham St, Philadelphia, PA '\n",
      " '19111\",\"imgSrc\":\"https:\\\\/\\\\/photos.zillowstatic.com\\\\/fp\\\\/04cc332dd77b89d24aea45abf22b0325-p_e.jpg\",\"price\":144000,\"listingDateTime\":null,\"listingStatus\":\"FOR_SALE\",\"zpid\":\"2071261604\",\"longitude\":-75.092926,\"latitude\":40.05096,\"lotAreaUnit\":\"sqft\",\"daysOnZillow\":-1,\"bedrooms\":5,\"country\":\"USA\",\"currency\":\"USD\",\"livingArea\":2007,\"hasImage\":true},{\"bathrooms\":2,\"propertyType\":\"SINGLE_FAMILY\",\"lotAreaValue\":3049.2,\"address\":\"11133 '\n",
      " 'Templeton Dr, Philadelphia, PA '\n",
      " '19154\",\"imgSrc\":\"https:\\\\/\\\\/photos.zillowstatic.com\\\\/fp\\\\/41a70b40f7e2c69e9664456c09f0e7e7-p_e.jpg\",\"price\":309999,\"listingDateTime\":null,\"listingStatus\":\"FOR_SALE\",\"zpid\":\"10581168\",\"longitude\":-74.97971,\"latitude\":40.08455,\"lotAreaUnit\":\"sqft\",\"daysOnZillow\":-1,\"bedrooms\":3,\"country\":\"USA\",\"currency\":\"USD\",\"livingArea\":1254,\"hasImage\":true},{\"bathrooms\":2,\"propertyType\":\"SINGLE_FAMILY\",\"lotAreaValue\":1742.4,\"address\":\"1333 '\n",
      " 'N Redfield St, Philadelphia, PA '\n",
      " '19151\",\"imgSrc\":\"https:\\\\/\\\\/photos.zillowstatic.com\\\\/fp\\\\/048835ff285cff4a49e352e15fe9cd09-p_e.jpg\",\"price\":260000,\"listingDateTime\":null,\"listingStatus\":\"FOR_SALE\",\"zpid\":\"10344057\",\"longitude\":-75.238495,\"latitude\":39.972546,\"lotAreaUnit\":\"sqft\",\"daysOnZillow\":-1,\"bedrooms\":3,\"country\":\"USA\",\"currency\":\"USD\",\"livingArea\":1350,\"hasImage\":true},{\"bathrooms\":3,\"propertyType\":\"SINGLE_FAMILY\",\"lotAreaValue\":3484.8,\"address\":\"3614 '\n",
      " 'Welsh Rd, Philadelphia, PA '\n",
      " '19136\",\"imgSrc\":\"https:\\\\/\\\\/photos.zillowstatic.com\\\\/fp\\\\/3e8f02c9c8591674efab70e6f1bfe297-p_e.jpg\",\"price\":210000,\"listingDateTime\":null,\"listingStatus\":\"FOR_SALE\",\"zpid\":\"10571315\",\"longitude\":-75.02612,\"latitude\":40.042736,\"lotAreaUnit\":\"sqft\",\"daysOnZillow\":-1,\"bedrooms\":5,\"country\":\"USA\",\"currency\":\"USD\",\"livingArea\":1350,\"hasImage\":true},{\"bathrooms\":2,\"propertyType\":\"SINGLE_FAMILY\",\"lotAreaValue\":4791.6,\"address\":\"8814 '\n",
      " 'Danbury St, Philadelphia, PA '\n",
      " '19152\",\"imgSrc\":\"https:\\\\/\\\\/photos.zillowstatic.com\\\\/fp\\\\/48b79ad5717fa7ca805e730829380840-p_e.jpg\",\"price\":315000,\"listingDateTime\":null,\"listingStatus\":\"FOR_SALE\",\"zpid\":\"10522272\",\"longitude\":-75.031845,\"latitude\":40.06518,\"lotAreaUnit\":\"sqft\",\"daysOnZillow\":-1,\"bedrooms\":3,\"country\":\"USA\",\"currency\":\"USD\",\"livingArea\":1392,\"hasImage\":true},{\"bathrooms\":1,\"propertyType\":\"SINGLE_FAMILY\",\"lotAreaValue\":2613.6,\"address\":\"8328 '\n",
      " 'Alicia St, Philadelphia, PA '\n",
      " '19111\",\"imgSrc\":\"https:\\\\/\\\\/photos.zillowstatic.com\\\\/fp\\\\/e10c0256e99042fe659b716ca2ba8824-p_e.jpg\",\"price\":259900,\"listingDateTime\":null,\"listingStatus\":\"FOR_SALE\",\"zpid\":\"10562210\",\"longitude\":-75.07769,\"latitude\":40.080826,\"lotAreaUnit\":\"sqft\",\"daysOnZillow\":-1,\"bedrooms\":2,\"country\":\"USA\",\"currency\":\"USD\",\"livingArea\":1000,\"hasImage\":true},{\"bathrooms\":1,\"propertyType\":\"SINGLE_FAMILY\",\"lotAreaValue\":6098.4,\"address\":\"1004 '\n",
      " 'Sanibel St, Philadelphia, PA '\n",
      " '19116\",\"imgSrc\":\"https:\\\\/\\\\/photos.zillowstatic.com\\\\/fp\\\\/abf8af63a54ae1fb85e4f30b5c2c3d71-p_e.jpg\",\"price\":180000,\"listingDateTime\":null,\"listingStatus\":\"FOR_SALE\",\"zpid\":\"10530575\",\"longitude\":-75.019356,\"latitude\":40.110508,\"lotAreaUnit\":\"sqft\",\"daysOnZillow\":-1,\"bedrooms\":4,\"country\":\"USA\",\"currency\":\"USD\",\"livingArea\":1412,\"hasImage\":true},{\"bathrooms\":2,\"propertyType\":\"SINGLE_FAMILY\",\"lotAreaValue\":2613.6,\"address\":\"7661 '\n",
      " 'Fillmore St, Philadelphia, PA '\n",
      " '19111\",\"imgSrc\":\"https:\\\\/\\\\/photos.zillowstatic.com\\\\/fp\\\\/0abeaaf3eb12e33cf4a7b2862c8fda24-p_e.jpg\",\"price\":274900,\"listingDateTime\":null,\"listingStatus\":\"FOR_SALE\",\"zpid\":\"10561841\",\"longitude\":-75.09152,\"latitude\":40.073647,\"lotAreaUnit\":\"sqft\",\"daysOnZillow\":-1,\"bedrooms\":2,\"country\":\"USA\",\"currency\":\"USD\",\"livingArea\":900,\"hasImage\":true},{\"bathrooms\":3,\"propertyType\":\"SINGLE_FAMILY\",\"lotAreaValue\":6098.4,\"address\":\"435 '\n",
      " 'Hendrix St, Philadelphia, PA '\n",
      " '19116\",\"imgSrc\":\"https:\\\\/\\\\/photos.zillowstatic.com\\\\/fp\\\\/717261beddb522f912a769c2d68f0d3f-p_e.jpg\",\"price\":429900,\"listingDateTime\":null,\"listingStatus\":\"FOR_SALE\",\"zpid\":\"80947824\",\"longitude\":-75.022354,\"latitude\":40.12208,\"lotAreaUnit\":\"sqft\",\"daysOnZillow\":-1,\"bedrooms\":4,\"country\":\"USA\",\"currency\":\"USD\",\"livingArea\":2665,\"hasImage\":true},{\"bathrooms\":3,\"propertyType\":\"SINGLE_FAMILY\",\"lotAreaValue\":3920.4,\"address\":\"6310 '\n",
      " 'N 5th St, Philadelphia, PA '\n",
      " '19126\",\"imgSrc\":\"https:\\\\/\\\\/photos.zillowstatic.com\\\\/fp\\\\/2c6e71d767085033406bdba095a8321c-p_e.jpg\",\"price\":264900,\"listingDateTime\":null,\"listingStatus\":\"FOR_SALE\",\"zpid\":\"10545517\",\"longitude\":-75.1283,\"latitude\":40.04797,\"lotAreaUnit\":\"sqft\",\"daysOnZillow\":-1,\"bedrooms\":3,\"country\":\"USA\",\"currency\":\"USD\",\"livingArea\":1296,\"hasImage\":true},{\"bathrooms\":3,\"propertyType\":\"SINGLE_FAMILY\",\"lotAreaValue\":1742.4,\"address\":\"5616 '\n",
      " 'Pine St, Philadelphia, PA '\n",
      " '19143\",\"imgSrc\":\"https:\\\\/\\\\/photos.zillowstatic.com\\\\/fp\\\\/5a151b353f5fb34be8ebdb42f55f4c76-p_e.jpg\",\"price\":290000,\"listingDateTime\":null,\"listingStatus\":\"FOR_SALE\",\"zpid\":\"10543196\",\"longitude\":-75.23493,\"latitude\":39.954407,\"lotAreaUnit\":\"sqft\",\"daysOnZillow\":-1,\"bedrooms\":4,\"country\":\"USA\",\"currency\":\"USD\",\"livingArea\":1664,\"hasImage\":true},{\"bathrooms\":1,\"propertyType\":\"SINGLE_FAMILY\",\"lotAreaValue\":2178,\"address\":\"4520 '\n",
      " 'McKinley St, Philadelphia, PA '\n",
      " '19135\",\"imgSrc\":\"https:\\\\/\\\\/photos.zillowstatic.com\\\\/fp\\\\/5731cb27ab5f524b5564f891fd20aec8-p_e.jpg\",\"price\":245000,\"listingDateTime\":null,\"listingStatus\":\"FOR_SALE\",\"zpid\":\"10415768\",\"longitude\":-75.05649,\"latitude\":40.02128,\"lotAreaUnit\":\"sqft\",\"daysOnZillow\":-1,\"bedrooms\":3,\"country\":\"USA\",\"currency\":\"USD\",\"livingArea\":1088,\"hasImage\":true},{\"bathrooms\":3,\"propertyType\":\"SINGLE_FAMILY\",\"lotAreaValue\":4356,\"address\":\"7033 '\n",
      " 'Lincoln Dr, Philadelphia, PA '\n",
      " '19119\",\"imgSrc\":\"https:\\\\/\\\\/photos.zillowstatic.com\\\\/fp\\\\/f5cca126d4e42925c2a93cf45342184c-p_e.jpg\",\"price\":458900,\"listingDateTime\":null,\"listingStatus\":\"FOR_SALE\",\"zpid\":\"10285435\",\"longitude\":-75.193275,\"latitude\":40.052326,\"lotAreaUnit\":\"sqft\",\"daysOnZillow\":-1,\"bedrooms\":4,\"country\":\"USA\",\"currency\":\"USD\",\"livingArea\":1984,\"hasImage\":true},{\"bathrooms\":2,\"propertyType\":\"SINGLE_FAMILY\",\"lotAreaValue\":1306.8,\"address\":\"3825 '\n",
      " 'Cambridge St, Philadelphia, PA '\n",
      " '19104\",\"imgSrc\":\"https:\\\\/\\\\/photos.zillowstatic.com\\\\/fp\\\\/744f7e33f90b6a48b46bca07d6c50a3b-p_e.jpg\",\"price\":229999,\"listingDateTime\":null,\"listingStatus\":\"FOR_SALE\",\"zpid\":\"10592206\",\"longitude\":-75.20022,\"latitude\":39.973988,\"lotAreaUnit\":\"sqft\",\"daysOnZillow\":-1,\"bedrooms\":5,\"country\":\"USA\",\"currency\":\"USD\",\"livingArea\":1776,\"hasImage\":true},{\"bathrooms\":5,\"propertyType\":\"SINGLE_FAMILY\",\"lotAreaValue\":0.29,\"address\":\"7519 '\n",
      " 'Fowler St, Philadelphia, PA '\n",
      " '19128\",\"imgSrc\":\"https:\\\\/\\\\/photos.zillowstatic.com\\\\/fp\\\\/73f00141401d8eafdc135d8454e64094-p_e.jpg\",\"price\":849000,\"listingDateTime\":null,\"listingStatus\":\"FOR_SALE\",\"zpid\":\"2067596161\",\"longitude\":-75.239525,\"latitude\":40.04752,\"lotAreaUnit\":\"acres\",\"daysOnZillow\":-1,\"bedrooms\":4,\"country\":\"USA\",\"currency\":\"USD\",\"livingArea\":3600,\"hasImage\":true},{\"bathrooms\":3,\"propertyType\":\"SINGLE_FAMILY\",\"lotAreaValue\":4356,\"address\":\"218 '\n",
      " 'E Benezet St, Philadelphia, PA '\n",
      " '19118\",\"imgSrc\":\"https:\\\\/\\\\/photos.zillowstatic.com\\\\/fp\\\\/5e8eeda22213a6320e51b51b14c02259-p_e.jpg\",\"price\":699000,\"listingDateTime\":null,\"listingStatus\":\"FOR_SALE\",\"zpid\":\"2111077001\",\"longitude\":-75.19724,\"latitude\":40.07272,\"lotAreaUnit\":\"sqft\",\"daysOnZillow\":-1,\"bedrooms\":4,\"country\":\"USA\",\"currency\":\"USD\",\"livingArea\":2198,\"hasImage\":true},{\"bathrooms\":2,\"propertyType\":\"SINGLE_FAMILY\",\"lotAreaValue\":6969.6,\"address\":\"15036 '\n",
      " 'Milford St, Philadelphia, PA '\n",
      " '19116\",\"imgSrc\":\"https:\\\\/\\\\/photos.zillowstatic.com\\\\/fp\\\\/a0a79d9b914c5af1941793039902e6a4-p_e.jpg\",\"price\":329900,\"listingDateTime\":null,\"listingStatus\":\"FOR_SALE\",\"zpid\":\"10534810\",\"longitude\":-74.99207,\"latitude\":40.121548,\"lotAreaUnit\":\"sqft\",\"daysOnZillow\":-1,\"bedrooms\":3,\"country\":\"USA\",\"currency\":\"USD\",\"livingArea\":1349,\"hasImage\":true},{\"bathrooms\":2,\"propertyType\":\"SINGLE_FAMILY\",\"lotAreaValue\":2613.6,\"address\":\"1604 '\n",
      " 'Lindley Ave, Philadelphia, PA '\n",
      " '19141\",\"imgSrc\":\"https:\\\\/\\\\/photos.zillowstatic.com\\\\/fp\\\\/8eed59e7988288ea96dcc88c3ade8170-p_e.jpg\",\"price\":260000,\"listingDateTime\":null,\"listingStatus\":\"FOR_SALE\",\"zpid\":\"10249709\",\"longitude\":-75.150154,\"latitude\":40.030872,\"lotAreaUnit\":\"sqft\",\"daysOnZillow\":-1,\"bedrooms\":4,\"country\":\"USA\",\"currency\":\"USD\",\"livingArea\":2102,\"hasImage\":true},{\"bathrooms\":4,\"propertyType\":\"SINGLE_FAMILY\",\"lotAreaValue\":5227.2,\"address\":\"2285 '\n",
      " 'N 51st St, Philadelphia, PA '\n",
      " '19131\",\"imgSrc\":\"https:\\\\/\\\\/photos.zillowstatic.com\\\\/fp\\\\/d80f25cfd7e1d52fc2ddb19809992a19-p_e.jpg\",\"price\":399900,\"listingDateTime\":null,\"listingStatus\":\"FOR_SALE\",\"zpid\":\"10486771\",\"longitude\":-75.22827,\"latitude\":39.994003,\"lotAreaUnit\":\"sqft\",\"daysOnZillow\":-1,\"bedrooms\":4,\"country\":\"USA\",\"currency\":\"USD\",\"livingArea\":2640,\"hasImage\":true},{\"bathrooms\":1,\"propertyType\":\"SINGLE_FAMILY\",\"lotAreaValue\":1742.4,\"address\":\"438 '\n",
      " 'W Mount Airy Ave, Philadelphia, PA '\n",
      " '19119\",\"imgSrc\":\"https:\\\\/\\\\/photos.zillowstatic.com\\\\/fp\\\\/557dd96c04f5cd20ca7d110e077ef8f1-p_e.jpg\",\"price\":375000,\"listingDateTime\":null,\"listingStatus\":\"FOR_SALE\",\"zpid\":\"10213970\",\"longitude\":-75.19821,\"latitude\":40.05292,\"lotAreaUnit\":\"sqft\",\"daysOnZillow\":-1,\"bedrooms\":3,\"country\":\"USA\",\"currency\":\"USD\",\"livingArea\":1575,\"hasImage\":true},{\"bathrooms\":2,\"propertyType\":\"SINGLE_FAMILY\",\"lotAreaValue\":3049.2,\"address\":\"420 '\n",
      " 'Hartel Ave, Philadelphia, PA '\n",
      " '19111\",\"imgSrc\":\"https:\\\\/\\\\/photos.zillowstatic.com\\\\/fp\\\\/46e897b77711ed3f27cea0be9e9af587-p_e.jpg\",\"price\":324900,\"listingDateTime\":null,\"listingStatus\":\"FOR_SALE\",\"zpid\":\"10563074\",\"longitude\":-75.08709,\"latitude\":40.07299,\"lotAreaUnit\":\"sqft\",\"daysOnZillow\":-1,\"bedrooms\":3,\"country\":\"USA\",\"currency\":\"USD\",\"livingArea\":1536,\"hasImage\":true},{\"bathrooms\":1,\"propertyType\":\"SINGLE_FAMILY\",\"lotAreaValue\":923,\"address\":\"847 '\n",
      " 'E Westmoreland St, Philadelphia, PA '\n",
      " '19134\",\"imgSrc\":\"https:\\\\/\\\\/photos.zillowstatic.com\\\\/fp\\\\/755fe521a787d29553177ad5e4451eca-p_e.jpg\",\"price\":49900,\"listingDateTime\":null,\"listingStatus\":\"FOR_SALE\",\"zpid\":\"10334072\",\"longitude\":-75.113716,\"latitude\":39.99831,\"lotAreaUnit\":\"sqft\",\"daysOnZillow\":-1,\"bedrooms\":3,\"country\":\"USA\",\"currency\":\"USD\",\"livingArea\":1350,\"hasImage\":true},{\"bathrooms\":5,\"propertyType\":\"SINGLE_FAMILY\",\"lotAreaValue\":1.03,\"address\":\"640 '\n",
      " 'Gate House Ln, Philadelphia, PA '\n",
      " '19118\",\"imgSrc\":\"https:\\\\/\\\\/photos.zillowstatic.com\\\\/fp\\\\/7e6463ba2c846f6c180b6fe532a1f64a-p_e.jpg\",\"price\":3595000,\"listingDateTime\":null,\"listingStatus\":\"FOR_SALE\",\"zpid\":\"2067980164\",\"longitude\":-75.20758,\"latitude\":40.055862,\"lotAreaUnit\":\"acres\",\"daysOnZillow\":-1,\"bedrooms\":4,\"country\":\"USA\",\"currency\":\"USD\",\"livingArea\":4354,\"hasImage\":true},{\"bathrooms\":2,\"propertyType\":\"SINGLE_FAMILY\",\"lotAreaValue\":1306.8,\"address\":\"125 '\n",
      " 'Green Ln, Philadelphia, PA '\n",
      " '19127\",\"imgSrc\":\"https:\\\\/\\\\/photos.zillowstatic.com\\\\/fp\\\\/4856e83672606970df9d3ebbb0ff692c-p_e.jpg\",\"price\":280000,\"listingDateTime\":null,\"listingStatus\":\"FOR_SALE\",\"zpid\":\"10267688\",\"longitude\":-75.22617,\"latitude\":40.027405,\"lotAreaUnit\":\"sqft\",\"daysOnZillow\":-1,\"bedrooms\":3,\"country\":\"USA\",\"currency\":\"USD\",\"livingArea\":1242,\"hasImage\":true},{\"bathrooms\":2,\"propertyType\":\"SINGLE_FAMILY\",\"lotAreaValue\":2178,\"address\":\"480 '\n",
      " 'Markle St, Philadelphia, PA '\n",
      " '19128\",\"imgSrc\":\"https:\\\\/\\\\/photos.zillowstatic.com\\\\/fp\\\\/38fc32fa544b221284f77cedd94a654d-p_e.jpg\",\"price\":309900,\"listingDateTime\":null,\"listingStatus\":\"FOR_SALE\",\"zpid\":\"10270130\",\"longitude\":-75.20986,\"latitude\":40.025146,\"lotAreaUnit\":\"sqft\",\"daysOnZillow\":-1,\"bedrooms\":3,\"country\":\"USA\",\"currency\":\"USD\",\"livingArea\":1292,\"hasImage\":true},{\"bathrooms\":3,\"propertyType\":\"SINGLE_FAMILY\",\"lotAreaValue\":6098.4,\"address\":\"842 '\n",
      " 'E Cathedral Rd, Philadelphia, PA '\n",
      " '19128\",\"imgSrc\":\"https:\\\\/\\\\/photos.zillowstatic.com\\\\/fp\\\\/aa2faccafbc42cfb5b8ba9fa2ce4c38f-p_e.jpg\",\"price\":489900,\"listingDateTime\":null,\"listingStatus\":\"FOR_SALE\",\"zpid\":\"2067615925\",\"longitude\":-75.23278,\"latitude\":40.06606,\"lotAreaUnit\":\"sqft\",\"daysOnZillow\":-1,\"bedrooms\":3,\"country\":\"USA\",\"currency\":\"USD\",\"livingArea\":2000,\"hasImage\":true},{\"bathrooms\":2,\"propertyType\":\"SINGLE_FAMILY\",\"lotAreaValue\":3484.8,\"address\":\"385 '\n",
      " 'Dawson St, Philadelphia, PA '\n",
      " '19128\",\"imgSrc\":\"https:\\\\/\\\\/photos.zillowstatic.com\\\\/fp\\\\/b84cd895c232b6f5f7ee40937fe1bb13-p_e.jpg\",\"price\":499900,\"listingDateTime\":null,\"listingStatus\":\"FOR_SALE\",\"zpid\":\"10273816\",\"longitude\":-75.20812,\"latitude\":40.019787,\"lotAreaUnit\":\"sqft\",\"daysOnZillow\":-1,\"bedrooms\":3,\"country\":\"USA\",\"currency\":\"USD\",\"livingArea\":2482,\"hasImage\":true},{\"bathrooms\":3,\"propertyType\":\"SINGLE_FAMILY\",\"lotAreaValue\":7405.2,\"address\":\"6326 '\n",
      " 'Hasbrook Ave, Philadelphia, PA '\n",
      " '19111\",\"imgSrc\":\"https:\\\\/\\\\/photos.zillowstatic.com\\\\/fp\\\\/5cec86dede34346a170e9b9cffdb1405-p_e.jpg\",\"price\":305000,\"listingDateTime\":null,\"listingStatus\":\"FOR_SALE\",\"zpid\":\"10360239\",\"longitude\":-75.100044,\"latitude\":40.051193,\"lotAreaUnit\":\"sqft\",\"daysOnZillow\":-1,\"bedrooms\":5,\"country\":\"USA\",\"currency\":\"USD\",\"livingArea\":2100,\"hasImage\":true},{\"bathrooms\":4,\"propertyType\":\"SINGLE_FAMILY\",\"lotAreaValue\":1742.4,\"address\":\"1138 '\n",
      " 'Harrison St, Philadelphia, PA '\n",
      " '19124\",\"imgSrc\":\"https:\\\\/\\\\/photos.zillowstatic.com\\\\/fp\\\\/af62fb0a8781f80810f9fd3f6d00375d-p_e.jpg\",\"price\":299900,\"listingDateTime\":null,\"listingStatus\":\"FOR_SALE\",\"zpid\":\"10290711\",\"longitude\":-75.088524,\"latitude\":40.022465,\"lotAreaUnit\":\"sqft\",\"daysOnZillow\":-1,\"bedrooms\":4,\"country\":\"USA\",\"currency\":\"USD\",\"livingArea\":2016,\"hasImage\":true},{\"bathrooms\":4,\"propertyType\":\"SINGLE_FAMILY\",\"lotAreaValue\":5227.2,\"address\":\"100 '\n",
      " 'County Line Rd, Philadelphia, PA '\n",
      " '19116\",\"imgSrc\":\"https:\\\\/\\\\/photos.zillowstatic.com\\\\/fp\\\\/ca0ace079b1ace122d1def617616c98a-p_e.jpg\",\"price\":468900,\"listingDateTime\":null,\"listingStatus\":\"FOR_SALE\",\"zpid\":\"10533805\",\"longitude\":-75.015045,\"latitude\":40.137695,\"lotAreaUnit\":\"sqft\",\"daysOnZillow\":-1,\"bedrooms\":4,\"country\":\"USA\",\"currency\":\"USD\",\"livingArea\":2350,\"hasImage\":true},{\"bathrooms\":5,\"propertyType\":\"SINGLE_FAMILY\",\"lotAreaValue\":2.36,\"address\":\"30 '\n",
      " 'W Bells Mill Rd, Philadelphia, PA '\n",
      " '19118\",\"imgSrc\":\"https:\\\\/\\\\/photos.zillowstatic.com\\\\/fp\\\\/87b6996eea9aa267c525b6a7177caea9-p_e.jpg\",\"price\":1875000,\"listingDateTime\":null,\"listingStatus\":\"FOR_SALE\",\"zpid\":\"10215202\",\"longitude\":-75.22263,\"latitude\":40.080257,\"lotAreaUnit\":\"acres\",\"daysOnZillow\":-1,\"bedrooms\":5,\"country\":\"USA\",\"currency\":\"USD\",\"livingArea\":6318,\"hasImage\":true},{\"bathrooms\":3,\"propertyType\":\"SINGLE_FAMILY\",\"lotAreaValue\":7405.2,\"address\":\"7814 '\n",
      " 'Ardleigh St, Philadelphia, PA '\n",
      " '19118\",\"imgSrc\":\"https:\\\\/\\\\/photos.zillowstatic.com\\\\/fp\\\\/87237d6699efbf16c9be68a21cc22393-p_e.jpg\",\"price\":595000,\"listingDateTime\":null,\"listingStatus\":\"FOR_SALE\",\"zpid\":\"165109684\",\"longitude\":-75.19694,\"latitude\":40.07148,\"lotAreaUnit\":\"sqft\",\"daysOnZillow\":-1,\"bedrooms\":4,\"country\":\"USA\",\"currency\":\"USD\",\"livingArea\":2205,\"hasImage\":true},{\"bathrooms\":5,\"propertyType\":\"SINGLE_FAMILY\",\"lotAreaValue\":0.51,\"address\":\"5 '\n",
      " 'E Chestnut Hill Ave, Philadelphia, PA '\n",
      " '19118\",\"imgSrc\":\"https:\\\\/\\\\/photos.zillowstatic.com\\\\/fp\\\\/1dd2a9f907262134686c37d1b1745db9-p_e.jpg\",\"price\":1250000,\"listingDateTime\":null,\"listingStatus\":\"FOR_SALE\",\"zpid\":\"2092097137\",\"longitude\":-75.21068,\"latitude\":40.078403,\"lotAreaUnit\":\"acres\",\"daysOnZillow\":-1,\"bedrooms\":6,\"country\":\"USA\",\"currency\":\"USD\",\"livingArea\":3780,\"hasImage\":true},{\"bathrooms\":3,\"propertyType\":\"SINGLE_FAMILY\",\"lotAreaValue\":0.25,\"address\":\"311 '\n",
      " 'Simms St, Philadelphia, PA '\n",
      " '19116\",\"imgSrc\":\"https:\\\\/\\\\/photos.zillowstatic.com\\\\/fp\\\\/e395b175a3af536154fb256b03e8de0f-p_e.jpg\",\"price\":514900,\"listingDateTime\":null,\"listingStatus\":\"FOR_SALE\",\"zpid\":\"10533350\",\"longitude\":-75.01661,\"latitude\":40.13407,\"lotAreaUnit\":\"acres\",\"daysOnZillow\":-1,\"bedrooms\":4,\"country\":\"USA\",\"currency\":\"USD\",\"livingArea\":2300,\"hasImage\":true},{\"bathrooms\":2,\"propertyType\":\"SINGLE_FAMILY\",\"lotAreaValue\":3484.8,\"address\":\"3445 '\n",
      " 'Aubrey Ave, Philadelphia, PA '\n",
      " '19114\",\"imgSrc\":\"https:\\\\/\\\\/photos.zillowstatic.com\\\\/fp\\\\/13ce40e9b13a4be499b2cb833ed3108e-p_e.jpg\",\"price\":175000,\"listingDateTime\":null,\"listingStatus\":\"FOR_SALE\",\"zpid\":\"10524437\",\"longitude\":-75.00528,\"latitude\":40.06336,\"lotAreaUnit\":\"sqft\",\"daysOnZillow\":-1,\"bedrooms\":3,\"country\":\"USA\",\"currency\":\"USD\",\"livingArea\":1224,\"hasImage\":true},{\"bathrooms\":1,\"propertyType\":\"SINGLE_FAMILY\",\"lotAreaValue\":871.2,\"address\":\"2543 '\n",
      " 'N Napa St, Philadelphia, PA '\n",
      " '19132\",\"imgSrc\":\"https:\\\\/\\\\/photos.zillowstatic.com\\\\/fp\\\\/21068f242d28a9eaaae73cd307fa917e-p_e.jpg\",\"price\":30000,\"listingDateTime\":null,\"listingStatus\":\"FOR_SALE\",\"zpid\":\"10313568\",\"longitude\":-75.182686,\"latitude\":39.995285,\"lotAreaUnit\":\"sqft\",\"daysOnZillow\":-1,\"bedrooms\":3,\"country\":\"USA\",\"currency\":\"USD\",\"livingArea\":924,\"hasImage\":true}],\"resultsPerPage\":40,\"totalResultCount\":541,\"totalPages\":14}')\n"
     ]
    }
   ],
   "source": [
    "pprint(new_dict.text)"
   ]
  },
  {
   "cell_type": "code",
   "execution_count": null,
   "id": "3322f9d7-788c-458d-986a-9e89abb50f8d",
   "metadata": {},
   "outputs": [],
   "source": []
  }
 ],
 "metadata": {
  "kernelspec": {
   "display_name": "Python [conda env:pyvizenv] *",
   "language": "python",
   "name": "conda-env-pyvizenv-py"
  },
  "language_info": {
   "codemirror_mode": {
    "name": "ipython",
    "version": 3
   },
   "file_extension": ".py",
   "mimetype": "text/x-python",
   "name": "python",
   "nbconvert_exporter": "python",
   "pygments_lexer": "ipython3",
   "version": "3.7.10"
  }
 },
 "nbformat": 4,
 "nbformat_minor": 5
}
