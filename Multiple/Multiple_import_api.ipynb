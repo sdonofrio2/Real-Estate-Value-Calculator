{
 "cells": [
  {
   "cell_type": "code",
   "execution_count": 1,
   "id": "269250c1",
   "metadata": {},
   "outputs": [],
   "source": [
    " # Import libraries\n",
    "import pandas as pd\n",
    "import pickle as pk\n",
    "\n",
    "# import libraries for api\n",
    "import os\n",
    "from dotenv import load_dotenv \n",
    "import requests\n",
    "import json\n",
    "\n",
    "# import libraries for vizualization\n",
    "from pprint import pprint"
   ]
  },
  {
   "cell_type": "code",
   "execution_count": 2,
   "id": "3f19caab",
   "metadata": {},
   "outputs": [],
   "source": [
    "# Import API"
   ]
  },
  {
   "cell_type": "code",
   "execution_count": 3,
   "id": "2bfde0ba",
   "metadata": {
    "collapsed": true,
    "jupyter": {
     "outputs_hidden": true
    }
   },
   "outputs": [
    {
     "name": "stdout",
     "output_type": "stream",
     "text": [
      "cb07c5da44msh5da7167914d0ae7p1acdc5jsna1515709e811\n"
     ]
    }
   ],
   "source": [
    "## Get API Keys\n",
    "load_dotenv(\"./environment/.env\")\n",
    "\n",
    "rapid_api_key = os.getenv(\"rapid_key\")\n",
    "rapid_api_host = os.getenv(\"rapid_host\")\n",
    "\n",
    "type(rapid_api_key)"
   ]
  },
  {
   "cell_type": "code",
   "execution_count": 4,
   "id": "57a921e2",
   "metadata": {},
   "outputs": [],
   "source": [
    "## Zillow currunt ---------------------------------------------------------------------------------------------------"
   ]
  },
  {
   "cell_type": "code",
   "execution_count": 5,
   "id": "c21c81b0",
   "metadata": {},
   "outputs": [
    {
     "name": "stdout",
     "output_type": "stream",
     "text": [
      "search string : Houses in philadelphia,pa\n"
     ]
    }
   ],
   "source": [
    "### Local & constants for zillow API\n",
    "home_type = \"Houses\"\n",
    "city = \"philadelphia\"\n",
    "state = \"pa\"\n",
    "search_str = city + \",\" + state\n",
    "\n",
    "print( f\"search string : {home_type} in {search_str}\")"
   ]
  },
  {
   "cell_type": "code",
   "execution_count": 6,
   "id": "80173351",
   "metadata": {},
   "outputs": [],
   "source": [
    "### Get Data from the API found on rapidAPI with API function ExtendedSearch (This is un undirect acces to Zillow)\n",
    "\n",
    "url_extended_search = \"https://zillow-com1.p.rapidapi.com/propertyExtendedSearch\"\n",
    "\n",
    "querystring_extended_search = {\"location\":search_str ,\n",
    "                               \"home_type\":home_type}\n",
    "\n",
    "headers = {\n",
    "    'x-rapidapi-host': rapid_api_host,\n",
    "    'x-rapidapi-key': rapid_api_key\n",
    "    }\n",
    "\n",
    "response_extended_search = requests.request(\"GET\", url_extended_search, headers=headers, params=querystring_extended_search)"
   ]
  },
  {
   "cell_type": "code",
   "execution_count": 8,
   "id": "b69472ab",
   "metadata": {},
   "outputs": [],
   "source": [
    "### Store data in a pickle: Zillow_data\n",
    "filename = \"Zillow_data\"\n",
    "outfile = open(filename, \"wb\")\n",
    "\n",
    "pk.dump(response_extended_search,outfile)\n",
    "outfile.close()"
   ]
  },
  {
   "cell_type": "code",
   "execution_count": 15,
   "id": "d45daa1e",
   "metadata": {},
   "outputs": [
    {
     "name": "stdout",
     "output_type": "stream",
     "text": [
      "num of rows: 40\n",
      "num of columns: 21\n"
     ]
    }
   ],
   "source": [
    "### Open Pickle to make a list ZPID for the houses currently for sale\n",
    "# Open Pickle\n",
    "filename = \"Zillow_data\"\n",
    "infile = open(filename,'rb')\n",
    "new_dict = pk.load(infile)\n",
    "infile.close()\n",
    "\n",
    "#Transform data to Json\n",
    "z_for_sale_resp =new_dict.json()\n",
    "\n",
    "# Transform Json data to DataFrame\n",
    "current_zillow_df = pd.json_normalize(data=z_for_sale_resp[\"props\"])\n",
    "print('num of rows:', len(current_zillow_df))\n",
    "print('num of columns:', len(current_zillow_df.columns))\n",
    "\n",
    "# make a list of the zpid as key to extract the data from the API similar_search, every ZPID is unique\n",
    "key = current_zillow_df[\"zpid\"].tolist()"
   ]
  },
  {
   "cell_type": "code",
   "execution_count": 11,
   "id": "e859ea18",
   "metadata": {},
   "outputs": [],
   "source": [
    "## Zillow similar search : similar recently sold ----------------------------------------------------------------------------------------------------"
   ]
  },
  {
   "cell_type": "code",
   "execution_count": 12,
   "id": "7360174a",
   "metadata": {},
   "outputs": [],
   "source": [
    "### Get Data from the API found on rapidAPI with API function SimilarSales (This is un undirect acces to Zillow)\n",
    "\n",
    "url_similar_house = \"https://zillow-com1.p.rapidapi.com/similarSales\"\n",
    "\n",
    "#Initiate a new dictionnary to contain the data that is goind to be extracted\n",
    "zpid_dict = {}\n",
    "\n",
    "for zpid in key:\n",
    "    # Create a query with one of the ZPID of the list key\n",
    "    querystring_similar_house = {\"zpid\":zpid}\n",
    "    \n",
    "    # Put the query in the API and save the data in the variable response_similar_house\n",
    "    response_similar_house = requests.request(\"GET\", url_similar_house, headers=headers, params = querystring_similar_house)\n",
    "    \n",
    "    # Add the extracted data in a dictionnary that contains all the calls to the API\n",
    "    zpid_dict[zpid] = response_similar_house.json()"
   ]
  },
  {
   "cell_type": "code",
   "execution_count": 13,
   "id": "dab624b1",
   "metadata": {},
   "outputs": [],
   "source": [
    "### Store data in a pickle : Zillow_old_data\n",
    "filename_old = \"Zillow_sold_data\"\n",
    "outfile = open(filename_old, \"wb\")\n",
    "\n",
    "pk.dump(zpid_dict,outfile)\n",
    "outfile.close()"
   ]
  }
 ],
 "metadata": {
  "kernelspec": {
   "display_name": "Python [conda env:pyvizenv]",
   "language": "python",
   "name": "conda-env-pyvizenv-py"
  },
  "language_info": {
   "codemirror_mode": {
    "name": "ipython",
    "version": 3
   },
   "file_extension": ".py",
   "mimetype": "text/x-python",
   "name": "python",
   "nbconvert_exporter": "python",
   "pygments_lexer": "ipython3",
   "version": "3.7.10"
  }
 },
 "nbformat": 4,
 "nbformat_minor": 5
}
