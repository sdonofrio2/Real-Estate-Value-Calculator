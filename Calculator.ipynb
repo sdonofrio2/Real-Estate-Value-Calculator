{
 "cells": [
  {
   "cell_type": "code",
   "execution_count": 176,
   "id": "266cb106-3749-4ffd-93ac-11c5db2253d1",
   "metadata": {},
   "outputs": [],
   "source": [
    " # Import libraries\n",
    "import pandas as pd\n",
    "import pickle as pk\n",
    "\n",
    "# import libraries for api\n",
    "import os\n",
    "from dotenv import load_dotenv \n",
    "import requests\n",
    "import json\n",
    "\n",
    "# import libraries for vizualization\n",
    "import seaborn as sns\n",
    "import holoviews as hv\n",
    "import matplotlib.pyplot as plt\n",
    "import plotly.express as px\n",
    "import plotly.graph_objects as go\n",
    "import panel as pn\n",
    "from pprint import pprint"
   ]
  },
  {
   "cell_type": "code",
   "execution_count": 96,
   "id": "a9bde7ee-fd12-4ef1-81c0-eaf3e81bcdc3",
   "metadata": {},
   "outputs": [
    {
     "name": "stdout",
     "output_type": "stream",
     "text": [
      "num of rows: 40\n",
      "num of columns: 18\n"
     ]
    },
    {
     "data": {
      "text/html": [
       "<div>\n",
       "<style scoped>\n",
       "    .dataframe tbody tr th:only-of-type {\n",
       "        vertical-align: middle;\n",
       "    }\n",
       "\n",
       "    .dataframe tbody tr th {\n",
       "        vertical-align: top;\n",
       "    }\n",
       "\n",
       "    .dataframe thead th {\n",
       "        text-align: right;\n",
       "    }\n",
       "</style>\n",
       "<table border=\"1\" class=\"dataframe\">\n",
       "  <thead>\n",
       "    <tr style=\"text-align: right;\">\n",
       "      <th></th>\n",
       "      <th>bathrooms</th>\n",
       "      <th>propertyType</th>\n",
       "      <th>lotAreaValue</th>\n",
       "      <th>address</th>\n",
       "      <th>imgSrc</th>\n",
       "      <th>price</th>\n",
       "      <th>listingDateTime</th>\n",
       "      <th>listingStatus</th>\n",
       "      <th>zpid</th>\n",
       "      <th>longitude</th>\n",
       "      <th>latitude</th>\n",
       "      <th>lotAreaUnit</th>\n",
       "      <th>daysOnZillow</th>\n",
       "      <th>bedrooms</th>\n",
       "      <th>country</th>\n",
       "      <th>currency</th>\n",
       "      <th>livingArea</th>\n",
       "      <th>hasImage</th>\n",
       "    </tr>\n",
       "  </thead>\n",
       "  <tbody>\n",
       "    <tr>\n",
       "      <th>0</th>\n",
       "      <td>2</td>\n",
       "      <td>SINGLE_FAMILY</td>\n",
       "      <td>1742.40</td>\n",
       "      <td>318 W Ruscomb St, Philadelphia, PA 19120</td>\n",
       "      <td>https://photos.zillowstatic.com/fp/c528e4507f6...</td>\n",
       "      <td>150000</td>\n",
       "      <td>None</td>\n",
       "      <td>FOR_SALE</td>\n",
       "      <td>10428068</td>\n",
       "      <td>-75.130410</td>\n",
       "      <td>40.026787</td>\n",
       "      <td>sqft</td>\n",
       "      <td>-1</td>\n",
       "      <td>4</td>\n",
       "      <td>USA</td>\n",
       "      <td>USD</td>\n",
       "      <td>1440</td>\n",
       "      <td>True</td>\n",
       "    </tr>\n",
       "    <tr>\n",
       "      <th>1</th>\n",
       "      <td>2</td>\n",
       "      <td>SINGLE_FAMILY</td>\n",
       "      <td>3920.40</td>\n",
       "      <td>4913 Castor Ave, Philadelphia, PA 19124</td>\n",
       "      <td>https://photos.zillowstatic.com/fp/84229141ec1...</td>\n",
       "      <td>325000</td>\n",
       "      <td>None</td>\n",
       "      <td>FOR_SALE</td>\n",
       "      <td>10291269</td>\n",
       "      <td>-75.091110</td>\n",
       "      <td>40.024803</td>\n",
       "      <td>sqft</td>\n",
       "      <td>-1</td>\n",
       "      <td>4</td>\n",
       "      <td>USA</td>\n",
       "      <td>USD</td>\n",
       "      <td>1920</td>\n",
       "      <td>True</td>\n",
       "    </tr>\n",
       "    <tr>\n",
       "      <th>2</th>\n",
       "      <td>4</td>\n",
       "      <td>SINGLE_FAMILY</td>\n",
       "      <td>0.43</td>\n",
       "      <td>200 W Walnut Ln, Philadelphia, PA 19144</td>\n",
       "      <td>https://photos.zillowstatic.com/fp/b90b6b03745...</td>\n",
       "      <td>869000</td>\n",
       "      <td>None</td>\n",
       "      <td>FOR_SALE</td>\n",
       "      <td>2068504637</td>\n",
       "      <td>-75.181816</td>\n",
       "      <td>40.037050</td>\n",
       "      <td>acres</td>\n",
       "      <td>-1</td>\n",
       "      <td>5</td>\n",
       "      <td>USA</td>\n",
       "      <td>USD</td>\n",
       "      <td>3857</td>\n",
       "      <td>True</td>\n",
       "    </tr>\n",
       "    <tr>\n",
       "      <th>3</th>\n",
       "      <td>4</td>\n",
       "      <td>SINGLE_FAMILY</td>\n",
       "      <td>9583.20</td>\n",
       "      <td>2320 N 50th St, Philadelphia, PA 19131</td>\n",
       "      <td>https://photos.zillowstatic.com/fp/458505836a3...</td>\n",
       "      <td>267000</td>\n",
       "      <td>None</td>\n",
       "      <td>FOR_SALE</td>\n",
       "      <td>10486635</td>\n",
       "      <td>-75.227104</td>\n",
       "      <td>39.996180</td>\n",
       "      <td>sqft</td>\n",
       "      <td>-1</td>\n",
       "      <td>5</td>\n",
       "      <td>USA</td>\n",
       "      <td>USD</td>\n",
       "      <td>4520</td>\n",
       "      <td>True</td>\n",
       "    </tr>\n",
       "    <tr>\n",
       "      <th>4</th>\n",
       "      <td>3</td>\n",
       "      <td>SINGLE_FAMILY</td>\n",
       "      <td>3049.20</td>\n",
       "      <td>522 Gilham St, Philadelphia, PA 19111</td>\n",
       "      <td>https://photos.zillowstatic.com/fp/04cc332dd77...</td>\n",
       "      <td>144000</td>\n",
       "      <td>None</td>\n",
       "      <td>FOR_SALE</td>\n",
       "      <td>2071261604</td>\n",
       "      <td>-75.092926</td>\n",
       "      <td>40.050960</td>\n",
       "      <td>sqft</td>\n",
       "      <td>-1</td>\n",
       "      <td>5</td>\n",
       "      <td>USA</td>\n",
       "      <td>USD</td>\n",
       "      <td>2007</td>\n",
       "      <td>True</td>\n",
       "    </tr>\n",
       "  </tbody>\n",
       "</table>\n",
       "</div>"
      ],
      "text/plain": [
       "   bathrooms   propertyType  lotAreaValue  \\\n",
       "0          2  SINGLE_FAMILY       1742.40   \n",
       "1          2  SINGLE_FAMILY       3920.40   \n",
       "2          4  SINGLE_FAMILY          0.43   \n",
       "3          4  SINGLE_FAMILY       9583.20   \n",
       "4          3  SINGLE_FAMILY       3049.20   \n",
       "\n",
       "                                    address  \\\n",
       "0  318 W Ruscomb St, Philadelphia, PA 19120   \n",
       "1   4913 Castor Ave, Philadelphia, PA 19124   \n",
       "2   200 W Walnut Ln, Philadelphia, PA 19144   \n",
       "3    2320 N 50th St, Philadelphia, PA 19131   \n",
       "4     522 Gilham St, Philadelphia, PA 19111   \n",
       "\n",
       "                                              imgSrc   price listingDateTime  \\\n",
       "0  https://photos.zillowstatic.com/fp/c528e4507f6...  150000            None   \n",
       "1  https://photos.zillowstatic.com/fp/84229141ec1...  325000            None   \n",
       "2  https://photos.zillowstatic.com/fp/b90b6b03745...  869000            None   \n",
       "3  https://photos.zillowstatic.com/fp/458505836a3...  267000            None   \n",
       "4  https://photos.zillowstatic.com/fp/04cc332dd77...  144000            None   \n",
       "\n",
       "  listingStatus        zpid  longitude   latitude lotAreaUnit  daysOnZillow  \\\n",
       "0      FOR_SALE    10428068 -75.130410  40.026787        sqft            -1   \n",
       "1      FOR_SALE    10291269 -75.091110  40.024803        sqft            -1   \n",
       "2      FOR_SALE  2068504637 -75.181816  40.037050       acres            -1   \n",
       "3      FOR_SALE    10486635 -75.227104  39.996180        sqft            -1   \n",
       "4      FOR_SALE  2071261604 -75.092926  40.050960        sqft            -1   \n",
       "\n",
       "   bedrooms country currency  livingArea  hasImage  \n",
       "0         4     USA      USD        1440      True  \n",
       "1         4     USA      USD        1920      True  \n",
       "2         5     USA      USD        3857      True  \n",
       "3         5     USA      USD        4520      True  \n",
       "4         5     USA      USD        2007      True  "
      ]
     },
     "execution_count": 96,
     "metadata": {},
     "output_type": "execute_result"
    }
   ],
   "source": [
    "#from Thomas's code \n",
    "\n",
    "filename = \"Zillow_data\"\n",
    "infile = open(filename,'rb')\n",
    "new_dict = pk.load(infile)\n",
    "infile.close()\n",
    "z_for_sale_resp =new_dict.json()\n",
    "current_zillow_df = pd.json_normalize(data=z_for_sale_resp[\"props\"])\n",
    "print('num of rows:', len(current_zillow_df))\n",
    "print('num of columns:', len(current_zillow_df.columns))\n",
    "\n",
    "current_zillow_df.head()"
   ]
  },
  {
   "cell_type": "code",
   "execution_count": 97,
   "id": "ea7081fa-74b1-46d6-81bf-2837b398dad5",
   "metadata": {},
   "outputs": [],
   "source": [
    "#thomas code\n",
    "zpid_list = current_zillow_df[\"zpid\"].tolist()\n",
    "current_zillow_df.columns\n",
    "### Select columns that we will need for the analysis\n",
    "current_zillow_df.columns\n",
    "current_price_df = current_zillow_df[[ \"zpid\",\"propertyType\" , \"price\", \"livingArea\" , \"bathrooms\" , \"bedrooms\" ,\"address\", \"listingStatus\" , \"latitude\" , \"longitude\", \"imgSrc\"]].copy()\n",
    "current_price_df.set_index(\"zpid\", inplace=True)\n",
    "\n",
    "\n",
    "#Pull only the zip code from the address column\n",
    "current_price_df[\"address\"] = current_price_df[\"address\"].str[-5:]\n",
    "\n",
    "# Change the column names to improve readability\n",
    "current_price_df.rename(columns = {\n",
    "        \"livingArea\" : \"Area in sqft.\",\n",
    "        \"propertyType\" : \"Type of Property\",\n",
    "        \"address\" : \"zip code\",\n",
    "        \"listingStatus\" : \"Status\",\n",
    "        \"imgSrc\" : \"Image property\"\n",
    "        }, inplace = True)\n"
   ]
  },
  {
   "cell_type": "code",
   "execution_count": 98,
   "id": "ddf369c5-60c0-43d1-893d-9dfb935eeedf",
   "metadata": {},
   "outputs": [
    {
     "name": "stdout",
     "output_type": "stream",
     "text": [
      "num of rows: 5\n",
      "num of columns: 18\n"
     ]
    }
   ],
   "source": [
    "#thomas code\n",
    "filename = \"Zillow_old_data\"\n",
    "infile = open(filename,'rb')\n",
    "new_source = pk.load(infile)\n",
    "infile.close()\n",
    "z_recently_sold_resp =new_source.json()\n",
    "sold_zillow_df = pd.json_normalize(data=z_recently_sold_resp)\n",
    "print('num of rows:', len(sold_zillow_df))\n",
    "print('num of columns:', len(sold_zillow_df.columns))\n",
    "sold_zillow_df.columns\n",
    "sold_price_df = sold_zillow_df[[ \"zpid\", \"homeType\", \"lastSoldPrice\", \"livingArea\" , \"bathrooms\" , \"bedrooms\" , \"address.zipcode\",  \"homeStatus\" , \"latitude\" , \"longitude\", \"miniCardPhotos\"]].copy()\n",
    "sold_price_df.set_index(\"zpid\", inplace=True)\n",
    "\n",
    "# Change the column names to improve readability\n",
    "sold_price_df.rename(columns = {\n",
    "        \"homeType\" : \"Type of Property\",\n",
    "        \"lastSoldPrice\" : \"Price\",\n",
    "        \"livingArea\" : \"Area in sqft.\",\n",
    "        \"address.zipcode\" :\"zip code\",\n",
    "        \"homeStatus\" : \"Status\",\n",
    "        \"miniCardPhotos\" : \"Image property\"\n",
    "        }, inplace = True)"
   ]
  },
  {
   "cell_type": "code",
   "execution_count": 99,
   "id": "cbddbb64-ce39-400c-af68-1a5e2f0bf8ca",
   "metadata": {},
   "outputs": [],
   "source": [
    "#Add new columns in dataframes for \"price per sqft\"\n",
    "current_price_df[\"price_per_sqft\"] = current_price_df[\"price\"] / current_price_df[\"Area in sqft.\"]\n",
    "\n",
    "sold_price_df[\"price_per_sqft\"] = sold_price_df[\"Price\"] / sold_price_df[\"Area in sqft.\"]\n",
    "\n"
   ]
  },
  {
   "cell_type": "code",
   "execution_count": 100,
   "id": "eb8aaa69-db0c-4eae-93c6-15cfcdf2f5b5",
   "metadata": {},
   "outputs": [
    {
     "data": {
      "text/html": [
       "<div>\n",
       "<style scoped>\n",
       "    .dataframe tbody tr th:only-of-type {\n",
       "        vertical-align: middle;\n",
       "    }\n",
       "\n",
       "    .dataframe tbody tr th {\n",
       "        vertical-align: top;\n",
       "    }\n",
       "\n",
       "    .dataframe thead th {\n",
       "        text-align: right;\n",
       "    }\n",
       "</style>\n",
       "<table border=\"1\" class=\"dataframe\">\n",
       "  <thead>\n",
       "    <tr style=\"text-align: right;\">\n",
       "      <th></th>\n",
       "      <th>Type of Property</th>\n",
       "      <th>price</th>\n",
       "      <th>Area in sqft.</th>\n",
       "      <th>bathrooms</th>\n",
       "      <th>bedrooms</th>\n",
       "      <th>zip code</th>\n",
       "      <th>Status</th>\n",
       "      <th>latitude</th>\n",
       "      <th>longitude</th>\n",
       "      <th>Image property</th>\n",
       "      <th>price_per_sqft</th>\n",
       "    </tr>\n",
       "    <tr>\n",
       "      <th>zpid</th>\n",
       "      <th></th>\n",
       "      <th></th>\n",
       "      <th></th>\n",
       "      <th></th>\n",
       "      <th></th>\n",
       "      <th></th>\n",
       "      <th></th>\n",
       "      <th></th>\n",
       "      <th></th>\n",
       "      <th></th>\n",
       "      <th></th>\n",
       "    </tr>\n",
       "  </thead>\n",
       "  <tbody>\n",
       "    <tr>\n",
       "      <th>10285435</th>\n",
       "      <td>SINGLE_FAMILY</td>\n",
       "      <td>458900</td>\n",
       "      <td>1984</td>\n",
       "      <td>3</td>\n",
       "      <td>4</td>\n",
       "      <td>19119</td>\n",
       "      <td>FOR_SALE</td>\n",
       "      <td>40.052326</td>\n",
       "      <td>-75.193275</td>\n",
       "      <td>https://photos.zillowstatic.com/fp/f5cca126d4e...</td>\n",
       "      <td>231.300403</td>\n",
       "    </tr>\n",
       "  </tbody>\n",
       "</table>\n",
       "</div>"
      ],
      "text/plain": [
       "         Type of Property   price  Area in sqft.  bathrooms  bedrooms  \\\n",
       "zpid                                                                    \n",
       "10285435    SINGLE_FAMILY  458900           1984          3         4   \n",
       "\n",
       "         zip code    Status   latitude  longitude  \\\n",
       "zpid                                                \n",
       "10285435    19119  FOR_SALE  40.052326 -75.193275   \n",
       "\n",
       "                                             Image property  price_per_sqft  \n",
       "zpid                                                                         \n",
       "10285435  https://photos.zillowstatic.com/fp/f5cca126d4e...      231.300403  "
      ]
     },
     "execution_count": 100,
     "metadata": {},
     "output_type": "execute_result"
    }
   ],
   "source": [
    "#Add a variable for the ZPID. Add a variable \"Purchase_house\" to be the ZPID of the house we are looking to buy. \n",
    "ZPID = '10285435'\n",
    "Purchase_house = current_price_df.loc[[ZPID]]\n",
    "Purchase_house"
   ]
  },
  {
   "cell_type": "code",
   "execution_count": 101,
   "id": "db534d74-29ea-414f-bc92-61ec35627b2c",
   "metadata": {},
   "outputs": [],
   "source": [
    "# Add variables for the average price per square foot/bedrooms/bathrooms of the comparable properties\n",
    "# This is based on properties that requier to be in similar already (only one zipcode in table sold_price_df)\n",
    "\n",
    "sold_average_price_per_sqft = sold_price_df['price_per_sqft'].mean()\n",
    "sold_average_sqft = sold_price_df['Area in sqft.'].mean()\n",
    "sold_average_bathrooms = sold_price_df['bathrooms'].mean()\n",
    "sold_average_bedrooms = sold_price_df['bedrooms'].mean()"
   ]
  },
  {
   "cell_type": "code",
   "execution_count": 102,
   "id": "1ba77e15-e229-4f38-9571-1aa99ad7a536",
   "metadata": {},
   "outputs": [],
   "source": [
    "# Add variables for the price per square foot/bedrooms/bathrooms of the home we are looking to buy\n",
    "Purchase_house_price_per_sqft = round(Purchase_house.loc[ZPID,'price_per_sqft'],2)\n",
    "Purchase_house_sqft = round(Purchase_house.loc[ZPID,'Area in sqft.'],2)\n",
    "Purchase_house_bathrooms = round(Purchase_house.loc[ZPID,'bathrooms'],2)\n",
    "Purchase_house_bedrooms = round(Purchase_house.loc[ZPID,'bedrooms'],2)"
   ]
  },
  {
   "cell_type": "code",
   "execution_count": 103,
   "id": "31c0c905-75cc-448d-803f-602580521ed0",
   "metadata": {},
   "outputs": [],
   "source": [
    "# Add variables that are the difference per square foot/bedrooms/bathrooms of the comparables price per sqft vs. the house we want to buy\n",
    "difference_price_per_sqft = round((sold_average_price_per_sqft - Purchase_house_price_per_sqft),2)\n",
    "difference_sqft = round((sold_average_sqft - Purchase_house_sqft),2)\n",
    "difference_bathrooms = round((sold_average_bathrooms - Purchase_house_bathrooms), 2)\n",
    "difference_bedrooms = round((sold_average_bedrooms - Purchase_house_bedrooms), 2)"
   ]
  },
  {
   "cell_type": "code",
   "execution_count": 104,
   "id": "9b565f7d-aee2-4e7e-b77b-53fd4111b29e",
   "metadata": {},
   "outputs": [],
   "source": [
    "# Add a variable for our estimated Fair Value of the home we are looking to buy ( comparables average price per sq ft * purchase home sq ft)\n",
    "Calculated_Home_Value = round((sold_average_price_per_sqft *  Purchase_house_sqft))"
   ]
  },
  {
   "cell_type": "code",
   "execution_count": 105,
   "id": "d9e9521f-0990-4de5-a49c-bf1a0bef2172",
   "metadata": {},
   "outputs": [
    {
     "data": {
      "text/plain": [
       "\"We estimate the fair value of this house to be $421773. This house is $248.6 per square foot more expensive than comparable properties. We don't recommend you buy this house.\""
      ]
     },
     "execution_count": 105,
     "metadata": {},
     "output_type": "execute_result"
    }
   ],
   "source": [
    "# Add a function to return our recommendation \n",
    "def recommendation(): \n",
    "    if sold_average_price_per_sqft > Purchase_house_price_per_sqft:\n",
    "        return(f\"We estimate the fair value of this house to be ${Calculated_Home_Value}. This house is ${difference_sqft} per square foot less expensive than comparable properties. We recommend you buy this house.\")\n",
    "    else:\n",
    "        return(f\"We estimate the fair value of this house to be ${Calculated_Home_Value}. This house is ${difference_sqft} per square foot more expensive than comparable properties. We don't recommend you buy this house.\")\n",
    "recommendation()\n",
    "\n",
    "recommendation_text = recommendation()\n",
    "recommendation_text"
   ]
  },
  {
   "cell_type": "code",
   "execution_count": 106,
   "id": "3240984d-1e0a-4403-9d06-e101d4e9dd47",
   "metadata": {},
   "outputs": [],
   "source": [
    "# Add functions to return other statistics on sqft\n",
    "def other_info_sqft(): \n",
    "    if sold_average_sqft > Purchase_house_sqft:\n",
    "        return(f\"The property you are looking to buy has {difference_sqft: .2f} fewer square feet than the average of the comparables.\")\n",
    "    elif sold_average_sqft == Purchase_house_sqft:\n",
    "        return(f\"The property you are looking to buy has the same amount of square feet as the average of the comparable properties.\")\n",
    "    else:\n",
    "        return(f\"The property you are looking to buy has {difference_sqft: .2f} more square feet than the average of the comparables.\")\n",
    "\n",
    "other_info_sqft_text = other_info_sqft()"
   ]
  },
  {
   "cell_type": "code",
   "execution_count": 107,
   "id": "5242bcec-536a-4b4d-a0bd-5028c8e8322f",
   "metadata": {},
   "outputs": [],
   "source": [
    "# Add functions to return other statistics on bathrooms\n",
    "def other_info_bathrooms(): \n",
    "    if sold_average_bathrooms > Purchase_house_bathrooms:\n",
    "        return(f\"The property you are looking to buy has {difference_bathrooms: .2f} fewer bathrooms than the average of the comparables.\")\n",
    "    elif sold_average_bathrooms == Purchase_house_bathrooms:\n",
    "        return(f\"The property you are looking to buy has the same amount of bathrooms as the average of the comparable properties.\")\n",
    "    else:\n",
    "        return(f\"The property you are looking to buy has {difference_bathrooms: .2f} more bathrooms than the average of the comparables.\")\n",
    "\n",
    "other_info_bathrooms_text = other_info_bathrooms()"
   ]
  },
  {
   "cell_type": "code",
   "execution_count": 108,
   "id": "bf0a6d0e-8b90-48da-b96b-2fa5bcf38bd3",
   "metadata": {},
   "outputs": [],
   "source": [
    "# Add functions to return other statistics on bedrooms\n",
    "def other_info_bedrooms(): \n",
    "    if sold_average_bathrooms > Purchase_house_bathrooms:\n",
    "        return(f\"The property you are looking to buy has {difference_bedrooms: .2f} more bedrooms than the average of the comparables.\")\n",
    "    elif difference_bedrooms == 0.0:\n",
    "        return(f\"The property you are looking to buy has the same amount of bedrooms as the average of the comparable properties.\")\n",
    "    else:\n",
    "        return(f\"The property you are looking to buy has {difference_bedrooms: .2f} fewer bedrooms than the average of the comparables.\")\n",
    "\n",
    "other_info_bedrooms_text = other_info_bedrooms()"
   ]
  },
  {
   "cell_type": "code",
   "execution_count": 109,
   "id": "48886eef-f10c-4e19-aa96-61b07de174ae",
   "metadata": {},
   "outputs": [
    {
     "ename": "ModuleNotFoundError",
     "evalue": "No module named 'dash'",
     "output_type": "error",
     "traceback": [
      "\u001b[1;31m---------------------------------------------------------------------------\u001b[0m",
      "\u001b[1;31mModuleNotFoundError\u001b[0m                       Traceback (most recent call last)",
      "\u001b[1;32m~\\AppData\\Local\\Temp/ipykernel_16796/998413345.py\u001b[0m in \u001b[0;36m<module>\u001b[1;34m\u001b[0m\n\u001b[1;32m----> 1\u001b[1;33m \u001b[1;32mimport\u001b[0m \u001b[0mdash\u001b[0m\u001b[1;33m\u001b[0m\u001b[1;33m\u001b[0m\u001b[0m\n\u001b[0m\u001b[0;32m      2\u001b[0m \u001b[1;32mimport\u001b[0m \u001b[0mdash_core_components\u001b[0m \u001b[1;32mas\u001b[0m \u001b[0mdcc\u001b[0m\u001b[1;33m\u001b[0m\u001b[1;33m\u001b[0m\u001b[0m\n\u001b[0;32m      3\u001b[0m \u001b[1;32mimport\u001b[0m \u001b[0mdash_html_components\u001b[0m \u001b[1;32mas\u001b[0m \u001b[0mhtml\u001b[0m\u001b[1;33m\u001b[0m\u001b[1;33m\u001b[0m\u001b[0m\n\u001b[0;32m      4\u001b[0m \u001b[1;32mimport\u001b[0m \u001b[0mplotly\u001b[0m\u001b[1;33m.\u001b[0m\u001b[0mexpress\u001b[0m \u001b[1;32mas\u001b[0m \u001b[0mpx\u001b[0m\u001b[1;33m\u001b[0m\u001b[1;33m\u001b[0m\u001b[0m\n\u001b[0;32m      5\u001b[0m \u001b[1;32mfrom\u001b[0m \u001b[0mdash\u001b[0m\u001b[1;33m.\u001b[0m\u001b[0mdependencies\u001b[0m \u001b[1;32mimport\u001b[0m \u001b[0mInput\u001b[0m\u001b[1;33m,\u001b[0m \u001b[0mOutput\u001b[0m\u001b[1;33m\u001b[0m\u001b[1;33m\u001b[0m\u001b[0m\n",
      "\u001b[1;31mModuleNotFoundError\u001b[0m: No module named 'dash'"
     ]
    }
   ],
   "source": [
    "import dash\n",
    "import dash_core_components as dcc\n",
    "import dash_html_components as html\n",
    "import plotly.express as px\n",
    "from dash.dependencies import Input, Output"
   ]
  },
  {
   "cell_type": "code",
   "execution_count": 110,
   "id": "cc9089fb-3a5e-4337-bf8f-d7ec38ca20e7",
   "metadata": {},
   "outputs": [],
   "source": [
    "file=open('HouseForSale.html',\"w\")\n",
    "file.write(recommendation_text)\n",
    "file.close()"
   ]
  },
  {
   "cell_type": "code",
   "execution_count": 111,
   "id": "e24c33c8-1a41-417b-9678-284524f802b4",
   "metadata": {},
   "outputs": [],
   "source": [
    "#test\n",
    "\n",
    "\n",
    "#app.layout = html.Div[html.Div([ \n",
    "    #html.Div([\n",
    "       # dcc.Input(\n",
    "         #   id='ZID'.format('text'),\n",
    "         #   type='text',\n",
    "         #   placeholder=\"insert {}\".format('text'),\n",
    "          #  debounce=True,\n",
    "         #   minLength=0, maxLength=50,\n",
    "          #  disabled=False,\n",
    "         #   readOnly=False,\n",
    "           # required=False,\n",
    "         #   size=\"20\"\n",
    "   #     ) \n",
    " #   ,\n",
    "#\n",
    "        \n",
    " #   ])\n",
    "#])]"
   ]
  },
  {
   "cell_type": "code",
   "execution_count": 112,
   "id": "73d506f9-227d-42df-89d6-5e16132b2d43",
   "metadata": {},
   "outputs": [],
   "source": [
    "#test\n",
    "\n",
    "#dff = df.copy()\n",
    "#dff = dff[dff['ZID'] == ZID]\n",
    "#print(\"ZID:\" + str(ZID)"
   ]
  },
  {
   "cell_type": "code",
   "execution_count": null,
   "id": "490bd734-f407-4550-b87f-81216c79543f",
   "metadata": {},
   "outputs": [],
   "source": []
  },
  {
   "cell_type": "code",
   "execution_count": 227,
   "id": "519d34f0-2988-45cb-819f-37fd9f68d925",
   "metadata": {},
   "outputs": [
    {
     "data": {
      "application/vnd.plotly.v1+json": {
       "config": {
        "plotlyServerURL": "https://plot.ly"
       },
       "data": [
        {
         "name": "Purchase House",
         "type": "bar",
         "x": [
          "price per sqft",
          "Average sqft"
         ],
         "y": [
          231.3,
          1984
         ]
        },
        {
         "name": "Average House",
         "type": "bar",
         "x": [
          "price per sqft",
          "Average sqft"
         ],
         "y": [
          212.58732258675792,
          2232.6
         ]
        }
       ],
       "layout": {
        "autosize": true,
        "barmode": "group",
        "template": {
         "data": {
          "bar": [
           {
            "error_x": {
             "color": "#2a3f5f"
            },
            "error_y": {
             "color": "#2a3f5f"
            },
            "marker": {
             "line": {
              "color": "#E5ECF6",
              "width": 0.5
             },
             "pattern": {
              "fillmode": "overlay",
              "size": 10,
              "solidity": 0.2
             }
            },
            "type": "bar"
           }
          ],
          "barpolar": [
           {
            "marker": {
             "line": {
              "color": "#E5ECF6",
              "width": 0.5
             },
             "pattern": {
              "fillmode": "overlay",
              "size": 10,
              "solidity": 0.2
             }
            },
            "type": "barpolar"
           }
          ],
          "carpet": [
           {
            "aaxis": {
             "endlinecolor": "#2a3f5f",
             "gridcolor": "white",
             "linecolor": "white",
             "minorgridcolor": "white",
             "startlinecolor": "#2a3f5f"
            },
            "baxis": {
             "endlinecolor": "#2a3f5f",
             "gridcolor": "white",
             "linecolor": "white",
             "minorgridcolor": "white",
             "startlinecolor": "#2a3f5f"
            },
            "type": "carpet"
           }
          ],
          "choropleth": [
           {
            "colorbar": {
             "outlinewidth": 0,
             "ticks": ""
            },
            "type": "choropleth"
           }
          ],
          "contour": [
           {
            "colorbar": {
             "outlinewidth": 0,
             "ticks": ""
            },
            "colorscale": [
             [
              0,
              "#0d0887"
             ],
             [
              0.1111111111111111,
              "#46039f"
             ],
             [
              0.2222222222222222,
              "#7201a8"
             ],
             [
              0.3333333333333333,
              "#9c179e"
             ],
             [
              0.4444444444444444,
              "#bd3786"
             ],
             [
              0.5555555555555556,
              "#d8576b"
             ],
             [
              0.6666666666666666,
              "#ed7953"
             ],
             [
              0.7777777777777778,
              "#fb9f3a"
             ],
             [
              0.8888888888888888,
              "#fdca26"
             ],
             [
              1,
              "#f0f921"
             ]
            ],
            "type": "contour"
           }
          ],
          "contourcarpet": [
           {
            "colorbar": {
             "outlinewidth": 0,
             "ticks": ""
            },
            "type": "contourcarpet"
           }
          ],
          "heatmap": [
           {
            "colorbar": {
             "outlinewidth": 0,
             "ticks": ""
            },
            "colorscale": [
             [
              0,
              "#0d0887"
             ],
             [
              0.1111111111111111,
              "#46039f"
             ],
             [
              0.2222222222222222,
              "#7201a8"
             ],
             [
              0.3333333333333333,
              "#9c179e"
             ],
             [
              0.4444444444444444,
              "#bd3786"
             ],
             [
              0.5555555555555556,
              "#d8576b"
             ],
             [
              0.6666666666666666,
              "#ed7953"
             ],
             [
              0.7777777777777778,
              "#fb9f3a"
             ],
             [
              0.8888888888888888,
              "#fdca26"
             ],
             [
              1,
              "#f0f921"
             ]
            ],
            "type": "heatmap"
           }
          ],
          "heatmapgl": [
           {
            "colorbar": {
             "outlinewidth": 0,
             "ticks": ""
            },
            "colorscale": [
             [
              0,
              "#0d0887"
             ],
             [
              0.1111111111111111,
              "#46039f"
             ],
             [
              0.2222222222222222,
              "#7201a8"
             ],
             [
              0.3333333333333333,
              "#9c179e"
             ],
             [
              0.4444444444444444,
              "#bd3786"
             ],
             [
              0.5555555555555556,
              "#d8576b"
             ],
             [
              0.6666666666666666,
              "#ed7953"
             ],
             [
              0.7777777777777778,
              "#fb9f3a"
             ],
             [
              0.8888888888888888,
              "#fdca26"
             ],
             [
              1,
              "#f0f921"
             ]
            ],
            "type": "heatmapgl"
           }
          ],
          "histogram": [
           {
            "marker": {
             "pattern": {
              "fillmode": "overlay",
              "size": 10,
              "solidity": 0.2
             }
            },
            "type": "histogram"
           }
          ],
          "histogram2d": [
           {
            "colorbar": {
             "outlinewidth": 0,
             "ticks": ""
            },
            "colorscale": [
             [
              0,
              "#0d0887"
             ],
             [
              0.1111111111111111,
              "#46039f"
             ],
             [
              0.2222222222222222,
              "#7201a8"
             ],
             [
              0.3333333333333333,
              "#9c179e"
             ],
             [
              0.4444444444444444,
              "#bd3786"
             ],
             [
              0.5555555555555556,
              "#d8576b"
             ],
             [
              0.6666666666666666,
              "#ed7953"
             ],
             [
              0.7777777777777778,
              "#fb9f3a"
             ],
             [
              0.8888888888888888,
              "#fdca26"
             ],
             [
              1,
              "#f0f921"
             ]
            ],
            "type": "histogram2d"
           }
          ],
          "histogram2dcontour": [
           {
            "colorbar": {
             "outlinewidth": 0,
             "ticks": ""
            },
            "colorscale": [
             [
              0,
              "#0d0887"
             ],
             [
              0.1111111111111111,
              "#46039f"
             ],
             [
              0.2222222222222222,
              "#7201a8"
             ],
             [
              0.3333333333333333,
              "#9c179e"
             ],
             [
              0.4444444444444444,
              "#bd3786"
             ],
             [
              0.5555555555555556,
              "#d8576b"
             ],
             [
              0.6666666666666666,
              "#ed7953"
             ],
             [
              0.7777777777777778,
              "#fb9f3a"
             ],
             [
              0.8888888888888888,
              "#fdca26"
             ],
             [
              1,
              "#f0f921"
             ]
            ],
            "type": "histogram2dcontour"
           }
          ],
          "mesh3d": [
           {
            "colorbar": {
             "outlinewidth": 0,
             "ticks": ""
            },
            "type": "mesh3d"
           }
          ],
          "parcoords": [
           {
            "line": {
             "colorbar": {
              "outlinewidth": 0,
              "ticks": ""
             }
            },
            "type": "parcoords"
           }
          ],
          "pie": [
           {
            "automargin": true,
            "type": "pie"
           }
          ],
          "scatter": [
           {
            "marker": {
             "colorbar": {
              "outlinewidth": 0,
              "ticks": ""
             }
            },
            "type": "scatter"
           }
          ],
          "scatter3d": [
           {
            "line": {
             "colorbar": {
              "outlinewidth": 0,
              "ticks": ""
             }
            },
            "marker": {
             "colorbar": {
              "outlinewidth": 0,
              "ticks": ""
             }
            },
            "type": "scatter3d"
           }
          ],
          "scattercarpet": [
           {
            "marker": {
             "colorbar": {
              "outlinewidth": 0,
              "ticks": ""
             }
            },
            "type": "scattercarpet"
           }
          ],
          "scattergeo": [
           {
            "marker": {
             "colorbar": {
              "outlinewidth": 0,
              "ticks": ""
             }
            },
            "type": "scattergeo"
           }
          ],
          "scattergl": [
           {
            "marker": {
             "colorbar": {
              "outlinewidth": 0,
              "ticks": ""
             }
            },
            "type": "scattergl"
           }
          ],
          "scattermapbox": [
           {
            "marker": {
             "colorbar": {
              "outlinewidth": 0,
              "ticks": ""
             }
            },
            "type": "scattermapbox"
           }
          ],
          "scatterpolar": [
           {
            "marker": {
             "colorbar": {
              "outlinewidth": 0,
              "ticks": ""
             }
            },
            "type": "scatterpolar"
           }
          ],
          "scatterpolargl": [
           {
            "marker": {
             "colorbar": {
              "outlinewidth": 0,
              "ticks": ""
             }
            },
            "type": "scatterpolargl"
           }
          ],
          "scatterternary": [
           {
            "marker": {
             "colorbar": {
              "outlinewidth": 0,
              "ticks": ""
             }
            },
            "type": "scatterternary"
           }
          ],
          "surface": [
           {
            "colorbar": {
             "outlinewidth": 0,
             "ticks": ""
            },
            "colorscale": [
             [
              0,
              "#0d0887"
             ],
             [
              0.1111111111111111,
              "#46039f"
             ],
             [
              0.2222222222222222,
              "#7201a8"
             ],
             [
              0.3333333333333333,
              "#9c179e"
             ],
             [
              0.4444444444444444,
              "#bd3786"
             ],
             [
              0.5555555555555556,
              "#d8576b"
             ],
             [
              0.6666666666666666,
              "#ed7953"
             ],
             [
              0.7777777777777778,
              "#fb9f3a"
             ],
             [
              0.8888888888888888,
              "#fdca26"
             ],
             [
              1,
              "#f0f921"
             ]
            ],
            "type": "surface"
           }
          ],
          "table": [
           {
            "cells": {
             "fill": {
              "color": "#EBF0F8"
             },
             "line": {
              "color": "white"
             }
            },
            "header": {
             "fill": {
              "color": "#C8D4E3"
             },
             "line": {
              "color": "white"
             }
            },
            "type": "table"
           }
          ]
         },
         "layout": {
          "annotationdefaults": {
           "arrowcolor": "#2a3f5f",
           "arrowhead": 0,
           "arrowwidth": 1
          },
          "autotypenumbers": "strict",
          "coloraxis": {
           "colorbar": {
            "outlinewidth": 0,
            "ticks": ""
           }
          },
          "colorscale": {
           "diverging": [
            [
             0,
             "#8e0152"
            ],
            [
             0.1,
             "#c51b7d"
            ],
            [
             0.2,
             "#de77ae"
            ],
            [
             0.3,
             "#f1b6da"
            ],
            [
             0.4,
             "#fde0ef"
            ],
            [
             0.5,
             "#f7f7f7"
            ],
            [
             0.6,
             "#e6f5d0"
            ],
            [
             0.7,
             "#b8e186"
            ],
            [
             0.8,
             "#7fbc41"
            ],
            [
             0.9,
             "#4d9221"
            ],
            [
             1,
             "#276419"
            ]
           ],
           "sequential": [
            [
             0,
             "#0d0887"
            ],
            [
             0.1111111111111111,
             "#46039f"
            ],
            [
             0.2222222222222222,
             "#7201a8"
            ],
            [
             0.3333333333333333,
             "#9c179e"
            ],
            [
             0.4444444444444444,
             "#bd3786"
            ],
            [
             0.5555555555555556,
             "#d8576b"
            ],
            [
             0.6666666666666666,
             "#ed7953"
            ],
            [
             0.7777777777777778,
             "#fb9f3a"
            ],
            [
             0.8888888888888888,
             "#fdca26"
            ],
            [
             1,
             "#f0f921"
            ]
           ],
           "sequentialminus": [
            [
             0,
             "#0d0887"
            ],
            [
             0.1111111111111111,
             "#46039f"
            ],
            [
             0.2222222222222222,
             "#7201a8"
            ],
            [
             0.3333333333333333,
             "#9c179e"
            ],
            [
             0.4444444444444444,
             "#bd3786"
            ],
            [
             0.5555555555555556,
             "#d8576b"
            ],
            [
             0.6666666666666666,
             "#ed7953"
            ],
            [
             0.7777777777777778,
             "#fb9f3a"
            ],
            [
             0.8888888888888888,
             "#fdca26"
            ],
            [
             1,
             "#f0f921"
            ]
           ]
          },
          "colorway": [
           "#636efa",
           "#EF553B",
           "#00cc96",
           "#ab63fa",
           "#FFA15A",
           "#19d3f3",
           "#FF6692",
           "#B6E880",
           "#FF97FF",
           "#FECB52"
          ],
          "font": {
           "color": "#2a3f5f"
          },
          "geo": {
           "bgcolor": "white",
           "lakecolor": "white",
           "landcolor": "#E5ECF6",
           "showlakes": true,
           "showland": true,
           "subunitcolor": "white"
          },
          "hoverlabel": {
           "align": "left"
          },
          "hovermode": "closest",
          "mapbox": {
           "style": "light"
          },
          "paper_bgcolor": "white",
          "plot_bgcolor": "#E5ECF6",
          "polar": {
           "angularaxis": {
            "gridcolor": "white",
            "linecolor": "white",
            "ticks": ""
           },
           "bgcolor": "#E5ECF6",
           "radialaxis": {
            "gridcolor": "white",
            "linecolor": "white",
            "ticks": ""
           }
          },
          "scene": {
           "xaxis": {
            "backgroundcolor": "#E5ECF6",
            "gridcolor": "white",
            "gridwidth": 2,
            "linecolor": "white",
            "showbackground": true,
            "ticks": "",
            "zerolinecolor": "white"
           },
           "yaxis": {
            "backgroundcolor": "#E5ECF6",
            "gridcolor": "white",
            "gridwidth": 2,
            "linecolor": "white",
            "showbackground": true,
            "ticks": "",
            "zerolinecolor": "white"
           },
           "zaxis": {
            "backgroundcolor": "#E5ECF6",
            "gridcolor": "white",
            "gridwidth": 2,
            "linecolor": "white",
            "showbackground": true,
            "ticks": "",
            "zerolinecolor": "white"
           }
          },
          "shapedefaults": {
           "line": {
            "color": "#2a3f5f"
           }
          },
          "ternary": {
           "aaxis": {
            "gridcolor": "white",
            "linecolor": "white",
            "ticks": ""
           },
           "baxis": {
            "gridcolor": "white",
            "linecolor": "white",
            "ticks": ""
           },
           "bgcolor": "#E5ECF6",
           "caxis": {
            "gridcolor": "white",
            "linecolor": "white",
            "ticks": ""
           }
          },
          "title": {
           "x": 0.05
          },
          "xaxis": {
           "automargin": true,
           "gridcolor": "white",
           "linecolor": "white",
           "ticks": "",
           "title": {
            "standoff": 15
           },
           "zerolinecolor": "white",
           "zerolinewidth": 2
          },
          "yaxis": {
           "automargin": true,
           "gridcolor": "white",
           "linecolor": "white",
           "ticks": "",
           "title": {
            "standoff": 15
           },
           "zerolinecolor": "white",
           "zerolinewidth": 2
          }
         }
        },
        "xaxis": {
         "autorange": true,
         "range": [
          -0.5,
          1.5
         ],
         "type": "category"
        },
        "yaxis": {
         "autorange": true,
         "range": [
          0,
          2350.1052631578946
         ],
         "type": "linear"
        }
       }
      },
      "image/png": "[encoded data removed]",
      "text/html": [
       "<div>                            <div id=\"6ebe17f4-57d3-4200-a638-82c43aab2d54\" class=\"plotly-graph-div\" style=\"height:525px; width:100%;\"></div>            <script type=\"text/javascript\">                require([\"plotly\"], function(Plotly) {                    window.PLOTLYENV=window.PLOTLYENV || {};                                    if (document.getElementById(\"6ebe17f4-57d3-4200-a638-82c43aab2d54\")) {                    Plotly.newPlot(                        \"6ebe17f4-57d3-4200-a638-82c43aab2d54\",                        [{\"name\":\"Purchase House\",\"type\":\"bar\",\"x\":[\"price per sqft\",\"Average sqft\"],\"y\":[231.3,1984]},{\"name\":\"Average House\",\"type\":\"bar\",\"x\":[\"price per sqft\",\"Average sqft\"],\"y\":[212.58732258675792,2232.6]}],                        {\"barmode\":\"group\",\"template\":{\"data\":{\"bar\":[{\"error_x\":{\"color\":\"#2a3f5f\"},\"error_y\":{\"color\":\"#2a3f5f\"},\"marker\":{\"line\":{\"color\":\"#E5ECF6\",\"width\":0.5},\"pattern\":{\"fillmode\":\"overlay\",\"size\":10,\"solidity\":0.2}},\"type\":\"bar\"}],\"barpolar\":[{\"marker\":{\"line\":{\"color\":\"#E5ECF6\",\"width\":0.5},\"pattern\":{\"fillmode\":\"overlay\",\"size\":10,\"solidity\":0.2}},\"type\":\"barpolar\"}],\"carpet\":[{\"aaxis\":{\"endlinecolor\":\"#2a3f5f\",\"gridcolor\":\"white\",\"linecolor\":\"white\",\"minorgridcolor\":\"white\",\"startlinecolor\":\"#2a3f5f\"},\"baxis\":{\"endlinecolor\":\"#2a3f5f\",\"gridcolor\":\"white\",\"linecolor\":\"white\",\"minorgridcolor\":\"white\",\"startlinecolor\":\"#2a3f5f\"},\"type\":\"carpet\"}],\"choropleth\":[{\"colorbar\":{\"outlinewidth\":0,\"ticks\":\"\"},\"type\":\"choropleth\"}],\"contour\":[{\"colorbar\":{\"outlinewidth\":0,\"ticks\":\"\"},\"colorscale\":[[0.0,\"#0d0887\"],[0.1111111111111111,\"#46039f\"],[0.2222222222222222,\"#7201a8\"],[0.3333333333333333,\"#9c179e\"],[0.4444444444444444,\"#bd3786\"],[0.5555555555555556,\"#d8576b\"],[0.6666666666666666,\"#ed7953\"],[0.7777777777777778,\"#fb9f3a\"],[0.8888888888888888,\"#fdca26\"],[1.0,\"#f0f921\"]],\"type\":\"contour\"}],\"contourcarpet\":[{\"colorbar\":{\"outlinewidth\":0,\"ticks\":\"\"},\"type\":\"contourcarpet\"}],\"heatmap\":[{\"colorbar\":{\"outlinewidth\":0,\"ticks\":\"\"},\"colorscale\":[[0.0,\"#0d0887\"],[0.1111111111111111,\"#46039f\"],[0.2222222222222222,\"#7201a8\"],[0.3333333333333333,\"#9c179e\"],[0.4444444444444444,\"#bd3786\"],[0.5555555555555556,\"#d8576b\"],[0.6666666666666666,\"#ed7953\"],[0.7777777777777778,\"#fb9f3a\"],[0.8888888888888888,\"#fdca26\"],[1.0,\"#f0f921\"]],\"type\":\"heatmap\"}],\"heatmapgl\":[{\"colorbar\":{\"outlinewidth\":0,\"ticks\":\"\"},\"colorscale\":[[0.0,\"#0d0887\"],[0.1111111111111111,\"#46039f\"],[0.2222222222222222,\"#7201a8\"],[0.3333333333333333,\"#9c179e\"],[0.4444444444444444,\"#bd3786\"],[0.5555555555555556,\"#d8576b\"],[0.6666666666666666,\"#ed7953\"],[0.7777777777777778,\"#fb9f3a\"],[0.8888888888888888,\"#fdca26\"],[1.0,\"#f0f921\"]],\"type\":\"heatmapgl\"}],\"histogram\":[{\"marker\":{\"pattern\":{\"fillmode\":\"overlay\",\"size\":10,\"solidity\":0.2}},\"type\":\"histogram\"}],\"histogram2d\":[{\"colorbar\":{\"outlinewidth\":0,\"ticks\":\"\"},\"colorscale\":[[0.0,\"#0d0887\"],[0.1111111111111111,\"#46039f\"],[0.2222222222222222,\"#7201a8\"],[0.3333333333333333,\"#9c179e\"],[0.4444444444444444,\"#bd3786\"],[0.5555555555555556,\"#d8576b\"],[0.6666666666666666,\"#ed7953\"],[0.7777777777777778,\"#fb9f3a\"],[0.8888888888888888,\"#fdca26\"],[1.0,\"#f0f921\"]],\"type\":\"histogram2d\"}],\"histogram2dcontour\":[{\"colorbar\":{\"outlinewidth\":0,\"ticks\":\"\"},\"colorscale\":[[0.0,\"#0d0887\"],[0.1111111111111111,\"#46039f\"],[0.2222222222222222,\"#7201a8\"],[0.3333333333333333,\"#9c179e\"],[0.4444444444444444,\"#bd3786\"],[0.5555555555555556,\"#d8576b\"],[0.6666666666666666,\"#ed7953\"],[0.7777777777777778,\"#fb9f3a\"],[0.8888888888888888,\"#fdca26\"],[1.0,\"#f0f921\"]],\"type\":\"histogram2dcontour\"}],\"mesh3d\":[{\"colorbar\":{\"outlinewidth\":0,\"ticks\":\"\"},\"type\":\"mesh3d\"}],\"parcoords\":[{\"line\":{\"colorbar\":{\"outlinewidth\":0,\"ticks\":\"\"}},\"type\":\"parcoords\"}],\"pie\":[{\"automargin\":true,\"type\":\"pie\"}],\"scatter\":[{\"marker\":{\"colorbar\":{\"outlinewidth\":0,\"ticks\":\"\"}},\"type\":\"scatter\"}],\"scatter3d\":[{\"line\":{\"colorbar\":{\"outlinewidth\":0,\"ticks\":\"\"}},\"marker\":{\"colorbar\":{\"outlinewidth\":0,\"ticks\":\"\"}},\"type\":\"scatter3d\"}],\"scattercarpet\":[{\"marker\":{\"colorbar\":{\"outlinewidth\":0,\"ticks\":\"\"}},\"type\":\"scattercarpet\"}],\"scattergeo\":[{\"marker\":{\"colorbar\":{\"outlinewidth\":0,\"ticks\":\"\"}},\"type\":\"scattergeo\"}],\"scattergl\":[{\"marker\":{\"colorbar\":{\"outlinewidth\":0,\"ticks\":\"\"}},\"type\":\"scattergl\"}],\"scattermapbox\":[{\"marker\":{\"colorbar\":{\"outlinewidth\":0,\"ticks\":\"\"}},\"type\":\"scattermapbox\"}],\"scatterpolar\":[{\"marker\":{\"colorbar\":{\"outlinewidth\":0,\"ticks\":\"\"}},\"type\":\"scatterpolar\"}],\"scatterpolargl\":[{\"marker\":{\"colorbar\":{\"outlinewidth\":0,\"ticks\":\"\"}},\"type\":\"scatterpolargl\"}],\"scatterternary\":[{\"marker\":{\"colorbar\":{\"outlinewidth\":0,\"ticks\":\"\"}},\"type\":\"scatterternary\"}],\"surface\":[{\"colorbar\":{\"outlinewidth\":0,\"ticks\":\"\"},\"colorscale\":[[0.0,\"#0d0887\"],[0.1111111111111111,\"#46039f\"],[0.2222222222222222,\"#7201a8\"],[0.3333333333333333,\"#9c179e\"],[0.4444444444444444,\"#bd3786\"],[0.5555555555555556,\"#d8576b\"],[0.6666666666666666,\"#ed7953\"],[0.7777777777777778,\"#fb9f3a\"],[0.8888888888888888,\"#fdca26\"],[1.0,\"#f0f921\"]],\"type\":\"surface\"}],\"table\":[{\"cells\":{\"fill\":{\"color\":\"#EBF0F8\"},\"line\":{\"color\":\"white\"}},\"header\":{\"fill\":{\"color\":\"#C8D4E3\"},\"line\":{\"color\":\"white\"}},\"type\":\"table\"}]},\"layout\":{\"annotationdefaults\":{\"arrowcolor\":\"#2a3f5f\",\"arrowhead\":0,\"arrowwidth\":1},\"autotypenumbers\":\"strict\",\"coloraxis\":{\"colorbar\":{\"outlinewidth\":0,\"ticks\":\"\"}},\"colorscale\":{\"diverging\":[[0,\"#8e0152\"],[0.1,\"#c51b7d\"],[0.2,\"#de77ae\"],[0.3,\"#f1b6da\"],[0.4,\"#fde0ef\"],[0.5,\"#f7f7f7\"],[0.6,\"#e6f5d0\"],[0.7,\"#b8e186\"],[0.8,\"#7fbc41\"],[0.9,\"#4d9221\"],[1,\"#276419\"]],\"sequential\":[[0.0,\"#0d0887\"],[0.1111111111111111,\"#46039f\"],[0.2222222222222222,\"#7201a8\"],[0.3333333333333333,\"#9c179e\"],[0.4444444444444444,\"#bd3786\"],[0.5555555555555556,\"#d8576b\"],[0.6666666666666666,\"#ed7953\"],[0.7777777777777778,\"#fb9f3a\"],[0.8888888888888888,\"#fdca26\"],[1.0,\"#f0f921\"]],\"sequentialminus\":[[0.0,\"#0d0887\"],[0.1111111111111111,\"#46039f\"],[0.2222222222222222,\"#7201a8\"],[0.3333333333333333,\"#9c179e\"],[0.4444444444444444,\"#bd3786\"],[0.5555555555555556,\"#d8576b\"],[0.6666666666666666,\"#ed7953\"],[0.7777777777777778,\"#fb9f3a\"],[0.8888888888888888,\"#fdca26\"],[1.0,\"#f0f921\"]]},\"colorway\":[\"#636efa\",\"#EF553B\",\"#00cc96\",\"#ab63fa\",\"#FFA15A\",\"#19d3f3\",\"#FF6692\",\"#B6E880\",\"#FF97FF\",\"#FECB52\"],\"font\":{\"color\":\"#2a3f5f\"},\"geo\":{\"bgcolor\":\"white\",\"lakecolor\":\"white\",\"landcolor\":\"#E5ECF6\",\"showlakes\":true,\"showland\":true,\"subunitcolor\":\"white\"},\"hoverlabel\":{\"align\":\"left\"},\"hovermode\":\"closest\",\"mapbox\":{\"style\":\"light\"},\"paper_bgcolor\":\"white\",\"plot_bgcolor\":\"#E5ECF6\",\"polar\":{\"angularaxis\":{\"gridcolor\":\"white\",\"linecolor\":\"white\",\"ticks\":\"\"},\"bgcolor\":\"#E5ECF6\",\"radialaxis\":{\"gridcolor\":\"white\",\"linecolor\":\"white\",\"ticks\":\"\"}},\"scene\":{\"xaxis\":{\"backgroundcolor\":\"#E5ECF6\",\"gridcolor\":\"white\",\"gridwidth\":2,\"linecolor\":\"white\",\"showbackground\":true,\"ticks\":\"\",\"zerolinecolor\":\"white\"},\"yaxis\":{\"backgroundcolor\":\"#E5ECF6\",\"gridcolor\":\"white\",\"gridwidth\":2,\"linecolor\":\"white\",\"showbackground\":true,\"ticks\":\"\",\"zerolinecolor\":\"white\"},\"zaxis\":{\"backgroundcolor\":\"#E5ECF6\",\"gridcolor\":\"white\",\"gridwidth\":2,\"linecolor\":\"white\",\"showbackground\":true,\"ticks\":\"\",\"zerolinecolor\":\"white\"}},\"shapedefaults\":{\"line\":{\"color\":\"#2a3f5f\"}},\"ternary\":{\"aaxis\":{\"gridcolor\":\"white\",\"linecolor\":\"white\",\"ticks\":\"\"},\"baxis\":{\"gridcolor\":\"white\",\"linecolor\":\"white\",\"ticks\":\"\"},\"bgcolor\":\"#E5ECF6\",\"caxis\":{\"gridcolor\":\"white\",\"linecolor\":\"white\",\"ticks\":\"\"}},\"title\":{\"x\":0.05},\"xaxis\":{\"automargin\":true,\"gridcolor\":\"white\",\"linecolor\":\"white\",\"ticks\":\"\",\"title\":{\"standoff\":15},\"zerolinecolor\":\"white\",\"zerolinewidth\":2},\"yaxis\":{\"automargin\":true,\"gridcolor\":\"white\",\"linecolor\":\"white\",\"ticks\":\"\",\"title\":{\"standoff\":15},\"zerolinecolor\":\"white\",\"zerolinewidth\":2}}}},                        {\"responsive\": true}                    ).then(function(){\n",
       "                            \n",
       "var gd = document.getElementById('6ebe17f4-57d3-4200-a638-82c43aab2d54');\n",
       "var x = new MutationObserver(function (mutations, observer) {{\n",
       "        var display = window.getComputedStyle(gd).display;\n",
       "        if (!display || display === 'none') {{\n",
       "            console.log([gd, 'removed!']);\n",
       "            Plotly.purge(gd);\n",
       "            observer.disconnect();\n",
       "        }}\n",
       "}});\n",
       "\n",
       "// Listen for the removal of the full notebook cells\n",
       "var notebookContainer = gd.closest('#notebook-container');\n",
       "if (notebookContainer) {{\n",
       "    x.observe(notebookContainer, {childList: true});\n",
       "}}\n",
       "\n",
       "// Listen for the clearing of the current output cell\n",
       "var outputEl = gd.closest('.output');\n",
       "if (outputEl) {{\n",
       "    x.observe(outputEl, {childList: true});\n",
       "}}\n",
       "\n",
       "                        })                };                });            </script>        </div>"
      ]
     },
     "metadata": {},
     "output_type": "display_data"
    },
    {
     "data": {
      "application/vnd.plotly.v1+json": {
       "config": {
        "plotlyServerURL": "https://plot.ly"
       },
       "data": [
        {
         "name": "Purchase House",
         "type": "bar",
         "x": [
          "Bathrooms",
          "Bedrooms"
         ],
         "y": [
          3,
          4
         ]
        },
        {
         "name": "Average House",
         "type": "bar",
         "x": [
          "Bathrooms",
          "Bedrooms"
         ],
         "y": [
          3.2,
          4
         ]
        }
       ],
       "layout": {
        "autosize": true,
        "barmode": "group",
        "template": {
         "data": {
          "bar": [
           {
            "error_x": {
             "color": "#2a3f5f"
            },
            "error_y": {
             "color": "#2a3f5f"
            },
            "marker": {
             "line": {
              "color": "#E5ECF6",
              "width": 0.5
             },
             "pattern": {
              "fillmode": "overlay",
              "size": 10,
              "solidity": 0.2
             }
            },
            "type": "bar"
           }
          ],
          "barpolar": [
           {
            "marker": {
             "line": {
              "color": "#E5ECF6",
              "width": 0.5
             },
             "pattern": {
              "fillmode": "overlay",
              "size": 10,
              "solidity": 0.2
             }
            },
            "type": "barpolar"
           }
          ],
          "carpet": [
           {
            "aaxis": {
             "endlinecolor": "#2a3f5f",
             "gridcolor": "white",
             "linecolor": "white",
             "minorgridcolor": "white",
             "startlinecolor": "#2a3f5f"
            },
            "baxis": {
             "endlinecolor": "#2a3f5f",
             "gridcolor": "white",
             "linecolor": "white",
             "minorgridcolor": "white",
             "startlinecolor": "#2a3f5f"
            },
            "type": "carpet"
           }
          ],
          "choropleth": [
           {
            "colorbar": {
             "outlinewidth": 0,
             "ticks": ""
            },
            "type": "choropleth"
           }
          ],
          "contour": [
           {
            "colorbar": {
             "outlinewidth": 0,
             "ticks": ""
            },
            "colorscale": [
             [
              0,
              "#0d0887"
             ],
             [
              0.1111111111111111,
              "#46039f"
             ],
             [
              0.2222222222222222,
              "#7201a8"
             ],
             [
              0.3333333333333333,
              "#9c179e"
             ],
             [
              0.4444444444444444,
              "#bd3786"
             ],
             [
              0.5555555555555556,
              "#d8576b"
             ],
             [
              0.6666666666666666,
              "#ed7953"
             ],
             [
              0.7777777777777778,
              "#fb9f3a"
             ],
             [
              0.8888888888888888,
              "#fdca26"
             ],
             [
              1,
              "#f0f921"
             ]
            ],
            "type": "contour"
           }
          ],
          "contourcarpet": [
           {
            "colorbar": {
             "outlinewidth": 0,
             "ticks": ""
            },
            "type": "contourcarpet"
           }
          ],
          "heatmap": [
           {
            "colorbar": {
             "outlinewidth": 0,
             "ticks": ""
            },
            "colorscale": [
             [
              0,
              "#0d0887"
             ],
             [
              0.1111111111111111,
              "#46039f"
             ],
             [
              0.2222222222222222,
              "#7201a8"
             ],
             [
              0.3333333333333333,
              "#9c179e"
             ],
             [
              0.4444444444444444,
              "#bd3786"
             ],
             [
              0.5555555555555556,
              "#d8576b"
             ],
             [
              0.6666666666666666,
              "#ed7953"
             ],
             [
              0.7777777777777778,
              "#fb9f3a"
             ],
             [
              0.8888888888888888,
              "#fdca26"
             ],
             [
              1,
              "#f0f921"
             ]
            ],
            "type": "heatmap"
           }
          ],
          "heatmapgl": [
           {
            "colorbar": {
             "outlinewidth": 0,
             "ticks": ""
            },
            "colorscale": [
             [
              0,
              "#0d0887"
             ],
             [
              0.1111111111111111,
              "#46039f"
             ],
             [
              0.2222222222222222,
              "#7201a8"
             ],
             [
              0.3333333333333333,
              "#9c179e"
             ],
             [
              0.4444444444444444,
              "#bd3786"
             ],
             [
              0.5555555555555556,
              "#d8576b"
             ],
             [
              0.6666666666666666,
              "#ed7953"
             ],
             [
              0.7777777777777778,
              "#fb9f3a"
             ],
             [
              0.8888888888888888,
              "#fdca26"
             ],
             [
              1,
              "#f0f921"
             ]
            ],
            "type": "heatmapgl"
           }
          ],
          "histogram": [
           {
            "marker": {
             "pattern": {
              "fillmode": "overlay",
              "size": 10,
              "solidity": 0.2
             }
            },
            "type": "histogram"
           }
          ],
          "histogram2d": [
           {
            "colorbar": {
             "outlinewidth": 0,
             "ticks": ""
            },
            "colorscale": [
             [
              0,
              "#0d0887"
             ],
             [
              0.1111111111111111,
              "#46039f"
             ],
             [
              0.2222222222222222,
              "#7201a8"
             ],
             [
              0.3333333333333333,
              "#9c179e"
             ],
             [
              0.4444444444444444,
              "#bd3786"
             ],
             [
              0.5555555555555556,
              "#d8576b"
             ],
             [
              0.6666666666666666,
              "#ed7953"
             ],
             [
              0.7777777777777778,
              "#fb9f3a"
             ],
             [
              0.8888888888888888,
              "#fdca26"
             ],
             [
              1,
              "#f0f921"
             ]
            ],
            "type": "histogram2d"
           }
          ],
          "histogram2dcontour": [
           {
            "colorbar": {
             "outlinewidth": 0,
             "ticks": ""
            },
            "colorscale": [
             [
              0,
              "#0d0887"
             ],
             [
              0.1111111111111111,
              "#46039f"
             ],
             [
              0.2222222222222222,
              "#7201a8"
             ],
             [
              0.3333333333333333,
              "#9c179e"
             ],
             [
              0.4444444444444444,
              "#bd3786"
             ],
             [
              0.5555555555555556,
              "#d8576b"
             ],
             [
              0.6666666666666666,
              "#ed7953"
             ],
             [
              0.7777777777777778,
              "#fb9f3a"
             ],
             [
              0.8888888888888888,
              "#fdca26"
             ],
             [
              1,
              "#f0f921"
             ]
            ],
            "type": "histogram2dcontour"
           }
          ],
          "mesh3d": [
           {
            "colorbar": {
             "outlinewidth": 0,
             "ticks": ""
            },
            "type": "mesh3d"
           }
          ],
          "parcoords": [
           {
            "line": {
             "colorbar": {
              "outlinewidth": 0,
              "ticks": ""
             }
            },
            "type": "parcoords"
           }
          ],
          "pie": [
           {
            "automargin": true,
            "type": "pie"
           }
          ],
          "scatter": [
           {
            "marker": {
             "colorbar": {
              "outlinewidth": 0,
              "ticks": ""
             }
            },
            "type": "scatter"
           }
          ],
          "scatter3d": [
           {
            "line": {
             "colorbar": {
              "outlinewidth": 0,
              "ticks": ""
             }
            },
            "marker": {
             "colorbar": {
              "outlinewidth": 0,
              "ticks": ""
             }
            },
            "type": "scatter3d"
           }
          ],
          "scattercarpet": [
           {
            "marker": {
             "colorbar": {
              "outlinewidth": 0,
              "ticks": ""
             }
            },
            "type": "scattercarpet"
           }
          ],
          "scattergeo": [
           {
            "marker": {
             "colorbar": {
              "outlinewidth": 0,
              "ticks": ""
             }
            },
            "type": "scattergeo"
           }
          ],
          "scattergl": [
           {
            "marker": {
             "colorbar": {
              "outlinewidth": 0,
              "ticks": ""
             }
            },
            "type": "scattergl"
           }
          ],
          "scattermapbox": [
           {
            "marker": {
             "colorbar": {
              "outlinewidth": 0,
              "ticks": ""
             }
            },
            "type": "scattermapbox"
           }
          ],
          "scatterpolar": [
           {
            "marker": {
             "colorbar": {
              "outlinewidth": 0,
              "ticks": ""
             }
            },
            "type": "scatterpolar"
           }
          ],
          "scatterpolargl": [
           {
            "marker": {
             "colorbar": {
              "outlinewidth": 0,
              "ticks": ""
             }
            },
            "type": "scatterpolargl"
           }
          ],
          "scatterternary": [
           {
            "marker": {
             "colorbar": {
              "outlinewidth": 0,
              "ticks": ""
             }
            },
            "type": "scatterternary"
           }
          ],
          "surface": [
           {
            "colorbar": {
             "outlinewidth": 0,
             "ticks": ""
            },
            "colorscale": [
             [
              0,
              "#0d0887"
             ],
             [
              0.1111111111111111,
              "#46039f"
             ],
             [
              0.2222222222222222,
              "#7201a8"
             ],
             [
              0.3333333333333333,
              "#9c179e"
             ],
             [
              0.4444444444444444,
              "#bd3786"
             ],
             [
              0.5555555555555556,
              "#d8576b"
             ],
             [
              0.6666666666666666,
              "#ed7953"
             ],
             [
              0.7777777777777778,
              "#fb9f3a"
             ],
             [
              0.8888888888888888,
              "#fdca26"
             ],
             [
              1,
              "#f0f921"
             ]
            ],
            "type": "surface"
           }
          ],
          "table": [
           {
            "cells": {
             "fill": {
              "color": "#EBF0F8"
             },
             "line": {
              "color": "white"
             }
            },
            "header": {
             "fill": {
              "color": "#C8D4E3"
             },
             "line": {
              "color": "white"
             }
            },
            "type": "table"
           }
          ]
         },
         "layout": {
          "annotationdefaults": {
           "arrowcolor": "#2a3f5f",
           "arrowhead": 0,
           "arrowwidth": 1
          },
          "autotypenumbers": "strict",
          "coloraxis": {
           "colorbar": {
            "outlinewidth": 0,
            "ticks": ""
           }
          },
          "colorscale": {
           "diverging": [
            [
             0,
             "#8e0152"
            ],
            [
             0.1,
             "#c51b7d"
            ],
            [
             0.2,
             "#de77ae"
            ],
            [
             0.3,
             "#f1b6da"
            ],
            [
             0.4,
             "#fde0ef"
            ],
            [
             0.5,
             "#f7f7f7"
            ],
            [
             0.6,
             "#e6f5d0"
            ],
            [
             0.7,
             "#b8e186"
            ],
            [
             0.8,
             "#7fbc41"
            ],
            [
             0.9,
             "#4d9221"
            ],
            [
             1,
             "#276419"
            ]
           ],
           "sequential": [
            [
             0,
             "#0d0887"
            ],
            [
             0.1111111111111111,
             "#46039f"
            ],
            [
             0.2222222222222222,
             "#7201a8"
            ],
            [
             0.3333333333333333,
             "#9c179e"
            ],
            [
             0.4444444444444444,
             "#bd3786"
            ],
            [
             0.5555555555555556,
             "#d8576b"
            ],
            [
             0.6666666666666666,
             "#ed7953"
            ],
            [
             0.7777777777777778,
             "#fb9f3a"
            ],
            [
             0.8888888888888888,
             "#fdca26"
            ],
            [
             1,
             "#f0f921"
            ]
           ],
           "sequentialminus": [
            [
             0,
             "#0d0887"
            ],
            [
             0.1111111111111111,
             "#46039f"
            ],
            [
             0.2222222222222222,
             "#7201a8"
            ],
            [
             0.3333333333333333,
             "#9c179e"
            ],
            [
             0.4444444444444444,
             "#bd3786"
            ],
            [
             0.5555555555555556,
             "#d8576b"
            ],
            [
             0.6666666666666666,
             "#ed7953"
            ],
            [
             0.7777777777777778,
             "#fb9f3a"
            ],
            [
             0.8888888888888888,
             "#fdca26"
            ],
            [
             1,
             "#f0f921"
            ]
           ]
          },
          "colorway": [
           "#636efa",
           "#EF553B",
           "#00cc96",
           "#ab63fa",
           "#FFA15A",
           "#19d3f3",
           "#FF6692",
           "#B6E880",
           "#FF97FF",
           "#FECB52"
          ],
          "font": {
           "color": "#2a3f5f"
          },
          "geo": {
           "bgcolor": "white",
           "lakecolor": "white",
           "landcolor": "#E5ECF6",
           "showlakes": true,
           "showland": true,
           "subunitcolor": "white"
          },
          "hoverlabel": {
           "align": "left"
          },
          "hovermode": "closest",
          "mapbox": {
           "style": "light"
          },
          "paper_bgcolor": "white",
          "plot_bgcolor": "#E5ECF6",
          "polar": {
           "angularaxis": {
            "gridcolor": "white",
            "linecolor": "white",
            "ticks": ""
           },
           "bgcolor": "#E5ECF6",
           "radialaxis": {
            "gridcolor": "white",
            "linecolor": "white",
            "ticks": ""
           }
          },
          "scene": {
           "xaxis": {
            "backgroundcolor": "#E5ECF6",
            "gridcolor": "white",
            "gridwidth": 2,
            "linecolor": "white",
            "showbackground": true,
            "ticks": "",
            "zerolinecolor": "white"
           },
           "yaxis": {
            "backgroundcolor": "#E5ECF6",
            "gridcolor": "white",
            "gridwidth": 2,
            "linecolor": "white",
            "showbackground": true,
            "ticks": "",
            "zerolinecolor": "white"
           },
           "zaxis": {
            "backgroundcolor": "#E5ECF6",
            "gridcolor": "white",
            "gridwidth": 2,
            "linecolor": "white",
            "showbackground": true,
            "ticks": "",
            "zerolinecolor": "white"
           }
          },
          "shapedefaults": {
           "line": {
            "color": "#2a3f5f"
           }
          },
          "ternary": {
           "aaxis": {
            "gridcolor": "white",
            "linecolor": "white",
            "ticks": ""
           },
           "baxis": {
            "gridcolor": "white",
            "linecolor": "white",
            "ticks": ""
           },
           "bgcolor": "#E5ECF6",
           "caxis": {
            "gridcolor": "white",
            "linecolor": "white",
            "ticks": ""
           }
          },
          "title": {
           "x": 0.05
          },
          "xaxis": {
           "automargin": true,
           "gridcolor": "white",
           "linecolor": "white",
           "ticks": "",
           "title": {
            "standoff": 15
           },
           "zerolinecolor": "white",
           "zerolinewidth": 2
          },
          "yaxis": {
           "automargin": true,
           "gridcolor": "white",
           "linecolor": "white",
           "ticks": "",
           "title": {
            "standoff": 15
           },
           "zerolinecolor": "white",
           "zerolinewidth": 2
          }
         }
        },
        "xaxis": {
         "autorange": true,
         "range": [
          -0.5,
          1.5
         ],
         "type": "category"
        },
        "yaxis": {
         "autorange": true,
         "range": [
          0,
          4.2105263157894735
         ],
         "type": "linear"
        }
       }
      },
      "image/png": "[encoded data removed]",
      "text/html": [
       "<div>                            <div id=\"2d7c3aeb-246b-4257-b0b2-a6d78812532b\" class=\"plotly-graph-div\" style=\"height:525px; width:100%;\"></div>            <script type=\"text/javascript\">                require([\"plotly\"], function(Plotly) {                    window.PLOTLYENV=window.PLOTLYENV || {};                                    if (document.getElementById(\"2d7c3aeb-246b-4257-b0b2-a6d78812532b\")) {                    Plotly.newPlot(                        \"2d7c3aeb-246b-4257-b0b2-a6d78812532b\",                        [{\"name\":\"Purchase House\",\"type\":\"bar\",\"x\":[\"Bathrooms\",\"Bedrooms\"],\"y\":[3,4]},{\"name\":\"Average House\",\"type\":\"bar\",\"x\":[\"Bathrooms\",\"Bedrooms\"],\"y\":[3.2,4.0]}],                        {\"barmode\":\"group\",\"template\":{\"data\":{\"bar\":[{\"error_x\":{\"color\":\"#2a3f5f\"},\"error_y\":{\"color\":\"#2a3f5f\"},\"marker\":{\"line\":{\"color\":\"#E5ECF6\",\"width\":0.5},\"pattern\":{\"fillmode\":\"overlay\",\"size\":10,\"solidity\":0.2}},\"type\":\"bar\"}],\"barpolar\":[{\"marker\":{\"line\":{\"color\":\"#E5ECF6\",\"width\":0.5},\"pattern\":{\"fillmode\":\"overlay\",\"size\":10,\"solidity\":0.2}},\"type\":\"barpolar\"}],\"carpet\":[{\"aaxis\":{\"endlinecolor\":\"#2a3f5f\",\"gridcolor\":\"white\",\"linecolor\":\"white\",\"minorgridcolor\":\"white\",\"startlinecolor\":\"#2a3f5f\"},\"baxis\":{\"endlinecolor\":\"#2a3f5f\",\"gridcolor\":\"white\",\"linecolor\":\"white\",\"minorgridcolor\":\"white\",\"startlinecolor\":\"#2a3f5f\"},\"type\":\"carpet\"}],\"choropleth\":[{\"colorbar\":{\"outlinewidth\":0,\"ticks\":\"\"},\"type\":\"choropleth\"}],\"contour\":[{\"colorbar\":{\"outlinewidth\":0,\"ticks\":\"\"},\"colorscale\":[[0.0,\"#0d0887\"],[0.1111111111111111,\"#46039f\"],[0.2222222222222222,\"#7201a8\"],[0.3333333333333333,\"#9c179e\"],[0.4444444444444444,\"#bd3786\"],[0.5555555555555556,\"#d8576b\"],[0.6666666666666666,\"#ed7953\"],[0.7777777777777778,\"#fb9f3a\"],[0.8888888888888888,\"#fdca26\"],[1.0,\"#f0f921\"]],\"type\":\"contour\"}],\"contourcarpet\":[{\"colorbar\":{\"outlinewidth\":0,\"ticks\":\"\"},\"type\":\"contourcarpet\"}],\"heatmap\":[{\"colorbar\":{\"outlinewidth\":0,\"ticks\":\"\"},\"colorscale\":[[0.0,\"#0d0887\"],[0.1111111111111111,\"#46039f\"],[0.2222222222222222,\"#7201a8\"],[0.3333333333333333,\"#9c179e\"],[0.4444444444444444,\"#bd3786\"],[0.5555555555555556,\"#d8576b\"],[0.6666666666666666,\"#ed7953\"],[0.7777777777777778,\"#fb9f3a\"],[0.8888888888888888,\"#fdca26\"],[1.0,\"#f0f921\"]],\"type\":\"heatmap\"}],\"heatmapgl\":[{\"colorbar\":{\"outlinewidth\":0,\"ticks\":\"\"},\"colorscale\":[[0.0,\"#0d0887\"],[0.1111111111111111,\"#46039f\"],[0.2222222222222222,\"#7201a8\"],[0.3333333333333333,\"#9c179e\"],[0.4444444444444444,\"#bd3786\"],[0.5555555555555556,\"#d8576b\"],[0.6666666666666666,\"#ed7953\"],[0.7777777777777778,\"#fb9f3a\"],[0.8888888888888888,\"#fdca26\"],[1.0,\"#f0f921\"]],\"type\":\"heatmapgl\"}],\"histogram\":[{\"marker\":{\"pattern\":{\"fillmode\":\"overlay\",\"size\":10,\"solidity\":0.2}},\"type\":\"histogram\"}],\"histogram2d\":[{\"colorbar\":{\"outlinewidth\":0,\"ticks\":\"\"},\"colorscale\":[[0.0,\"#0d0887\"],[0.1111111111111111,\"#46039f\"],[0.2222222222222222,\"#7201a8\"],[0.3333333333333333,\"#9c179e\"],[0.4444444444444444,\"#bd3786\"],[0.5555555555555556,\"#d8576b\"],[0.6666666666666666,\"#ed7953\"],[0.7777777777777778,\"#fb9f3a\"],[0.8888888888888888,\"#fdca26\"],[1.0,\"#f0f921\"]],\"type\":\"histogram2d\"}],\"histogram2dcontour\":[{\"colorbar\":{\"outlinewidth\":0,\"ticks\":\"\"},\"colorscale\":[[0.0,\"#0d0887\"],[0.1111111111111111,\"#46039f\"],[0.2222222222222222,\"#7201a8\"],[0.3333333333333333,\"#9c179e\"],[0.4444444444444444,\"#bd3786\"],[0.5555555555555556,\"#d8576b\"],[0.6666666666666666,\"#ed7953\"],[0.7777777777777778,\"#fb9f3a\"],[0.8888888888888888,\"#fdca26\"],[1.0,\"#f0f921\"]],\"type\":\"histogram2dcontour\"}],\"mesh3d\":[{\"colorbar\":{\"outlinewidth\":0,\"ticks\":\"\"},\"type\":\"mesh3d\"}],\"parcoords\":[{\"line\":{\"colorbar\":{\"outlinewidth\":0,\"ticks\":\"\"}},\"type\":\"parcoords\"}],\"pie\":[{\"automargin\":true,\"type\":\"pie\"}],\"scatter\":[{\"marker\":{\"colorbar\":{\"outlinewidth\":0,\"ticks\":\"\"}},\"type\":\"scatter\"}],\"scatter3d\":[{\"line\":{\"colorbar\":{\"outlinewidth\":0,\"ticks\":\"\"}},\"marker\":{\"colorbar\":{\"outlinewidth\":0,\"ticks\":\"\"}},\"type\":\"scatter3d\"}],\"scattercarpet\":[{\"marker\":{\"colorbar\":{\"outlinewidth\":0,\"ticks\":\"\"}},\"type\":\"scattercarpet\"}],\"scattergeo\":[{\"marker\":{\"colorbar\":{\"outlinewidth\":0,\"ticks\":\"\"}},\"type\":\"scattergeo\"}],\"scattergl\":[{\"marker\":{\"colorbar\":{\"outlinewidth\":0,\"ticks\":\"\"}},\"type\":\"scattergl\"}],\"scattermapbox\":[{\"marker\":{\"colorbar\":{\"outlinewidth\":0,\"ticks\":\"\"}},\"type\":\"scattermapbox\"}],\"scatterpolar\":[{\"marker\":{\"colorbar\":{\"outlinewidth\":0,\"ticks\":\"\"}},\"type\":\"scatterpolar\"}],\"scatterpolargl\":[{\"marker\":{\"colorbar\":{\"outlinewidth\":0,\"ticks\":\"\"}},\"type\":\"scatterpolargl\"}],\"scatterternary\":[{\"marker\":{\"colorbar\":{\"outlinewidth\":0,\"ticks\":\"\"}},\"type\":\"scatterternary\"}],\"surface\":[{\"colorbar\":{\"outlinewidth\":0,\"ticks\":\"\"},\"colorscale\":[[0.0,\"#0d0887\"],[0.1111111111111111,\"#46039f\"],[0.2222222222222222,\"#7201a8\"],[0.3333333333333333,\"#9c179e\"],[0.4444444444444444,\"#bd3786\"],[0.5555555555555556,\"#d8576b\"],[0.6666666666666666,\"#ed7953\"],[0.7777777777777778,\"#fb9f3a\"],[0.8888888888888888,\"#fdca26\"],[1.0,\"#f0f921\"]],\"type\":\"surface\"}],\"table\":[{\"cells\":{\"fill\":{\"color\":\"#EBF0F8\"},\"line\":{\"color\":\"white\"}},\"header\":{\"fill\":{\"color\":\"#C8D4E3\"},\"line\":{\"color\":\"white\"}},\"type\":\"table\"}]},\"layout\":{\"annotationdefaults\":{\"arrowcolor\":\"#2a3f5f\",\"arrowhead\":0,\"arrowwidth\":1},\"autotypenumbers\":\"strict\",\"coloraxis\":{\"colorbar\":{\"outlinewidth\":0,\"ticks\":\"\"}},\"colorscale\":{\"diverging\":[[0,\"#8e0152\"],[0.1,\"#c51b7d\"],[0.2,\"#de77ae\"],[0.3,\"#f1b6da\"],[0.4,\"#fde0ef\"],[0.5,\"#f7f7f7\"],[0.6,\"#e6f5d0\"],[0.7,\"#b8e186\"],[0.8,\"#7fbc41\"],[0.9,\"#4d9221\"],[1,\"#276419\"]],\"sequential\":[[0.0,\"#0d0887\"],[0.1111111111111111,\"#46039f\"],[0.2222222222222222,\"#7201a8\"],[0.3333333333333333,\"#9c179e\"],[0.4444444444444444,\"#bd3786\"],[0.5555555555555556,\"#d8576b\"],[0.6666666666666666,\"#ed7953\"],[0.7777777777777778,\"#fb9f3a\"],[0.8888888888888888,\"#fdca26\"],[1.0,\"#f0f921\"]],\"sequentialminus\":[[0.0,\"#0d0887\"],[0.1111111111111111,\"#46039f\"],[0.2222222222222222,\"#7201a8\"],[0.3333333333333333,\"#9c179e\"],[0.4444444444444444,\"#bd3786\"],[0.5555555555555556,\"#d8576b\"],[0.6666666666666666,\"#ed7953\"],[0.7777777777777778,\"#fb9f3a\"],[0.8888888888888888,\"#fdca26\"],[1.0,\"#f0f921\"]]},\"colorway\":[\"#636efa\",\"#EF553B\",\"#00cc96\",\"#ab63fa\",\"#FFA15A\",\"#19d3f3\",\"#FF6692\",\"#B6E880\",\"#FF97FF\",\"#FECB52\"],\"font\":{\"color\":\"#2a3f5f\"},\"geo\":{\"bgcolor\":\"white\",\"lakecolor\":\"white\",\"landcolor\":\"#E5ECF6\",\"showlakes\":true,\"showland\":true,\"subunitcolor\":\"white\"},\"hoverlabel\":{\"align\":\"left\"},\"hovermode\":\"closest\",\"mapbox\":{\"style\":\"light\"},\"paper_bgcolor\":\"white\",\"plot_bgcolor\":\"#E5ECF6\",\"polar\":{\"angularaxis\":{\"gridcolor\":\"white\",\"linecolor\":\"white\",\"ticks\":\"\"},\"bgcolor\":\"#E5ECF6\",\"radialaxis\":{\"gridcolor\":\"white\",\"linecolor\":\"white\",\"ticks\":\"\"}},\"scene\":{\"xaxis\":{\"backgroundcolor\":\"#E5ECF6\",\"gridcolor\":\"white\",\"gridwidth\":2,\"linecolor\":\"white\",\"showbackground\":true,\"ticks\":\"\",\"zerolinecolor\":\"white\"},\"yaxis\":{\"backgroundcolor\":\"#E5ECF6\",\"gridcolor\":\"white\",\"gridwidth\":2,\"linecolor\":\"white\",\"showbackground\":true,\"ticks\":\"\",\"zerolinecolor\":\"white\"},\"zaxis\":{\"backgroundcolor\":\"#E5ECF6\",\"gridcolor\":\"white\",\"gridwidth\":2,\"linecolor\":\"white\",\"showbackground\":true,\"ticks\":\"\",\"zerolinecolor\":\"white\"}},\"shapedefaults\":{\"line\":{\"color\":\"#2a3f5f\"}},\"ternary\":{\"aaxis\":{\"gridcolor\":\"white\",\"linecolor\":\"white\",\"ticks\":\"\"},\"baxis\":{\"gridcolor\":\"white\",\"linecolor\":\"white\",\"ticks\":\"\"},\"bgcolor\":\"#E5ECF6\",\"caxis\":{\"gridcolor\":\"white\",\"linecolor\":\"white\",\"ticks\":\"\"}},\"title\":{\"x\":0.05},\"xaxis\":{\"automargin\":true,\"gridcolor\":\"white\",\"linecolor\":\"white\",\"ticks\":\"\",\"title\":{\"standoff\":15},\"zerolinecolor\":\"white\",\"zerolinewidth\":2},\"yaxis\":{\"automargin\":true,\"gridcolor\":\"white\",\"linecolor\":\"white\",\"ticks\":\"\",\"title\":{\"standoff\":15},\"zerolinecolor\":\"white\",\"zerolinewidth\":2}}}},                        {\"responsive\": true}                    ).then(function(){\n",
       "                            \n",
       "var gd = document.getElementById('2d7c3aeb-246b-4257-b0b2-a6d78812532b');\n",
       "var x = new MutationObserver(function (mutations, observer) {{\n",
       "        var display = window.getComputedStyle(gd).display;\n",
       "        if (!display || display === 'none') {{\n",
       "            console.log([gd, 'removed!']);\n",
       "            Plotly.purge(gd);\n",
       "            observer.disconnect();\n",
       "        }}\n",
       "}});\n",
       "\n",
       "// Listen for the removal of the full notebook cells\n",
       "var notebookContainer = gd.closest('#notebook-container');\n",
       "if (notebookContainer) {{\n",
       "    x.observe(notebookContainer, {childList: true});\n",
       "}}\n",
       "\n",
       "// Listen for the clearing of the current output cell\n",
       "var outputEl = gd.closest('.output');\n",
       "if (outputEl) {{\n",
       "    x.observe(outputEl, {childList: true});\n",
       "}}\n",
       "\n",
       "                        })                };                });            </script>        </div>"
      ]
     },
     "metadata": {},
     "output_type": "display_data"
    }
   ],
   "source": [
    "# Vizualisations\n",
    "## First vizualisation : comparison of caracteristics between current house for sale and mean house profile sold\n",
    "# Split caracteristics for each line of the plot\n",
    "caracteristics_1 = [\"price per sqft\", \"Average sqft\"]\n",
    "caracteristics_2 = [\"Bathrooms\",  \"Bedrooms\"]\n",
    "\n",
    "# Set the first figure\n",
    "fig1 = go.Figure(data=[\n",
    "    go.Bar(name=\"Purchase House\", x=caracteristics_1, y=[Purchase_house_price_per_sqft , Purchase_house_sqft]),\n",
    "    go.Bar(name=\"Average House\", x=caracteristics_1, y= [sold_average_price_per_sqft , sold_average_sqft ])\n",
    "    ])\n",
    "\n",
    "# Set the second figure\n",
    "fig2 = go.Figure(data=[\n",
    "    go.Bar(name=\"Purchase House\", x=caracteristics_2, y=[ Purchase_house_bathrooms , Purchase_house_bedrooms]),\n",
    "    go.Bar(name=\"Average House\", x=caracteristics_2, y= [sold_average_bathrooms , sold_average_bedrooms ])\n",
    "    ])\n",
    "\n",
    "# Split each figure in two subfigures\n",
    "fig1.update_layout(barmode='group')\n",
    "fig2.update_layout(barmode='group')\n",
    "\n",
    "\n",
    "# Show figure\n",
    "fig1.show()\n",
    "fig2.show()"
   ]
  },
  {
   "cell_type": "code",
   "execution_count": 219,
   "id": "6b7acfed-dbfd-413e-b137-80539326e076",
   "metadata": {},
   "outputs": [
    {
     "data": {
      "text/plain": [
       "<AxesSubplot:title={'center':' Price houses for sale by neighborhood'}, xlabel='zip code', ylabel=' Price per sqft'>"
      ]
     },
     "execution_count": 219,
     "metadata": {},
     "output_type": "execute_result"
    },
    {
     "data": {
      "image/png": "[encoded data removed]",
      "text/plain": [
       "<Figure size 720x360 with 1 Axes>"
      ]
     },
     "metadata": {
      "needs_background": "light"
     },
     "output_type": "display_data"
    }
   ],
   "source": [
    "## Second vizualisation : prices of the different house by neighborhood and sort them\n",
    "# Sort prices by mean price for each zip code in an descending order\n",
    "current_price_by_neighborhood = current_price_df.groupby(\"zip code\").mean()\n",
    "current_price_by_neighborhood.reset_index(inplace=True)\n",
    "current_price_by_neighborhood.sort_values(\"price_per_sqft\", ascending=False, inplace=True)\n",
    "\n",
    "# Plot image\n",
    "current_price_by_neighborhood.plot.bar(x=\"zip code\", y= \"price_per_sqft\", ylabel = \" Price per sqft\", title=\" Price houses for sale by neighborhood\", figsize =(10, 5))"
   ]
  },
  {
   "cell_type": "code",
   "execution_count": 115,
   "id": "634a423d-9e71-4d7a-95c1-275eea7b699a",
   "metadata": {},
   "outputs": [
    {
     "data": {
      "application/vnd.plotly.v1+json": {
       "config": {
        "plotlyServerURL": "https://plot.ly"
       },
       "data": [
        {
         "dimensions": [
          {
           "label": "price_per_sqft",
           "values": [
            104.16666666666667,
            169.27083333333334,
            225.30464091262638,
            59.07079646017699,
            71.74887892376681,
            247.20813397129186,
            192.59259259259258,
            155.55555555555554,
            226.29310344827587,
            259.9,
            127.47875354107649,
            305.44444444444446,
            161.31332082551594,
            204.39814814814815,
            174.27884615384616,
            225.18382352941177,
            231.30040322580646,
            129.50394144144144,
            235.83333333333334,
            318.0163785259327,
            244.55151964418087,
            123.6917221693625,
            151.47727272727272,
            238.0952380952381,
            211.5234375,
            36.96296296296296,
            825.6775378961875,
            225.44283413848632,
            239.86068111455108,
            244.95,
            201.41015310233684,
            145.23809523809524,
            148.75992063492063,
            199.53191489361703,
            296.77113010446345,
            269.8412698412698,
            330.6878306878307,
            223.8695652173913,
            142.9738562091503,
            32.467532467532465
           ]
          },
          {
           "label": "price",
           "values": [
            150000,
            325000,
            869000,
            267000,
            144000,
            309999,
            260000,
            210000,
            315000,
            259900,
            180000,
            274900,
            429900,
            264900,
            290000,
            245000,
            458900,
            229999,
            849000,
            699000,
            329900,
            260000,
            399900,
            375000,
            324900,
            49900,
            3595000,
            280000,
            309900,
            489900,
            499900,
            305000,
            299900,
            468900,
            1875000,
            595000,
            1250000,
            514900,
            175000,
            30000
           ]
          },
          {
           "label": "bathrooms",
           "values": [
            2,
            2,
            4,
            4,
            3,
            2,
            2,
            3,
            2,
            1,
            1,
            2,
            3,
            3,
            3,
            1,
            3,
            2,
            5,
            3,
            2,
            2,
            4,
            1,
            2,
            1,
            5,
            2,
            2,
            3,
            2,
            3,
            4,
            4,
            5,
            3,
            5,
            3,
            2,
            1
           ]
          },
          {
           "label": "bedrooms",
           "values": [
            4,
            4,
            5,
            5,
            5,
            3,
            3,
            5,
            3,
            2,
            4,
            2,
            4,
            3,
            4,
            3,
            4,
            5,
            4,
            4,
            3,
            4,
            4,
            3,
            3,
            3,
            4,
            3,
            3,
            3,
            3,
            5,
            4,
            4,
            5,
            4,
            6,
            4,
            3,
            3
           ]
          }
         ],
         "domain": {
          "x": [
           0,
           1
          ],
          "y": [
           0,
           1
          ]
         },
         "line": {
          "color": [
           1440,
           1920,
           3857,
           4520,
           2007,
           1254,
           1350,
           1350,
           1392,
           1000,
           1412,
           900,
           2665,
           1296,
           1664,
           1088,
           1984,
           1776,
           3600,
           2198,
           1349,
           2102,
           2640,
           1575,
           1536,
           1350,
           4354,
           1242,
           1292,
           2000,
           2482,
           2100,
           2016,
           2350,
           6318,
           2205,
           3780,
           2300,
           1224,
           924
          ],
          "coloraxis": "coloraxis"
         },
         "name": "",
         "type": "parcoords"
        }
       ],
       "layout": {
        "autosize": true,
        "coloraxis": {
         "colorbar": {
          "title": {
           "text": "Area in sqft."
          }
         },
         "colorscale": [
          [
           0,
           "#000004"
          ],
          [
           0.1111111111111111,
           "#1b0c41"
          ],
          [
           0.2222222222222222,
           "#4a0c6b"
          ],
          [
           0.3333333333333333,
           "#781c6d"
          ],
          [
           0.4444444444444444,
           "#a52c60"
          ],
          [
           0.5555555555555556,
           "#cf4446"
          ],
          [
           0.6666666666666666,
           "#ed6925"
          ],
          [
           0.7777777777777778,
           "#fb9b06"
          ],
          [
           0.8888888888888888,
           "#f7d13d"
          ],
          [
           1,
           "#fcffa4"
          ]
         ]
        },
        "legend": {
         "tracegroupgap": 0
        },
        "template": {
         "data": {
          "bar": [
           {
            "error_x": {
             "color": "#2a3f5f"
            },
            "error_y": {
             "color": "#2a3f5f"
            },
            "marker": {
             "line": {
              "color": "#E5ECF6",
              "width": 0.5
             },
             "pattern": {
              "fillmode": "overlay",
              "size": 10,
              "solidity": 0.2
             }
            },
            "type": "bar"
           }
          ],
          "barpolar": [
           {
            "marker": {
             "line": {
              "color": "#E5ECF6",
              "width": 0.5
             },
             "pattern": {
              "fillmode": "overlay",
              "size": 10,
              "solidity": 0.2
             }
            },
            "type": "barpolar"
           }
          ],
          "carpet": [
           {
            "aaxis": {
             "endlinecolor": "#2a3f5f",
             "gridcolor": "white",
             "linecolor": "white",
             "minorgridcolor": "white",
             "startlinecolor": "#2a3f5f"
            },
            "baxis": {
             "endlinecolor": "#2a3f5f",
             "gridcolor": "white",
             "linecolor": "white",
             "minorgridcolor": "white",
             "startlinecolor": "#2a3f5f"
            },
            "type": "carpet"
           }
          ],
          "choropleth": [
           {
            "colorbar": {
             "outlinewidth": 0,
             "ticks": ""
            },
            "type": "choropleth"
           }
          ],
          "contour": [
           {
            "colorbar": {
             "outlinewidth": 0,
             "ticks": ""
            },
            "colorscale": [
             [
              0,
              "#0d0887"
             ],
             [
              0.1111111111111111,
              "#46039f"
             ],
             [
              0.2222222222222222,
              "#7201a8"
             ],
             [
              0.3333333333333333,
              "#9c179e"
             ],
             [
              0.4444444444444444,
              "#bd3786"
             ],
             [
              0.5555555555555556,
              "#d8576b"
             ],
             [
              0.6666666666666666,
              "#ed7953"
             ],
             [
              0.7777777777777778,
              "#fb9f3a"
             ],
             [
              0.8888888888888888,
              "#fdca26"
             ],
             [
              1,
              "#f0f921"
             ]
            ],
            "type": "contour"
           }
          ],
          "contourcarpet": [
           {
            "colorbar": {
             "outlinewidth": 0,
             "ticks": ""
            },
            "type": "contourcarpet"
           }
          ],
          "heatmap": [
           {
            "colorbar": {
             "outlinewidth": 0,
             "ticks": ""
            },
            "colorscale": [
             [
              0,
              "#0d0887"
             ],
             [
              0.1111111111111111,
              "#46039f"
             ],
             [
              0.2222222222222222,
              "#7201a8"
             ],
             [
              0.3333333333333333,
              "#9c179e"
             ],
             [
              0.4444444444444444,
              "#bd3786"
             ],
             [
              0.5555555555555556,
              "#d8576b"
             ],
             [
              0.6666666666666666,
              "#ed7953"
             ],
             [
              0.7777777777777778,
              "#fb9f3a"
             ],
             [
              0.8888888888888888,
              "#fdca26"
             ],
             [
              1,
              "#f0f921"
             ]
            ],
            "type": "heatmap"
           }
          ],
          "heatmapgl": [
           {
            "colorbar": {
             "outlinewidth": 0,
             "ticks": ""
            },
            "colorscale": [
             [
              0,
              "#0d0887"
             ],
             [
              0.1111111111111111,
              "#46039f"
             ],
             [
              0.2222222222222222,
              "#7201a8"
             ],
             [
              0.3333333333333333,
              "#9c179e"
             ],
             [
              0.4444444444444444,
              "#bd3786"
             ],
             [
              0.5555555555555556,
              "#d8576b"
             ],
             [
              0.6666666666666666,
              "#ed7953"
             ],
             [
              0.7777777777777778,
              "#fb9f3a"
             ],
             [
              0.8888888888888888,
              "#fdca26"
             ],
             [
              1,
              "#f0f921"
             ]
            ],
            "type": "heatmapgl"
           }
          ],
          "histogram": [
           {
            "marker": {
             "pattern": {
              "fillmode": "overlay",
              "size": 10,
              "solidity": 0.2
             }
            },
            "type": "histogram"
           }
          ],
          "histogram2d": [
           {
            "colorbar": {
             "outlinewidth": 0,
             "ticks": ""
            },
            "colorscale": [
             [
              0,
              "#0d0887"
             ],
             [
              0.1111111111111111,
              "#46039f"
             ],
             [
              0.2222222222222222,
              "#7201a8"
             ],
             [
              0.3333333333333333,
              "#9c179e"
             ],
             [
              0.4444444444444444,
              "#bd3786"
             ],
             [
              0.5555555555555556,
              "#d8576b"
             ],
             [
              0.6666666666666666,
              "#ed7953"
             ],
             [
              0.7777777777777778,
              "#fb9f3a"
             ],
             [
              0.8888888888888888,
              "#fdca26"
             ],
             [
              1,
              "#f0f921"
             ]
            ],
            "type": "histogram2d"
           }
          ],
          "histogram2dcontour": [
           {
            "colorbar": {
             "outlinewidth": 0,
             "ticks": ""
            },
            "colorscale": [
             [
              0,
              "#0d0887"
             ],
             [
              0.1111111111111111,
              "#46039f"
             ],
             [
              0.2222222222222222,
              "#7201a8"
             ],
             [
              0.3333333333333333,
              "#9c179e"
             ],
             [
              0.4444444444444444,
              "#bd3786"
             ],
             [
              0.5555555555555556,
              "#d8576b"
             ],
             [
              0.6666666666666666,
              "#ed7953"
             ],
             [
              0.7777777777777778,
              "#fb9f3a"
             ],
             [
              0.8888888888888888,
              "#fdca26"
             ],
             [
              1,
              "#f0f921"
             ]
            ],
            "type": "histogram2dcontour"
           }
          ],
          "mesh3d": [
           {
            "colorbar": {
             "outlinewidth": 0,
             "ticks": ""
            },
            "type": "mesh3d"
           }
          ],
          "parcoords": [
           {
            "line": {
             "colorbar": {
              "outlinewidth": 0,
              "ticks": ""
             }
            },
            "type": "parcoords"
           }
          ],
          "pie": [
           {
            "automargin": true,
            "type": "pie"
           }
          ],
          "scatter": [
           {
            "marker": {
             "colorbar": {
              "outlinewidth": 0,
              "ticks": ""
             }
            },
            "type": "scatter"
           }
          ],
          "scatter3d": [
           {
            "line": {
             "colorbar": {
              "outlinewidth": 0,
              "ticks": ""
             }
            },
            "marker": {
             "colorbar": {
              "outlinewidth": 0,
              "ticks": ""
             }
            },
            "type": "scatter3d"
           }
          ],
          "scattercarpet": [
           {
            "marker": {
             "colorbar": {
              "outlinewidth": 0,
              "ticks": ""
             }
            },
            "type": "scattercarpet"
           }
          ],
          "scattergeo": [
           {
            "marker": {
             "colorbar": {
              "outlinewidth": 0,
              "ticks": ""
             }
            },
            "type": "scattergeo"
           }
          ],
          "scattergl": [
           {
            "marker": {
             "colorbar": {
              "outlinewidth": 0,
              "ticks": ""
             }
            },
            "type": "scattergl"
           }
          ],
          "scattermapbox": [
           {
            "marker": {
             "colorbar": {
              "outlinewidth": 0,
              "ticks": ""
             }
            },
            "type": "scattermapbox"
           }
          ],
          "scatterpolar": [
           {
            "marker": {
             "colorbar": {
              "outlinewidth": 0,
              "ticks": ""
             }
            },
            "type": "scatterpolar"
           }
          ],
          "scatterpolargl": [
           {
            "marker": {
             "colorbar": {
              "outlinewidth": 0,
              "ticks": ""
             }
            },
            "type": "scatterpolargl"
           }
          ],
          "scatterternary": [
           {
            "marker": {
             "colorbar": {
              "outlinewidth": 0,
              "ticks": ""
             }
            },
            "type": "scatterternary"
           }
          ],
          "surface": [
           {
            "colorbar": {
             "outlinewidth": 0,
             "ticks": ""
            },
            "colorscale": [
             [
              0,
              "#0d0887"
             ],
             [
              0.1111111111111111,
              "#46039f"
             ],
             [
              0.2222222222222222,
              "#7201a8"
             ],
             [
              0.3333333333333333,
              "#9c179e"
             ],
             [
              0.4444444444444444,
              "#bd3786"
             ],
             [
              0.5555555555555556,
              "#d8576b"
             ],
             [
              0.6666666666666666,
              "#ed7953"
             ],
             [
              0.7777777777777778,
              "#fb9f3a"
             ],
             [
              0.8888888888888888,
              "#fdca26"
             ],
             [
              1,
              "#f0f921"
             ]
            ],
            "type": "surface"
           }
          ],
          "table": [
           {
            "cells": {
             "fill": {
              "color": "#EBF0F8"
             },
             "line": {
              "color": "white"
             }
            },
            "header": {
             "fill": {
              "color": "#C8D4E3"
             },
             "line": {
              "color": "white"
             }
            },
            "type": "table"
           }
          ]
         },
         "layout": {
          "annotationdefaults": {
           "arrowcolor": "#2a3f5f",
           "arrowhead": 0,
           "arrowwidth": 1
          },
          "autotypenumbers": "strict",
          "coloraxis": {
           "colorbar": {
            "outlinewidth": 0,
            "ticks": ""
           }
          },
          "colorscale": {
           "diverging": [
            [
             0,
             "#8e0152"
            ],
            [
             0.1,
             "#c51b7d"
            ],
            [
             0.2,
             "#de77ae"
            ],
            [
             0.3,
             "#f1b6da"
            ],
            [
             0.4,
             "#fde0ef"
            ],
            [
             0.5,
             "#f7f7f7"
            ],
            [
             0.6,
             "#e6f5d0"
            ],
            [
             0.7,
             "#b8e186"
            ],
            [
             0.8,
             "#7fbc41"
            ],
            [
             0.9,
             "#4d9221"
            ],
            [
             1,
             "#276419"
            ]
           ],
           "sequential": [
            [
             0,
             "#0d0887"
            ],
            [
             0.1111111111111111,
             "#46039f"
            ],
            [
             0.2222222222222222,
             "#7201a8"
            ],
            [
             0.3333333333333333,
             "#9c179e"
            ],
            [
             0.4444444444444444,
             "#bd3786"
            ],
            [
             0.5555555555555556,
             "#d8576b"
            ],
            [
             0.6666666666666666,
             "#ed7953"
            ],
            [
             0.7777777777777778,
             "#fb9f3a"
            ],
            [
             0.8888888888888888,
             "#fdca26"
            ],
            [
             1,
             "#f0f921"
            ]
           ],
           "sequentialminus": [
            [
             0,
             "#0d0887"
            ],
            [
             0.1111111111111111,
             "#46039f"
            ],
            [
             0.2222222222222222,
             "#7201a8"
            ],
            [
             0.3333333333333333,
             "#9c179e"
            ],
            [
             0.4444444444444444,
             "#bd3786"
            ],
            [
             0.5555555555555556,
             "#d8576b"
            ],
            [
             0.6666666666666666,
             "#ed7953"
            ],
            [
             0.7777777777777778,
             "#fb9f3a"
            ],
            [
             0.8888888888888888,
             "#fdca26"
            ],
            [
             1,
             "#f0f921"
            ]
           ]
          },
          "colorway": [
           "#636efa",
           "#EF553B",
           "#00cc96",
           "#ab63fa",
           "#FFA15A",
           "#19d3f3",
           "#FF6692",
           "#B6E880",
           "#FF97FF",
           "#FECB52"
          ],
          "font": {
           "color": "#2a3f5f"
          },
          "geo": {
           "bgcolor": "white",
           "lakecolor": "white",
           "landcolor": "#E5ECF6",
           "showlakes": true,
           "showland": true,
           "subunitcolor": "white"
          },
          "hoverlabel": {
           "align": "left"
          },
          "hovermode": "closest",
          "mapbox": {
           "style": "light"
          },
          "paper_bgcolor": "white",
          "plot_bgcolor": "#E5ECF6",
          "polar": {
           "angularaxis": {
            "gridcolor": "white",
            "linecolor": "white",
            "ticks": ""
           },
           "bgcolor": "#E5ECF6",
           "radialaxis": {
            "gridcolor": "white",
            "linecolor": "white",
            "ticks": ""
           }
          },
          "scene": {
           "xaxis": {
            "backgroundcolor": "#E5ECF6",
            "gridcolor": "white",
            "gridwidth": 2,
            "linecolor": "white",
            "showbackground": true,
            "ticks": "",
            "zerolinecolor": "white"
           },
           "yaxis": {
            "backgroundcolor": "#E5ECF6",
            "gridcolor": "white",
            "gridwidth": 2,
            "linecolor": "white",
            "showbackground": true,
            "ticks": "",
            "zerolinecolor": "white"
           },
           "zaxis": {
            "backgroundcolor": "#E5ECF6",
            "gridcolor": "white",
            "gridwidth": 2,
            "linecolor": "white",
            "showbackground": true,
            "ticks": "",
            "zerolinecolor": "white"
           }
          },
          "shapedefaults": {
           "line": {
            "color": "#2a3f5f"
           }
          },
          "ternary": {
           "aaxis": {
            "gridcolor": "white",
            "linecolor": "white",
            "ticks": ""
           },
           "baxis": {
            "gridcolor": "white",
            "linecolor": "white",
            "ticks": ""
           },
           "bgcolor": "#E5ECF6",
           "caxis": {
            "gridcolor": "white",
            "linecolor": "white",
            "ticks": ""
           }
          },
          "title": {
           "x": 0.05
          },
          "xaxis": {
           "automargin": true,
           "gridcolor": "white",
           "linecolor": "white",
           "ticks": "",
           "title": {
            "standoff": 15
           },
           "zerolinecolor": "white",
           "zerolinewidth": 2
          },
          "yaxis": {
           "automargin": true,
           "gridcolor": "white",
           "linecolor": "white",
           "ticks": "",
           "title": {
            "standoff": 15
           },
           "zerolinecolor": "white",
           "zerolinewidth": 2
          }
         }
        },
        "title": {
         "text": "Parallel Categories Analysis of houses for sale in Philadelphia"
        }
       }
      },
      "image/png": "[encoded data removed]",
      "text/html": [
       "<div>                            <div id=\"732eb73a-3b5b-4662-b8b1-534800ef532b\" class=\"plotly-graph-div\" style=\"height:800px; width:100%;\"></div>            <script type=\"text/javascript\">                require([\"plotly\"], function(Plotly) {                    window.PLOTLYENV=window.PLOTLYENV || {};                                    if (document.getElementById(\"732eb73a-3b5b-4662-b8b1-534800ef532b\")) {                    Plotly.newPlot(                        \"732eb73a-3b5b-4662-b8b1-534800ef532b\",                        [{\"dimensions\":[{\"label\":\"price_per_sqft\",\"values\":[104.16666666666667,169.27083333333334,225.30464091262638,59.07079646017699,71.74887892376681,247.20813397129186,192.59259259259258,155.55555555555554,226.29310344827587,259.9,127.47875354107649,305.44444444444446,161.31332082551594,204.39814814814815,174.27884615384616,225.18382352941177,231.30040322580646,129.50394144144144,235.83333333333334,318.0163785259327,244.55151964418087,123.6917221693625,151.47727272727272,238.0952380952381,211.5234375,36.96296296296296,825.6775378961875,225.44283413848632,239.86068111455108,244.95,201.41015310233684,145.23809523809524,148.75992063492063,199.53191489361703,296.77113010446345,269.8412698412698,330.6878306878307,223.8695652173913,142.9738562091503,32.467532467532465]},{\"label\":\"price\",\"values\":[150000,325000,869000,267000,144000,309999,260000,210000,315000,259900,180000,274900,429900,264900,290000,245000,458900,229999,849000,699000,329900,260000,399900,375000,324900,49900,3595000,280000,309900,489900,499900,305000,299900,468900,1875000,595000,1250000,514900,175000,30000]},{\"label\":\"bathrooms\",\"values\":[2,2,4,4,3,2,2,3,2,1,1,2,3,3,3,1,3,2,5,3,2,2,4,1,2,1,5,2,2,3,2,3,4,4,5,3,5,3,2,1]},{\"label\":\"bedrooms\",\"values\":[4,4,5,5,5,3,3,5,3,2,4,2,4,3,4,3,4,5,4,4,3,4,4,3,3,3,4,3,3,3,3,5,4,4,5,4,6,4,3,3]}],\"domain\":{\"x\":[0.0,1.0],\"y\":[0.0,1.0]},\"line\":{\"color\":[1440,1920,3857,4520,2007,1254,1350,1350,1392,1000,1412,900,2665,1296,1664,1088,1984,1776,3600,2198,1349,2102,2640,1575,1536,1350,4354,1242,1292,2000,2482,2100,2016,2350,6318,2205,3780,2300,1224,924],\"coloraxis\":\"coloraxis\"},\"name\":\"\",\"type\":\"parcoords\"}],                        {\"coloraxis\":{\"colorbar\":{\"title\":{\"text\":\"Area in sqft.\"}},\"colorscale\":[[0.0,\"#000004\"],[0.1111111111111111,\"#1b0c41\"],[0.2222222222222222,\"#4a0c6b\"],[0.3333333333333333,\"#781c6d\"],[0.4444444444444444,\"#a52c60\"],[0.5555555555555556,\"#cf4446\"],[0.6666666666666666,\"#ed6925\"],[0.7777777777777778,\"#fb9b06\"],[0.8888888888888888,\"#f7d13d\"],[1.0,\"#fcffa4\"]]},\"height\":800,\"legend\":{\"tracegroupgap\":0},\"template\":{\"data\":{\"bar\":[{\"error_x\":{\"color\":\"#2a3f5f\"},\"error_y\":{\"color\":\"#2a3f5f\"},\"marker\":{\"line\":{\"color\":\"#E5ECF6\",\"width\":0.5},\"pattern\":{\"fillmode\":\"overlay\",\"size\":10,\"solidity\":0.2}},\"type\":\"bar\"}],\"barpolar\":[{\"marker\":{\"line\":{\"color\":\"#E5ECF6\",\"width\":0.5},\"pattern\":{\"fillmode\":\"overlay\",\"size\":10,\"solidity\":0.2}},\"type\":\"barpolar\"}],\"carpet\":[{\"aaxis\":{\"endlinecolor\":\"#2a3f5f\",\"gridcolor\":\"white\",\"linecolor\":\"white\",\"minorgridcolor\":\"white\",\"startlinecolor\":\"#2a3f5f\"},\"baxis\":{\"endlinecolor\":\"#2a3f5f\",\"gridcolor\":\"white\",\"linecolor\":\"white\",\"minorgridcolor\":\"white\",\"startlinecolor\":\"#2a3f5f\"},\"type\":\"carpet\"}],\"choropleth\":[{\"colorbar\":{\"outlinewidth\":0,\"ticks\":\"\"},\"type\":\"choropleth\"}],\"contour\":[{\"colorbar\":{\"outlinewidth\":0,\"ticks\":\"\"},\"colorscale\":[[0.0,\"#0d0887\"],[0.1111111111111111,\"#46039f\"],[0.2222222222222222,\"#7201a8\"],[0.3333333333333333,\"#9c179e\"],[0.4444444444444444,\"#bd3786\"],[0.5555555555555556,\"#d8576b\"],[0.6666666666666666,\"#ed7953\"],[0.7777777777777778,\"#fb9f3a\"],[0.8888888888888888,\"#fdca26\"],[1.0,\"#f0f921\"]],\"type\":\"contour\"}],\"contourcarpet\":[{\"colorbar\":{\"outlinewidth\":0,\"ticks\":\"\"},\"type\":\"contourcarpet\"}],\"heatmap\":[{\"colorbar\":{\"outlinewidth\":0,\"ticks\":\"\"},\"colorscale\":[[0.0,\"#0d0887\"],[0.1111111111111111,\"#46039f\"],[0.2222222222222222,\"#7201a8\"],[0.3333333333333333,\"#9c179e\"],[0.4444444444444444,\"#bd3786\"],[0.5555555555555556,\"#d8576b\"],[0.6666666666666666,\"#ed7953\"],[0.7777777777777778,\"#fb9f3a\"],[0.8888888888888888,\"#fdca26\"],[1.0,\"#f0f921\"]],\"type\":\"heatmap\"}],\"heatmapgl\":[{\"colorbar\":{\"outlinewidth\":0,\"ticks\":\"\"},\"colorscale\":[[0.0,\"#0d0887\"],[0.1111111111111111,\"#46039f\"],[0.2222222222222222,\"#7201a8\"],[0.3333333333333333,\"#9c179e\"],[0.4444444444444444,\"#bd3786\"],[0.5555555555555556,\"#d8576b\"],[0.6666666666666666,\"#ed7953\"],[0.7777777777777778,\"#fb9f3a\"],[0.8888888888888888,\"#fdca26\"],[1.0,\"#f0f921\"]],\"type\":\"heatmapgl\"}],\"histogram\":[{\"marker\":{\"pattern\":{\"fillmode\":\"overlay\",\"size\":10,\"solidity\":0.2}},\"type\":\"histogram\"}],\"histogram2d\":[{\"colorbar\":{\"outlinewidth\":0,\"ticks\":\"\"},\"colorscale\":[[0.0,\"#0d0887\"],[0.1111111111111111,\"#46039f\"],[0.2222222222222222,\"#7201a8\"],[0.3333333333333333,\"#9c179e\"],[0.4444444444444444,\"#bd3786\"],[0.5555555555555556,\"#d8576b\"],[0.6666666666666666,\"#ed7953\"],[0.7777777777777778,\"#fb9f3a\"],[0.8888888888888888,\"#fdca26\"],[1.0,\"#f0f921\"]],\"type\":\"histogram2d\"}],\"histogram2dcontour\":[{\"colorbar\":{\"outlinewidth\":0,\"ticks\":\"\"},\"colorscale\":[[0.0,\"#0d0887\"],[0.1111111111111111,\"#46039f\"],[0.2222222222222222,\"#7201a8\"],[0.3333333333333333,\"#9c179e\"],[0.4444444444444444,\"#bd3786\"],[0.5555555555555556,\"#d8576b\"],[0.6666666666666666,\"#ed7953\"],[0.7777777777777778,\"#fb9f3a\"],[0.8888888888888888,\"#fdca26\"],[1.0,\"#f0f921\"]],\"type\":\"histogram2dcontour\"}],\"mesh3d\":[{\"colorbar\":{\"outlinewidth\":0,\"ticks\":\"\"},\"type\":\"mesh3d\"}],\"parcoords\":[{\"line\":{\"colorbar\":{\"outlinewidth\":0,\"ticks\":\"\"}},\"type\":\"parcoords\"}],\"pie\":[{\"automargin\":true,\"type\":\"pie\"}],\"scatter\":[{\"marker\":{\"colorbar\":{\"outlinewidth\":0,\"ticks\":\"\"}},\"type\":\"scatter\"}],\"scatter3d\":[{\"line\":{\"colorbar\":{\"outlinewidth\":0,\"ticks\":\"\"}},\"marker\":{\"colorbar\":{\"outlinewidth\":0,\"ticks\":\"\"}},\"type\":\"scatter3d\"}],\"scattercarpet\":[{\"marker\":{\"colorbar\":{\"outlinewidth\":0,\"ticks\":\"\"}},\"type\":\"scattercarpet\"}],\"scattergeo\":[{\"marker\":{\"colorbar\":{\"outlinewidth\":0,\"ticks\":\"\"}},\"type\":\"scattergeo\"}],\"scattergl\":[{\"marker\":{\"colorbar\":{\"outlinewidth\":0,\"ticks\":\"\"}},\"type\":\"scattergl\"}],\"scattermapbox\":[{\"marker\":{\"colorbar\":{\"outlinewidth\":0,\"ticks\":\"\"}},\"type\":\"scattermapbox\"}],\"scatterpolar\":[{\"marker\":{\"colorbar\":{\"outlinewidth\":0,\"ticks\":\"\"}},\"type\":\"scatterpolar\"}],\"scatterpolargl\":[{\"marker\":{\"colorbar\":{\"outlinewidth\":0,\"ticks\":\"\"}},\"type\":\"scatterpolargl\"}],\"scatterternary\":[{\"marker\":{\"colorbar\":{\"outlinewidth\":0,\"ticks\":\"\"}},\"type\":\"scatterternary\"}],\"surface\":[{\"colorbar\":{\"outlinewidth\":0,\"ticks\":\"\"},\"colorscale\":[[0.0,\"#0d0887\"],[0.1111111111111111,\"#46039f\"],[0.2222222222222222,\"#7201a8\"],[0.3333333333333333,\"#9c179e\"],[0.4444444444444444,\"#bd3786\"],[0.5555555555555556,\"#d8576b\"],[0.6666666666666666,\"#ed7953\"],[0.7777777777777778,\"#fb9f3a\"],[0.8888888888888888,\"#fdca26\"],[1.0,\"#f0f921\"]],\"type\":\"surface\"}],\"table\":[{\"cells\":{\"fill\":{\"color\":\"#EBF0F8\"},\"line\":{\"color\":\"white\"}},\"header\":{\"fill\":{\"color\":\"#C8D4E3\"},\"line\":{\"color\":\"white\"}},\"type\":\"table\"}]},\"layout\":{\"annotationdefaults\":{\"arrowcolor\":\"#2a3f5f\",\"arrowhead\":0,\"arrowwidth\":1},\"autotypenumbers\":\"strict\",\"coloraxis\":{\"colorbar\":{\"outlinewidth\":0,\"ticks\":\"\"}},\"colorscale\":{\"diverging\":[[0,\"#8e0152\"],[0.1,\"#c51b7d\"],[0.2,\"#de77ae\"],[0.3,\"#f1b6da\"],[0.4,\"#fde0ef\"],[0.5,\"#f7f7f7\"],[0.6,\"#e6f5d0\"],[0.7,\"#b8e186\"],[0.8,\"#7fbc41\"],[0.9,\"#4d9221\"],[1,\"#276419\"]],\"sequential\":[[0.0,\"#0d0887\"],[0.1111111111111111,\"#46039f\"],[0.2222222222222222,\"#7201a8\"],[0.3333333333333333,\"#9c179e\"],[0.4444444444444444,\"#bd3786\"],[0.5555555555555556,\"#d8576b\"],[0.6666666666666666,\"#ed7953\"],[0.7777777777777778,\"#fb9f3a\"],[0.8888888888888888,\"#fdca26\"],[1.0,\"#f0f921\"]],\"sequentialminus\":[[0.0,\"#0d0887\"],[0.1111111111111111,\"#46039f\"],[0.2222222222222222,\"#7201a8\"],[0.3333333333333333,\"#9c179e\"],[0.4444444444444444,\"#bd3786\"],[0.5555555555555556,\"#d8576b\"],[0.6666666666666666,\"#ed7953\"],[0.7777777777777778,\"#fb9f3a\"],[0.8888888888888888,\"#fdca26\"],[1.0,\"#f0f921\"]]},\"colorway\":[\"#636efa\",\"#EF553B\",\"#00cc96\",\"#ab63fa\",\"#FFA15A\",\"#19d3f3\",\"#FF6692\",\"#B6E880\",\"#FF97FF\",\"#FECB52\"],\"font\":{\"color\":\"#2a3f5f\"},\"geo\":{\"bgcolor\":\"white\",\"lakecolor\":\"white\",\"landcolor\":\"#E5ECF6\",\"showlakes\":true,\"showland\":true,\"subunitcolor\":\"white\"},\"hoverlabel\":{\"align\":\"left\"},\"hovermode\":\"closest\",\"mapbox\":{\"style\":\"light\"},\"paper_bgcolor\":\"white\",\"plot_bgcolor\":\"#E5ECF6\",\"polar\":{\"angularaxis\":{\"gridcolor\":\"white\",\"linecolor\":\"white\",\"ticks\":\"\"},\"bgcolor\":\"#E5ECF6\",\"radialaxis\":{\"gridcolor\":\"white\",\"linecolor\":\"white\",\"ticks\":\"\"}},\"scene\":{\"xaxis\":{\"backgroundcolor\":\"#E5ECF6\",\"gridcolor\":\"white\",\"gridwidth\":2,\"linecolor\":\"white\",\"showbackground\":true,\"ticks\":\"\",\"zerolinecolor\":\"white\"},\"yaxis\":{\"backgroundcolor\":\"#E5ECF6\",\"gridcolor\":\"white\",\"gridwidth\":2,\"linecolor\":\"white\",\"showbackground\":true,\"ticks\":\"\",\"zerolinecolor\":\"white\"},\"zaxis\":{\"backgroundcolor\":\"#E5ECF6\",\"gridcolor\":\"white\",\"gridwidth\":2,\"linecolor\":\"white\",\"showbackground\":true,\"ticks\":\"\",\"zerolinecolor\":\"white\"}},\"shapedefaults\":{\"line\":{\"color\":\"#2a3f5f\"}},\"ternary\":{\"aaxis\":{\"gridcolor\":\"white\",\"linecolor\":\"white\",\"ticks\":\"\"},\"baxis\":{\"gridcolor\":\"white\",\"linecolor\":\"white\",\"ticks\":\"\"},\"bgcolor\":\"#E5ECF6\",\"caxis\":{\"gridcolor\":\"white\",\"linecolor\":\"white\",\"ticks\":\"\"}},\"title\":{\"x\":0.05},\"xaxis\":{\"automargin\":true,\"gridcolor\":\"white\",\"linecolor\":\"white\",\"ticks\":\"\",\"title\":{\"standoff\":15},\"zerolinecolor\":\"white\",\"zerolinewidth\":2},\"yaxis\":{\"automargin\":true,\"gridcolor\":\"white\",\"linecolor\":\"white\",\"ticks\":\"\",\"title\":{\"standoff\":15},\"zerolinecolor\":\"white\",\"zerolinewidth\":2}}},\"title\":{\"text\":\"Parallel Categories Analysis of houses for sale in Philadelphia\"}},                        {\"responsive\": true}                    ).then(function(){\n",
       "                            \n",
       "var gd = document.getElementById('732eb73a-3b5b-4662-b8b1-534800ef532b');\n",
       "var x = new MutationObserver(function (mutations, observer) {{\n",
       "        var display = window.getComputedStyle(gd).display;\n",
       "        if (!display || display === 'none') {{\n",
       "            console.log([gd, 'removed!']);\n",
       "            Plotly.purge(gd);\n",
       "            observer.disconnect();\n",
       "        }}\n",
       "}});\n",
       "\n",
       "// Listen for the removal of the full notebook cells\n",
       "var notebookContainer = gd.closest('#notebook-container');\n",
       "if (notebookContainer) {{\n",
       "    x.observe(notebookContainer, {childList: true});\n",
       "}}\n",
       "\n",
       "// Listen for the clearing of the current output cell\n",
       "var outputEl = gd.closest('.output');\n",
       "if (outputEl) {{\n",
       "    x.observe(outputEl, {childList: true});\n",
       "}}\n",
       "\n",
       "                        })                };                });            </script>        </div>"
      ]
     },
     "metadata": {},
     "output_type": "display_data"
    }
   ],
   "source": [
    "## Third vizualisation : Category plot for the houses, by neighborhood, beds, bathrooms, price\n",
    "\n",
    "plt_categories = px.parallel_coordinates(\n",
    "    current_price_df,\n",
    "    dimensions= [  'price_per_sqft',  \"price\", \"bathrooms\" , \"bedrooms\"],\n",
    "    title = \"Parallel Categories Analysis of houses for sale in Philadelphia\",\n",
    "    color=  \"Area in sqft.\",\n",
    "    color_continuous_scale= px.colors.sequential.Inferno,\n",
    "    height = 800)\n",
    "    \n",
    "plt_categories.show()  \n"
   ]
  },
  {
   "cell_type": "code",
   "execution_count": 220,
   "id": "2041f1c6-1871-4b5a-a95b-0786309363cb",
   "metadata": {},
   "outputs": [
    {
     "data": {
      "application/vnd.plotly.v1+json": {
       "config": {
        "plotlyServerURL": "https://plot.ly"
       },
       "data": [
        {
         "hovertemplate": "zip code=19120<br>Area in sqft.=%{x}<br>price=%{y}<extra></extra>",
         "legendgroup": "19120",
         "marker": {
          "color": "#636efa",
          "opacity": 0.65,
          "symbol": "circle"
         },
         "mode": "markers",
         "name": "19120",
         "orientation": "v",
         "showlegend": true,
         "type": "scatter",
         "x": [
          1440
         ],
         "xaxis": "x",
         "y": [
          150000
         ],
         "yaxis": "y"
        },
        {
         "hovertemplate": "zip code=19124<br>Area in sqft.=%{x}<br>price=%{y}<extra></extra>",
         "legendgroup": "19124",
         "marker": {
          "color": "#EF553B",
          "opacity": 0.65,
          "symbol": "circle"
         },
         "mode": "markers",
         "name": "19124",
         "orientation": "v",
         "showlegend": true,
         "type": "scatter",
         "x": [
          1920,
          2016
         ],
         "xaxis": "x",
         "y": [
          325000,
          299900
         ],
         "yaxis": "y"
        },
        {
         "hovertemplate": "zip code=19144<br>Area in sqft.=%{x}<br>price=%{y}<extra></extra>",
         "legendgroup": "19144",
         "marker": {
          "color": "#00cc96",
          "opacity": 0.65,
          "symbol": "circle"
         },
         "mode": "markers",
         "name": "19144",
         "orientation": "v",
         "showlegend": true,
         "type": "scatter",
         "x": [
          3857
         ],
         "xaxis": "x",
         "y": [
          869000
         ],
         "yaxis": "y"
        },
        {
         "hovertemplate": "zip code=19131<br>Area in sqft.=%{x}<br>price=%{y}<extra></extra>",
         "legendgroup": "19131",
         "marker": {
          "color": "#ab63fa",
          "opacity": 0.65,
          "symbol": "circle"
         },
         "mode": "markers",
         "name": "19131",
         "orientation": "v",
         "showlegend": true,
         "type": "scatter",
         "x": [
          4520,
          2640
         ],
         "xaxis": "x",
         "y": [
          267000,
          399900
         ],
         "yaxis": "y"
        },
        {
         "hovertemplate": "zip code=19111<br>Area in sqft.=%{x}<br>price=%{y}<extra></extra>",
         "legendgroup": "19111",
         "marker": {
          "color": "#FFA15A",
          "opacity": 0.65,
          "symbol": "circle"
         },
         "mode": "markers",
         "name": "19111",
         "orientation": "v",
         "showlegend": true,
         "type": "scatter",
         "x": [
          2007,
          1000,
          900,
          1536,
          2100
         ],
         "xaxis": "x",
         "y": [
          144000,
          259900,
          274900,
          324900,
          305000
         ],
         "yaxis": "y"
        },
        {
         "hovertemplate": "zip code=19154<br>Area in sqft.=%{x}<br>price=%{y}<extra></extra>",
         "legendgroup": "19154",
         "marker": {
          "color": "#19d3f3",
          "opacity": 0.65,
          "symbol": "circle"
         },
         "mode": "markers",
         "name": "19154",
         "orientation": "v",
         "showlegend": true,
         "type": "scatter",
         "x": [
          1254
         ],
         "xaxis": "x",
         "y": [
          309999
         ],
         "yaxis": "y"
        },
        {
         "hovertemplate": "zip code=19151<br>Area in sqft.=%{x}<br>price=%{y}<extra></extra>",
         "legendgroup": "19151",
         "marker": {
          "color": "#FF6692",
          "opacity": 0.65,
          "symbol": "circle"
         },
         "mode": "markers",
         "name": "19151",
         "orientation": "v",
         "showlegend": true,
         "type": "scatter",
         "x": [
          1350
         ],
         "xaxis": "x",
         "y": [
          260000
         ],
         "yaxis": "y"
        },
        {
         "hovertemplate": "zip code=19136<br>Area in sqft.=%{x}<br>price=%{y}<extra></extra>",
         "legendgroup": "19136",
         "marker": {
          "color": "#B6E880",
          "opacity": 0.65,
          "symbol": "circle"
         },
         "mode": "markers",
         "name": "19136",
         "orientation": "v",
         "showlegend": true,
         "type": "scatter",
         "x": [
          1350
         ],
         "xaxis": "x",
         "y": [
          210000
         ],
         "yaxis": "y"
        },
        {
         "hovertemplate": "zip code=19152<br>Area in sqft.=%{x}<br>price=%{y}<extra></extra>",
         "legendgroup": "19152",
         "marker": {
          "color": "#FF97FF",
          "opacity": 0.65,
          "symbol": "circle"
         },
         "mode": "markers",
         "name": "19152",
         "orientation": "v",
         "showlegend": true,
         "type": "scatter",
         "x": [
          1392
         ],
         "xaxis": "x",
         "y": [
          315000
         ],
         "yaxis": "y"
        },
        {
         "hovertemplate": "zip code=19116<br>Area in sqft.=%{x}<br>price=%{y}<extra></extra>",
         "legendgroup": "19116",
         "marker": {
          "color": "#FECB52",
          "opacity": 0.65,
          "symbol": "circle"
         },
         "mode": "markers",
         "name": "19116",
         "orientation": "v",
         "showlegend": true,
         "type": "scatter",
         "x": [
          1412,
          2665,
          1349,
          2350,
          2300
         ],
         "xaxis": "x",
         "y": [
          180000,
          429900,
          329900,
          468900,
          514900
         ],
         "yaxis": "y"
        },
        {
         "hovertemplate": "zip code=19126<br>Area in sqft.=%{x}<br>price=%{y}<extra></extra>",
         "legendgroup": "19126",
         "marker": {
          "color": "#636efa",
          "opacity": 0.65,
          "symbol": "circle"
         },
         "mode": "markers",
         "name": "19126",
         "orientation": "v",
         "showlegend": true,
         "type": "scatter",
         "x": [
          1296
         ],
         "xaxis": "x",
         "y": [
          264900
         ],
         "yaxis": "y"
        },
        {
         "hovertemplate": "zip code=19143<br>Area in sqft.=%{x}<br>price=%{y}<extra></extra>",
         "legendgroup": "19143",
         "marker": {
          "color": "#EF553B",
          "opacity": 0.65,
          "symbol": "circle"
         },
         "mode": "markers",
         "name": "19143",
         "orientation": "v",
         "showlegend": true,
         "type": "scatter",
         "x": [
          1664
         ],
         "xaxis": "x",
         "y": [
          290000
         ],
         "yaxis": "y"
        },
        {
         "hovertemplate": "zip code=19135<br>Area in sqft.=%{x}<br>price=%{y}<extra></extra>",
         "legendgroup": "19135",
         "marker": {
          "color": "#00cc96",
          "opacity": 0.65,
          "symbol": "circle"
         },
         "mode": "markers",
         "name": "19135",
         "orientation": "v",
         "showlegend": true,
         "type": "scatter",
         "x": [
          1088
         ],
         "xaxis": "x",
         "y": [
          245000
         ],
         "yaxis": "y"
        },
        {
         "hovertemplate": "zip code=19119<br>Area in sqft.=%{x}<br>price=%{y}<extra></extra>",
         "legendgroup": "19119",
         "marker": {
          "color": "#ab63fa",
          "opacity": 0.65,
          "symbol": "circle"
         },
         "mode": "markers",
         "name": "19119",
         "orientation": "v",
         "showlegend": true,
         "type": "scatter",
         "x": [
          1984,
          1575
         ],
         "xaxis": "x",
         "y": [
          458900,
          375000
         ],
         "yaxis": "y"
        },
        {
         "hovertemplate": "zip code=19104<br>Area in sqft.=%{x}<br>price=%{y}<extra></extra>",
         "legendgroup": "19104",
         "marker": {
          "color": "#FFA15A",
          "opacity": 0.65,
          "symbol": "circle"
         },
         "mode": "markers",
         "name": "19104",
         "orientation": "v",
         "showlegend": true,
         "type": "scatter",
         "x": [
          1776
         ],
         "xaxis": "x",
         "y": [
          229999
         ],
         "yaxis": "y"
        },
        {
         "hovertemplate": "zip code=19128<br>Area in sqft.=%{x}<br>price=%{y}<extra></extra>",
         "legendgroup": "19128",
         "marker": {
          "color": "#19d3f3",
          "opacity": 0.65,
          "symbol": "circle"
         },
         "mode": "markers",
         "name": "19128",
         "orientation": "v",
         "showlegend": true,
         "type": "scatter",
         "x": [
          3600,
          1292,
          2000,
          2482
         ],
         "xaxis": "x",
         "y": [
          849000,
          309900,
          489900,
          499900
         ],
         "yaxis": "y"
        },
        {
         "hovertemplate": "zip code=19118<br>Area in sqft.=%{x}<br>price=%{y}<extra></extra>",
         "legendgroup": "19118",
         "marker": {
          "color": "#FF6692",
          "opacity": 0.65,
          "symbol": "circle"
         },
         "mode": "markers",
         "name": "19118",
         "orientation": "v",
         "showlegend": true,
         "type": "scatter",
         "x": [
          2198,
          4354,
          6318,
          2205,
          3780
         ],
         "xaxis": "x",
         "y": [
          699000,
          3595000,
          1875000,
          595000,
          1250000
         ],
         "yaxis": "y"
        },
        {
         "hovertemplate": "zip code=19141<br>Area in sqft.=%{x}<br>price=%{y}<extra></extra>",
         "legendgroup": "19141",
         "marker": {
          "color": "#B6E880",
          "opacity": 0.65,
          "symbol": "circle"
         },
         "mode": "markers",
         "name": "19141",
         "orientation": "v",
         "showlegend": true,
         "type": "scatter",
         "x": [
          2102
         ],
         "xaxis": "x",
         "y": [
          260000
         ],
         "yaxis": "y"
        },
        {
         "hovertemplate": "zip code=19134<br>Area in sqft.=%{x}<br>price=%{y}<extra></extra>",
         "legendgroup": "19134",
         "marker": {
          "color": "#FF97FF",
          "opacity": 0.65,
          "symbol": "circle"
         },
         "mode": "markers",
         "name": "19134",
         "orientation": "v",
         "showlegend": true,
         "type": "scatter",
         "x": [
          1350
         ],
         "xaxis": "x",
         "y": [
          49900
         ],
         "yaxis": "y"
        },
        {
         "hovertemplate": "zip code=19127<br>Area in sqft.=%{x}<br>price=%{y}<extra></extra>",
         "legendgroup": "19127",
         "marker": {
          "color": "#FECB52",
          "opacity": 0.65,
          "symbol": "circle"
         },
         "mode": "markers",
         "name": "19127",
         "orientation": "v",
         "showlegend": true,
         "type": "scatter",
         "x": [
          1242
         ],
         "xaxis": "x",
         "y": [
          280000
         ],
         "yaxis": "y"
        },
        {
         "hovertemplate": "zip code=19114<br>Area in sqft.=%{x}<br>price=%{y}<extra></extra>",
         "legendgroup": "19114",
         "marker": {
          "color": "#636efa",
          "opacity": 0.65,
          "symbol": "circle"
         },
         "mode": "markers",
         "name": "19114",
         "orientation": "v",
         "showlegend": true,
         "type": "scatter",
         "x": [
          1224
         ],
         "xaxis": "x",
         "y": [
          175000
         ],
         "yaxis": "y"
        },
        {
         "hovertemplate": "zip code=19132<br>Area in sqft.=%{x}<br>price=%{y}<extra></extra>",
         "legendgroup": "19132",
         "marker": {
          "color": "#EF553B",
          "opacity": 0.65,
          "symbol": "circle"
         },
         "mode": "markers",
         "name": "19132",
         "orientation": "v",
         "showlegend": true,
         "type": "scatter",
         "x": [
          924
         ],
         "xaxis": "x",
         "y": [
          30000
         ],
         "yaxis": "y"
        },
        {
         "hovertemplate": "<b>LOWESS trendline</b><br><br>Area in sqft.=%{x}<br>price=%{y} <b>(trend)</b><extra></extra>",
         "legendgroup": "Overall Trendline",
         "line": {
          "color": "darkblue"
         },
         "mode": "lines",
         "name": "Overall Trendline",
         "showlegend": true,
         "type": "scatter",
         "x": [
          900,
          924,
          1000,
          1088,
          1224,
          1242,
          1254,
          1292,
          1296,
          1349,
          1350,
          1350,
          1350,
          1392,
          1412,
          1440,
          1536,
          1575,
          1664,
          1776,
          1920,
          1984,
          2000,
          2007,
          2016,
          2100,
          2102,
          2198,
          2205,
          2300,
          2350,
          2482,
          2640,
          2665,
          3600,
          3780,
          3857,
          4354,
          4520,
          6318
         ],
         "xaxis": "x",
         "y": [
          201598.8627283097,
          204375.61987971107,
          213106.8638834883,
          223233.47271420882,
          239163.17357637762,
          241301.870521811,
          242731.67430403703,
          247277.2280123316,
          247756.68023667688,
          254085.24145057445,
          254203.50414591187,
          254203.50414591187,
          254203.50414591187,
          259085.15020266303,
          261328.1451503946,
          264342.9854631621,
          276091.6336887287,
          281545.7061089675,
          293210.99819566414,
          312044.4291949454,
          352923.20067984355,
          370205.59855592734,
          374870.23378225946,
          376799.28317753086,
          379163.2160343881,
          396307.9090890394,
          396652.88804385066,
          412602.90938215976,
          413769.927570005,
          430024.5882216366,
          438841.02040772384,
          462213.7269526894,
          513604.6562830802,
          526919.9095492427,
          881205.7024941407,
          945218.7669484257,
          973009.6373786649,
          1161772.8258194341,
          1223038.5489222617,
          1875913.1101935825
         ],
         "yaxis": "y"
        }
       ],
       "layout": {
        "autosize": true,
        "legend": {
         "title": {
          "text": "zip code"
         },
         "tracegroupgap": 0
        },
        "template": {
         "data": {
          "bar": [
           {
            "error_x": {
             "color": "#2a3f5f"
            },
            "error_y": {
             "color": "#2a3f5f"
            },
            "marker": {
             "line": {
              "color": "#E5ECF6",
              "width": 0.5
             },
             "pattern": {
              "fillmode": "overlay",
              "size": 10,
              "solidity": 0.2
             }
            },
            "type": "bar"
           }
          ],
          "barpolar": [
           {
            "marker": {
             "line": {
              "color": "#E5ECF6",
              "width": 0.5
             },
             "pattern": {
              "fillmode": "overlay",
              "size": 10,
              "solidity": 0.2
             }
            },
            "type": "barpolar"
           }
          ],
          "carpet": [
           {
            "aaxis": {
             "endlinecolor": "#2a3f5f",
             "gridcolor": "white",
             "linecolor": "white",
             "minorgridcolor": "white",
             "startlinecolor": "#2a3f5f"
            },
            "baxis": {
             "endlinecolor": "#2a3f5f",
             "gridcolor": "white",
             "linecolor": "white",
             "minorgridcolor": "white",
             "startlinecolor": "#2a3f5f"
            },
            "type": "carpet"
           }
          ],
          "choropleth": [
           {
            "colorbar": {
             "outlinewidth": 0,
             "ticks": ""
            },
            "type": "choropleth"
           }
          ],
          "contour": [
           {
            "colorbar": {
             "outlinewidth": 0,
             "ticks": ""
            },
            "colorscale": [
             [
              0,
              "#0d0887"
             ],
             [
              0.1111111111111111,
              "#46039f"
             ],
             [
              0.2222222222222222,
              "#7201a8"
             ],
             [
              0.3333333333333333,
              "#9c179e"
             ],
             [
              0.4444444444444444,
              "#bd3786"
             ],
             [
              0.5555555555555556,
              "#d8576b"
             ],
             [
              0.6666666666666666,
              "#ed7953"
             ],
             [
              0.7777777777777778,
              "#fb9f3a"
             ],
             [
              0.8888888888888888,
              "#fdca26"
             ],
             [
              1,
              "#f0f921"
             ]
            ],
            "type": "contour"
           }
          ],
          "contourcarpet": [
           {
            "colorbar": {
             "outlinewidth": 0,
             "ticks": ""
            },
            "type": "contourcarpet"
           }
          ],
          "heatmap": [
           {
            "colorbar": {
             "outlinewidth": 0,
             "ticks": ""
            },
            "colorscale": [
             [
              0,
              "#0d0887"
             ],
             [
              0.1111111111111111,
              "#46039f"
             ],
             [
              0.2222222222222222,
              "#7201a8"
             ],
             [
              0.3333333333333333,
              "#9c179e"
             ],
             [
              0.4444444444444444,
              "#bd3786"
             ],
             [
              0.5555555555555556,
              "#d8576b"
             ],
             [
              0.6666666666666666,
              "#ed7953"
             ],
             [
              0.7777777777777778,
              "#fb9f3a"
             ],
             [
              0.8888888888888888,
              "#fdca26"
             ],
             [
              1,
              "#f0f921"
             ]
            ],
            "type": "heatmap"
           }
          ],
          "heatmapgl": [
           {
            "colorbar": {
             "outlinewidth": 0,
             "ticks": ""
            },
            "colorscale": [
             [
              0,
              "#0d0887"
             ],
             [
              0.1111111111111111,
              "#46039f"
             ],
             [
              0.2222222222222222,
              "#7201a8"
             ],
             [
              0.3333333333333333,
              "#9c179e"
             ],
             [
              0.4444444444444444,
              "#bd3786"
             ],
             [
              0.5555555555555556,
              "#d8576b"
             ],
             [
              0.6666666666666666,
              "#ed7953"
             ],
             [
              0.7777777777777778,
              "#fb9f3a"
             ],
             [
              0.8888888888888888,
              "#fdca26"
             ],
             [
              1,
              "#f0f921"
             ]
            ],
            "type": "heatmapgl"
           }
          ],
          "histogram": [
           {
            "marker": {
             "pattern": {
              "fillmode": "overlay",
              "size": 10,
              "solidity": 0.2
             }
            },
            "type": "histogram"
           }
          ],
          "histogram2d": [
           {
            "colorbar": {
             "outlinewidth": 0,
             "ticks": ""
            },
            "colorscale": [
             [
              0,
              "#0d0887"
             ],
             [
              0.1111111111111111,
              "#46039f"
             ],
             [
              0.2222222222222222,
              "#7201a8"
             ],
             [
              0.3333333333333333,
              "#9c179e"
             ],
             [
              0.4444444444444444,
              "#bd3786"
             ],
             [
              0.5555555555555556,
              "#d8576b"
             ],
             [
              0.6666666666666666,
              "#ed7953"
             ],
             [
              0.7777777777777778,
              "#fb9f3a"
             ],
             [
              0.8888888888888888,
              "#fdca26"
             ],
             [
              1,
              "#f0f921"
             ]
            ],
            "type": "histogram2d"
           }
          ],
          "histogram2dcontour": [
           {
            "colorbar": {
             "outlinewidth": 0,
             "ticks": ""
            },
            "colorscale": [
             [
              0,
              "#0d0887"
             ],
             [
              0.1111111111111111,
              "#46039f"
             ],
             [
              0.2222222222222222,
              "#7201a8"
             ],
             [
              0.3333333333333333,
              "#9c179e"
             ],
             [
              0.4444444444444444,
              "#bd3786"
             ],
             [
              0.5555555555555556,
              "#d8576b"
             ],
             [
              0.6666666666666666,
              "#ed7953"
             ],
             [
              0.7777777777777778,
              "#fb9f3a"
             ],
             [
              0.8888888888888888,
              "#fdca26"
             ],
             [
              1,
              "#f0f921"
             ]
            ],
            "type": "histogram2dcontour"
           }
          ],
          "mesh3d": [
           {
            "colorbar": {
             "outlinewidth": 0,
             "ticks": ""
            },
            "type": "mesh3d"
           }
          ],
          "parcoords": [
           {
            "line": {
             "colorbar": {
              "outlinewidth": 0,
              "ticks": ""
             }
            },
            "type": "parcoords"
           }
          ],
          "pie": [
           {
            "automargin": true,
            "type": "pie"
           }
          ],
          "scatter": [
           {
            "marker": {
             "colorbar": {
              "outlinewidth": 0,
              "ticks": ""
             }
            },
            "type": "scatter"
           }
          ],
          "scatter3d": [
           {
            "line": {
             "colorbar": {
              "outlinewidth": 0,
              "ticks": ""
             }
            },
            "marker": {
             "colorbar": {
              "outlinewidth": 0,
              "ticks": ""
             }
            },
            "type": "scatter3d"
           }
          ],
          "scattercarpet": [
           {
            "marker": {
             "colorbar": {
              "outlinewidth": 0,
              "ticks": ""
             }
            },
            "type": "scattercarpet"
           }
          ],
          "scattergeo": [
           {
            "marker": {
             "colorbar": {
              "outlinewidth": 0,
              "ticks": ""
             }
            },
            "type": "scattergeo"
           }
          ],
          "scattergl": [
           {
            "marker": {
             "colorbar": {
              "outlinewidth": 0,
              "ticks": ""
             }
            },
            "type": "scattergl"
           }
          ],
          "scattermapbox": [
           {
            "marker": {
             "colorbar": {
              "outlinewidth": 0,
              "ticks": ""
             }
            },
            "type": "scattermapbox"
           }
          ],
          "scatterpolar": [
           {
            "marker": {
             "colorbar": {
              "outlinewidth": 0,
              "ticks": ""
             }
            },
            "type": "scatterpolar"
           }
          ],
          "scatterpolargl": [
           {
            "marker": {
             "colorbar": {
              "outlinewidth": 0,
              "ticks": ""
             }
            },
            "type": "scatterpolargl"
           }
          ],
          "scatterternary": [
           {
            "marker": {
             "colorbar": {
              "outlinewidth": 0,
              "ticks": ""
             }
            },
            "type": "scatterternary"
           }
          ],
          "surface": [
           {
            "colorbar": {
             "outlinewidth": 0,
             "ticks": ""
            },
            "colorscale": [
             [
              0,
              "#0d0887"
             ],
             [
              0.1111111111111111,
              "#46039f"
             ],
             [
              0.2222222222222222,
              "#7201a8"
             ],
             [
              0.3333333333333333,
              "#9c179e"
             ],
             [
              0.4444444444444444,
              "#bd3786"
             ],
             [
              0.5555555555555556,
              "#d8576b"
             ],
             [
              0.6666666666666666,
              "#ed7953"
             ],
             [
              0.7777777777777778,
              "#fb9f3a"
             ],
             [
              0.8888888888888888,
              "#fdca26"
             ],
             [
              1,
              "#f0f921"
             ]
            ],
            "type": "surface"
           }
          ],
          "table": [
           {
            "cells": {
             "fill": {
              "color": "#EBF0F8"
             },
             "line": {
              "color": "white"
             }
            },
            "header": {
             "fill": {
              "color": "#C8D4E3"
             },
             "line": {
              "color": "white"
             }
            },
            "type": "table"
           }
          ]
         },
         "layout": {
          "annotationdefaults": {
           "arrowcolor": "#2a3f5f",
           "arrowhead": 0,
           "arrowwidth": 1
          },
          "autotypenumbers": "strict",
          "coloraxis": {
           "colorbar": {
            "outlinewidth": 0,
            "ticks": ""
           }
          },
          "colorscale": {
           "diverging": [
            [
             0,
             "#8e0152"
            ],
            [
             0.1,
             "#c51b7d"
            ],
            [
             0.2,
             "#de77ae"
            ],
            [
             0.3,
             "#f1b6da"
            ],
            [
             0.4,
             "#fde0ef"
            ],
            [
             0.5,
             "#f7f7f7"
            ],
            [
             0.6,
             "#e6f5d0"
            ],
            [
             0.7,
             "#b8e186"
            ],
            [
             0.8,
             "#7fbc41"
            ],
            [
             0.9,
             "#4d9221"
            ],
            [
             1,
             "#276419"
            ]
           ],
           "sequential": [
            [
             0,
             "#0d0887"
            ],
            [
             0.1111111111111111,
             "#46039f"
            ],
            [
             0.2222222222222222,
             "#7201a8"
            ],
            [
             0.3333333333333333,
             "#9c179e"
            ],
            [
             0.4444444444444444,
             "#bd3786"
            ],
            [
             0.5555555555555556,
             "#d8576b"
            ],
            [
             0.6666666666666666,
             "#ed7953"
            ],
            [
             0.7777777777777778,
             "#fb9f3a"
            ],
            [
             0.8888888888888888,
             "#fdca26"
            ],
            [
             1,
             "#f0f921"
            ]
           ],
           "sequentialminus": [
            [
             0,
             "#0d0887"
            ],
            [
             0.1111111111111111,
             "#46039f"
            ],
            [
             0.2222222222222222,
             "#7201a8"
            ],
            [
             0.3333333333333333,
             "#9c179e"
            ],
            [
             0.4444444444444444,
             "#bd3786"
            ],
            [
             0.5555555555555556,
             "#d8576b"
            ],
            [
             0.6666666666666666,
             "#ed7953"
            ],
            [
             0.7777777777777778,
             "#fb9f3a"
            ],
            [
             0.8888888888888888,
             "#fdca26"
            ],
            [
             1,
             "#f0f921"
            ]
           ]
          },
          "colorway": [
           "#636efa",
           "#EF553B",
           "#00cc96",
           "#ab63fa",
           "#FFA15A",
           "#19d3f3",
           "#FF6692",
           "#B6E880",
           "#FF97FF",
           "#FECB52"
          ],
          "font": {
           "color": "#2a3f5f"
          },
          "geo": {
           "bgcolor": "white",
           "lakecolor": "white",
           "landcolor": "#E5ECF6",
           "showlakes": true,
           "showland": true,
           "subunitcolor": "white"
          },
          "hoverlabel": {
           "align": "left"
          },
          "hovermode": "closest",
          "mapbox": {
           "style": "light"
          },
          "paper_bgcolor": "white",
          "plot_bgcolor": "#E5ECF6",
          "polar": {
           "angularaxis": {
            "gridcolor": "white",
            "linecolor": "white",
            "ticks": ""
           },
           "bgcolor": "#E5ECF6",
           "radialaxis": {
            "gridcolor": "white",
            "linecolor": "white",
            "ticks": ""
           }
          },
          "scene": {
           "xaxis": {
            "backgroundcolor": "#E5ECF6",
            "gridcolor": "white",
            "gridwidth": 2,
            "linecolor": "white",
            "showbackground": true,
            "ticks": "",
            "zerolinecolor": "white"
           },
           "yaxis": {
            "backgroundcolor": "#E5ECF6",
            "gridcolor": "white",
            "gridwidth": 2,
            "linecolor": "white",
            "showbackground": true,
            "ticks": "",
            "zerolinecolor": "white"
           },
           "zaxis": {
            "backgroundcolor": "#E5ECF6",
            "gridcolor": "white",
            "gridwidth": 2,
            "linecolor": "white",
            "showbackground": true,
            "ticks": "",
            "zerolinecolor": "white"
           }
          },
          "shapedefaults": {
           "line": {
            "color": "#2a3f5f"
           }
          },
          "ternary": {
           "aaxis": {
            "gridcolor": "white",
            "linecolor": "white",
            "ticks": ""
           },
           "baxis": {
            "gridcolor": "white",
            "linecolor": "white",
            "ticks": ""
           },
           "bgcolor": "#E5ECF6",
           "caxis": {
            "gridcolor": "white",
            "linecolor": "white",
            "ticks": ""
           }
          },
          "title": {
           "x": 0.05
          },
          "xaxis": {
           "automargin": true,
           "gridcolor": "white",
           "linecolor": "white",
           "ticks": "",
           "title": {
            "standoff": 15
           },
           "zerolinecolor": "white",
           "zerolinewidth": 2
          },
          "yaxis": {
           "automargin": true,
           "gridcolor": "white",
           "linecolor": "white",
           "ticks": "",
           "title": {
            "standoff": 15
           },
           "zerolinecolor": "white",
           "zerolinewidth": 2
          }
         }
        },
        "title": {
         "text": "Relation between price and size of the property for the overall market in Philladelphia"
        },
        "xaxis": {
         "anchor": "y",
         "autorange": true,
         "domain": [
          0,
          1
         ],
         "range": [
          568.2103109656301,
          6649.78968903437
         ],
         "title": {
          "text": "Area in sqft."
         },
         "type": "linear"
        },
        "yaxis": {
         "anchor": "x",
         "autorange": true,
         "domain": [
          0,
          1
         ],
         "range": [
          -208147.77327935223,
          3833147.773279352
         ],
         "title": {
          "text": "price"
         },
         "type": "linear"
        }
       }
      },
      "image/png": "[encoded data removed]",
      "text/html": [
       "<div>                            <div id=\"12d6b80b-1333-4282-b0bc-f9727b94c36f\" class=\"plotly-graph-div\" style=\"height:600px; width:100%;\"></div>            <script type=\"text/javascript\">                require([\"plotly\"], function(Plotly) {                    window.PLOTLYENV=window.PLOTLYENV || {};                                    if (document.getElementById(\"12d6b80b-1333-4282-b0bc-f9727b94c36f\")) {                    Plotly.newPlot(                        \"12d6b80b-1333-4282-b0bc-f9727b94c36f\",                        [{\"hovertemplate\":\"zip code=19120<br>Area in sqft.=%{x}<br>price=%{y}<extra></extra>\",\"legendgroup\":\"19120\",\"marker\":{\"color\":\"#636efa\",\"opacity\":0.65,\"symbol\":\"circle\"},\"mode\":\"markers\",\"name\":\"19120\",\"orientation\":\"v\",\"showlegend\":true,\"type\":\"scatter\",\"x\":[1440],\"xaxis\":\"x\",\"y\":[150000],\"yaxis\":\"y\"},{\"hovertemplate\":\"zip code=19124<br>Area in sqft.=%{x}<br>price=%{y}<extra></extra>\",\"legendgroup\":\"19124\",\"marker\":{\"color\":\"#EF553B\",\"opacity\":0.65,\"symbol\":\"circle\"},\"mode\":\"markers\",\"name\":\"19124\",\"orientation\":\"v\",\"showlegend\":true,\"type\":\"scatter\",\"x\":[1920,2016],\"xaxis\":\"x\",\"y\":[325000,299900],\"yaxis\":\"y\"},{\"hovertemplate\":\"zip code=19144<br>Area in sqft.=%{x}<br>price=%{y}<extra></extra>\",\"legendgroup\":\"19144\",\"marker\":{\"color\":\"#00cc96\",\"opacity\":0.65,\"symbol\":\"circle\"},\"mode\":\"markers\",\"name\":\"19144\",\"orientation\":\"v\",\"showlegend\":true,\"type\":\"scatter\",\"x\":[3857],\"xaxis\":\"x\",\"y\":[869000],\"yaxis\":\"y\"},{\"hovertemplate\":\"zip code=19131<br>Area in sqft.=%{x}<br>price=%{y}<extra></extra>\",\"legendgroup\":\"19131\",\"marker\":{\"color\":\"#ab63fa\",\"opacity\":0.65,\"symbol\":\"circle\"},\"mode\":\"markers\",\"name\":\"19131\",\"orientation\":\"v\",\"showlegend\":true,\"type\":\"scatter\",\"x\":[4520,2640],\"xaxis\":\"x\",\"y\":[267000,399900],\"yaxis\":\"y\"},{\"hovertemplate\":\"zip code=19111<br>Area in sqft.=%{x}<br>price=%{y}<extra></extra>\",\"legendgroup\":\"19111\",\"marker\":{\"color\":\"#FFA15A\",\"opacity\":0.65,\"symbol\":\"circle\"},\"mode\":\"markers\",\"name\":\"19111\",\"orientation\":\"v\",\"showlegend\":true,\"type\":\"scatter\",\"x\":[2007,1000,900,1536,2100],\"xaxis\":\"x\",\"y\":[144000,259900,274900,324900,305000],\"yaxis\":\"y\"},{\"hovertemplate\":\"zip code=19154<br>Area in sqft.=%{x}<br>price=%{y}<extra></extra>\",\"legendgroup\":\"19154\",\"marker\":{\"color\":\"#19d3f3\",\"opacity\":0.65,\"symbol\":\"circle\"},\"mode\":\"markers\",\"name\":\"19154\",\"orientation\":\"v\",\"showlegend\":true,\"type\":\"scatter\",\"x\":[1254],\"xaxis\":\"x\",\"y\":[309999],\"yaxis\":\"y\"},{\"hovertemplate\":\"zip code=19151<br>Area in sqft.=%{x}<br>price=%{y}<extra></extra>\",\"legendgroup\":\"19151\",\"marker\":{\"color\":\"#FF6692\",\"opacity\":0.65,\"symbol\":\"circle\"},\"mode\":\"markers\",\"name\":\"19151\",\"orientation\":\"v\",\"showlegend\":true,\"type\":\"scatter\",\"x\":[1350],\"xaxis\":\"x\",\"y\":[260000],\"yaxis\":\"y\"},{\"hovertemplate\":\"zip code=19136<br>Area in sqft.=%{x}<br>price=%{y}<extra></extra>\",\"legendgroup\":\"19136\",\"marker\":{\"color\":\"#B6E880\",\"opacity\":0.65,\"symbol\":\"circle\"},\"mode\":\"markers\",\"name\":\"19136\",\"orientation\":\"v\",\"showlegend\":true,\"type\":\"scatter\",\"x\":[1350],\"xaxis\":\"x\",\"y\":[210000],\"yaxis\":\"y\"},{\"hovertemplate\":\"zip code=19152<br>Area in sqft.=%{x}<br>price=%{y}<extra></extra>\",\"legendgroup\":\"19152\",\"marker\":{\"color\":\"#FF97FF\",\"opacity\":0.65,\"symbol\":\"circle\"},\"mode\":\"markers\",\"name\":\"19152\",\"orientation\":\"v\",\"showlegend\":true,\"type\":\"scatter\",\"x\":[1392],\"xaxis\":\"x\",\"y\":[315000],\"yaxis\":\"y\"},{\"hovertemplate\":\"zip code=19116<br>Area in sqft.=%{x}<br>price=%{y}<extra></extra>\",\"legendgroup\":\"19116\",\"marker\":{\"color\":\"#FECB52\",\"opacity\":0.65,\"symbol\":\"circle\"},\"mode\":\"markers\",\"name\":\"19116\",\"orientation\":\"v\",\"showlegend\":true,\"type\":\"scatter\",\"x\":[1412,2665,1349,2350,2300],\"xaxis\":\"x\",\"y\":[180000,429900,329900,468900,514900],\"yaxis\":\"y\"},{\"hovertemplate\":\"zip code=19126<br>Area in sqft.=%{x}<br>price=%{y}<extra></extra>\",\"legendgroup\":\"19126\",\"marker\":{\"color\":\"#636efa\",\"opacity\":0.65,\"symbol\":\"circle\"},\"mode\":\"markers\",\"name\":\"19126\",\"orientation\":\"v\",\"showlegend\":true,\"type\":\"scatter\",\"x\":[1296],\"xaxis\":\"x\",\"y\":[264900],\"yaxis\":\"y\"},{\"hovertemplate\":\"zip code=19143<br>Area in sqft.=%{x}<br>price=%{y}<extra></extra>\",\"legendgroup\":\"19143\",\"marker\":{\"color\":\"#EF553B\",\"opacity\":0.65,\"symbol\":\"circle\"},\"mode\":\"markers\",\"name\":\"19143\",\"orientation\":\"v\",\"showlegend\":true,\"type\":\"scatter\",\"x\":[1664],\"xaxis\":\"x\",\"y\":[290000],\"yaxis\":\"y\"},{\"hovertemplate\":\"zip code=19135<br>Area in sqft.=%{x}<br>price=%{y}<extra></extra>\",\"legendgroup\":\"19135\",\"marker\":{\"color\":\"#00cc96\",\"opacity\":0.65,\"symbol\":\"circle\"},\"mode\":\"markers\",\"name\":\"19135\",\"orientation\":\"v\",\"showlegend\":true,\"type\":\"scatter\",\"x\":[1088],\"xaxis\":\"x\",\"y\":[245000],\"yaxis\":\"y\"},{\"hovertemplate\":\"zip code=19119<br>Area in sqft.=%{x}<br>price=%{y}<extra></extra>\",\"legendgroup\":\"19119\",\"marker\":{\"color\":\"#ab63fa\",\"opacity\":0.65,\"symbol\":\"circle\"},\"mode\":\"markers\",\"name\":\"19119\",\"orientation\":\"v\",\"showlegend\":true,\"type\":\"scatter\",\"x\":[1984,1575],\"xaxis\":\"x\",\"y\":[458900,375000],\"yaxis\":\"y\"},{\"hovertemplate\":\"zip code=19104<br>Area in sqft.=%{x}<br>price=%{y}<extra></extra>\",\"legendgroup\":\"19104\",\"marker\":{\"color\":\"#FFA15A\",\"opacity\":0.65,\"symbol\":\"circle\"},\"mode\":\"markers\",\"name\":\"19104\",\"orientation\":\"v\",\"showlegend\":true,\"type\":\"scatter\",\"x\":[1776],\"xaxis\":\"x\",\"y\":[229999],\"yaxis\":\"y\"},{\"hovertemplate\":\"zip code=19128<br>Area in sqft.=%{x}<br>price=%{y}<extra></extra>\",\"legendgroup\":\"19128\",\"marker\":{\"color\":\"#19d3f3\",\"opacity\":0.65,\"symbol\":\"circle\"},\"mode\":\"markers\",\"name\":\"19128\",\"orientation\":\"v\",\"showlegend\":true,\"type\":\"scatter\",\"x\":[3600,1292,2000,2482],\"xaxis\":\"x\",\"y\":[849000,309900,489900,499900],\"yaxis\":\"y\"},{\"hovertemplate\":\"zip code=19118<br>Area in sqft.=%{x}<br>price=%{y}<extra></extra>\",\"legendgroup\":\"19118\",\"marker\":{\"color\":\"#FF6692\",\"opacity\":0.65,\"symbol\":\"circle\"},\"mode\":\"markers\",\"name\":\"19118\",\"orientation\":\"v\",\"showlegend\":true,\"type\":\"scatter\",\"x\":[2198,4354,6318,2205,3780],\"xaxis\":\"x\",\"y\":[699000,3595000,1875000,595000,1250000],\"yaxis\":\"y\"},{\"hovertemplate\":\"zip code=19141<br>Area in sqft.=%{x}<br>price=%{y}<extra></extra>\",\"legendgroup\":\"19141\",\"marker\":{\"color\":\"#B6E880\",\"opacity\":0.65,\"symbol\":\"circle\"},\"mode\":\"markers\",\"name\":\"19141\",\"orientation\":\"v\",\"showlegend\":true,\"type\":\"scatter\",\"x\":[2102],\"xaxis\":\"x\",\"y\":[260000],\"yaxis\":\"y\"},{\"hovertemplate\":\"zip code=19134<br>Area in sqft.=%{x}<br>price=%{y}<extra></extra>\",\"legendgroup\":\"19134\",\"marker\":{\"color\":\"#FF97FF\",\"opacity\":0.65,\"symbol\":\"circle\"},\"mode\":\"markers\",\"name\":\"19134\",\"orientation\":\"v\",\"showlegend\":true,\"type\":\"scatter\",\"x\":[1350],\"xaxis\":\"x\",\"y\":[49900],\"yaxis\":\"y\"},{\"hovertemplate\":\"zip code=19127<br>Area in sqft.=%{x}<br>price=%{y}<extra></extra>\",\"legendgroup\":\"19127\",\"marker\":{\"color\":\"#FECB52\",\"opacity\":0.65,\"symbol\":\"circle\"},\"mode\":\"markers\",\"name\":\"19127\",\"orientation\":\"v\",\"showlegend\":true,\"type\":\"scatter\",\"x\":[1242],\"xaxis\":\"x\",\"y\":[280000],\"yaxis\":\"y\"},{\"hovertemplate\":\"zip code=19114<br>Area in sqft.=%{x}<br>price=%{y}<extra></extra>\",\"legendgroup\":\"19114\",\"marker\":{\"color\":\"#636efa\",\"opacity\":0.65,\"symbol\":\"circle\"},\"mode\":\"markers\",\"name\":\"19114\",\"orientation\":\"v\",\"showlegend\":true,\"type\":\"scatter\",\"x\":[1224],\"xaxis\":\"x\",\"y\":[175000],\"yaxis\":\"y\"},{\"hovertemplate\":\"zip code=19132<br>Area in sqft.=%{x}<br>price=%{y}<extra></extra>\",\"legendgroup\":\"19132\",\"marker\":{\"color\":\"#EF553B\",\"opacity\":0.65,\"symbol\":\"circle\"},\"mode\":\"markers\",\"name\":\"19132\",\"orientation\":\"v\",\"showlegend\":true,\"type\":\"scatter\",\"x\":[924],\"xaxis\":\"x\",\"y\":[30000],\"yaxis\":\"y\"},{\"hovertemplate\":\"<b>LOWESS trendline</b><br><br>Area in sqft.=%{x}<br>price=%{y} <b>(trend)</b><extra></extra>\",\"legendgroup\":\"Overall Trendline\",\"line\":{\"color\":\"darkblue\"},\"mode\":\"lines\",\"name\":\"Overall Trendline\",\"showlegend\":true,\"type\":\"scatter\",\"x\":[900,924,1000,1088,1224,1242,1254,1292,1296,1349,1350,1350,1350,1392,1412,1440,1536,1575,1664,1776,1920,1984,2000,2007,2016,2100,2102,2198,2205,2300,2350,2482,2640,2665,3600,3780,3857,4354,4520,6318],\"xaxis\":\"x\",\"y\":[201598.8627283097,204375.61987971107,213106.8638834883,223233.47271420882,239163.17357637762,241301.870521811,242731.67430403703,247277.2280123316,247756.68023667688,254085.24145057445,254203.50414591187,254203.50414591187,254203.50414591187,259085.15020266303,261328.1451503946,264342.9854631621,276091.6336887287,281545.7061089675,293210.99819566414,312044.4291949454,352923.20067984355,370205.59855592734,374870.23378225946,376799.28317753086,379163.2160343881,396307.9090890394,396652.88804385066,412602.90938215976,413769.927570005,430024.5882216366,438841.02040772384,462213.7269526894,513604.6562830802,526919.9095492427,881205.7024941407,945218.7669484257,973009.6373786649,1161772.8258194341,1223038.5489222617,1875913.1101935825],\"yaxis\":\"y\"}],                        {\"height\":600,\"legend\":{\"title\":{\"text\":\"zip code\"},\"tracegroupgap\":0},\"template\":{\"data\":{\"bar\":[{\"error_x\":{\"color\":\"#2a3f5f\"},\"error_y\":{\"color\":\"#2a3f5f\"},\"marker\":{\"line\":{\"color\":\"#E5ECF6\",\"width\":0.5},\"pattern\":{\"fillmode\":\"overlay\",\"size\":10,\"solidity\":0.2}},\"type\":\"bar\"}],\"barpolar\":[{\"marker\":{\"line\":{\"color\":\"#E5ECF6\",\"width\":0.5},\"pattern\":{\"fillmode\":\"overlay\",\"size\":10,\"solidity\":0.2}},\"type\":\"barpolar\"}],\"carpet\":[{\"aaxis\":{\"endlinecolor\":\"#2a3f5f\",\"gridcolor\":\"white\",\"linecolor\":\"white\",\"minorgridcolor\":\"white\",\"startlinecolor\":\"#2a3f5f\"},\"baxis\":{\"endlinecolor\":\"#2a3f5f\",\"gridcolor\":\"white\",\"linecolor\":\"white\",\"minorgridcolor\":\"white\",\"startlinecolor\":\"#2a3f5f\"},\"type\":\"carpet\"}],\"choropleth\":[{\"colorbar\":{\"outlinewidth\":0,\"ticks\":\"\"},\"type\":\"choropleth\"}],\"contour\":[{\"colorbar\":{\"outlinewidth\":0,\"ticks\":\"\"},\"colorscale\":[[0.0,\"#0d0887\"],[0.1111111111111111,\"#46039f\"],[0.2222222222222222,\"#7201a8\"],[0.3333333333333333,\"#9c179e\"],[0.4444444444444444,\"#bd3786\"],[0.5555555555555556,\"#d8576b\"],[0.6666666666666666,\"#ed7953\"],[0.7777777777777778,\"#fb9f3a\"],[0.8888888888888888,\"#fdca26\"],[1.0,\"#f0f921\"]],\"type\":\"contour\"}],\"contourcarpet\":[{\"colorbar\":{\"outlinewidth\":0,\"ticks\":\"\"},\"type\":\"contourcarpet\"}],\"heatmap\":[{\"colorbar\":{\"outlinewidth\":0,\"ticks\":\"\"},\"colorscale\":[[0.0,\"#0d0887\"],[0.1111111111111111,\"#46039f\"],[0.2222222222222222,\"#7201a8\"],[0.3333333333333333,\"#9c179e\"],[0.4444444444444444,\"#bd3786\"],[0.5555555555555556,\"#d8576b\"],[0.6666666666666666,\"#ed7953\"],[0.7777777777777778,\"#fb9f3a\"],[0.8888888888888888,\"#fdca26\"],[1.0,\"#f0f921\"]],\"type\":\"heatmap\"}],\"heatmapgl\":[{\"colorbar\":{\"outlinewidth\":0,\"ticks\":\"\"},\"colorscale\":[[0.0,\"#0d0887\"],[0.1111111111111111,\"#46039f\"],[0.2222222222222222,\"#7201a8\"],[0.3333333333333333,\"#9c179e\"],[0.4444444444444444,\"#bd3786\"],[0.5555555555555556,\"#d8576b\"],[0.6666666666666666,\"#ed7953\"],[0.7777777777777778,\"#fb9f3a\"],[0.8888888888888888,\"#fdca26\"],[1.0,\"#f0f921\"]],\"type\":\"heatmapgl\"}],\"histogram\":[{\"marker\":{\"pattern\":{\"fillmode\":\"overlay\",\"size\":10,\"solidity\":0.2}},\"type\":\"histogram\"}],\"histogram2d\":[{\"colorbar\":{\"outlinewidth\":0,\"ticks\":\"\"},\"colorscale\":[[0.0,\"#0d0887\"],[0.1111111111111111,\"#46039f\"],[0.2222222222222222,\"#7201a8\"],[0.3333333333333333,\"#9c179e\"],[0.4444444444444444,\"#bd3786\"],[0.5555555555555556,\"#d8576b\"],[0.6666666666666666,\"#ed7953\"],[0.7777777777777778,\"#fb9f3a\"],[0.8888888888888888,\"#fdca26\"],[1.0,\"#f0f921\"]],\"type\":\"histogram2d\"}],\"histogram2dcontour\":[{\"colorbar\":{\"outlinewidth\":0,\"ticks\":\"\"},\"colorscale\":[[0.0,\"#0d0887\"],[0.1111111111111111,\"#46039f\"],[0.2222222222222222,\"#7201a8\"],[0.3333333333333333,\"#9c179e\"],[0.4444444444444444,\"#bd3786\"],[0.5555555555555556,\"#d8576b\"],[0.6666666666666666,\"#ed7953\"],[0.7777777777777778,\"#fb9f3a\"],[0.8888888888888888,\"#fdca26\"],[1.0,\"#f0f921\"]],\"type\":\"histogram2dcontour\"}],\"mesh3d\":[{\"colorbar\":{\"outlinewidth\":0,\"ticks\":\"\"},\"type\":\"mesh3d\"}],\"parcoords\":[{\"line\":{\"colorbar\":{\"outlinewidth\":0,\"ticks\":\"\"}},\"type\":\"parcoords\"}],\"pie\":[{\"automargin\":true,\"type\":\"pie\"}],\"scatter\":[{\"marker\":{\"colorbar\":{\"outlinewidth\":0,\"ticks\":\"\"}},\"type\":\"scatter\"}],\"scatter3d\":[{\"line\":{\"colorbar\":{\"outlinewidth\":0,\"ticks\":\"\"}},\"marker\":{\"colorbar\":{\"outlinewidth\":0,\"ticks\":\"\"}},\"type\":\"scatter3d\"}],\"scattercarpet\":[{\"marker\":{\"colorbar\":{\"outlinewidth\":0,\"ticks\":\"\"}},\"type\":\"scattercarpet\"}],\"scattergeo\":[{\"marker\":{\"colorbar\":{\"outlinewidth\":0,\"ticks\":\"\"}},\"type\":\"scattergeo\"}],\"scattergl\":[{\"marker\":{\"colorbar\":{\"outlinewidth\":0,\"ticks\":\"\"}},\"type\":\"scattergl\"}],\"scattermapbox\":[{\"marker\":{\"colorbar\":{\"outlinewidth\":0,\"ticks\":\"\"}},\"type\":\"scattermapbox\"}],\"scatterpolar\":[{\"marker\":{\"colorbar\":{\"outlinewidth\":0,\"ticks\":\"\"}},\"type\":\"scatterpolar\"}],\"scatterpolargl\":[{\"marker\":{\"colorbar\":{\"outlinewidth\":0,\"ticks\":\"\"}},\"type\":\"scatterpolargl\"}],\"scatterternary\":[{\"marker\":{\"colorbar\":{\"outlinewidth\":0,\"ticks\":\"\"}},\"type\":\"scatterternary\"}],\"surface\":[{\"colorbar\":{\"outlinewidth\":0,\"ticks\":\"\"},\"colorscale\":[[0.0,\"#0d0887\"],[0.1111111111111111,\"#46039f\"],[0.2222222222222222,\"#7201a8\"],[0.3333333333333333,\"#9c179e\"],[0.4444444444444444,\"#bd3786\"],[0.5555555555555556,\"#d8576b\"],[0.6666666666666666,\"#ed7953\"],[0.7777777777777778,\"#fb9f3a\"],[0.8888888888888888,\"#fdca26\"],[1.0,\"#f0f921\"]],\"type\":\"surface\"}],\"table\":[{\"cells\":{\"fill\":{\"color\":\"#EBF0F8\"},\"line\":{\"color\":\"white\"}},\"header\":{\"fill\":{\"color\":\"#C8D4E3\"},\"line\":{\"color\":\"white\"}},\"type\":\"table\"}]},\"layout\":{\"annotationdefaults\":{\"arrowcolor\":\"#2a3f5f\",\"arrowhead\":0,\"arrowwidth\":1},\"autotypenumbers\":\"strict\",\"coloraxis\":{\"colorbar\":{\"outlinewidth\":0,\"ticks\":\"\"}},\"colorscale\":{\"diverging\":[[0,\"#8e0152\"],[0.1,\"#c51b7d\"],[0.2,\"#de77ae\"],[0.3,\"#f1b6da\"],[0.4,\"#fde0ef\"],[0.5,\"#f7f7f7\"],[0.6,\"#e6f5d0\"],[0.7,\"#b8e186\"],[0.8,\"#7fbc41\"],[0.9,\"#4d9221\"],[1,\"#276419\"]],\"sequential\":[[0.0,\"#0d0887\"],[0.1111111111111111,\"#46039f\"],[0.2222222222222222,\"#7201a8\"],[0.3333333333333333,\"#9c179e\"],[0.4444444444444444,\"#bd3786\"],[0.5555555555555556,\"#d8576b\"],[0.6666666666666666,\"#ed7953\"],[0.7777777777777778,\"#fb9f3a\"],[0.8888888888888888,\"#fdca26\"],[1.0,\"#f0f921\"]],\"sequentialminus\":[[0.0,\"#0d0887\"],[0.1111111111111111,\"#46039f\"],[0.2222222222222222,\"#7201a8\"],[0.3333333333333333,\"#9c179e\"],[0.4444444444444444,\"#bd3786\"],[0.5555555555555556,\"#d8576b\"],[0.6666666666666666,\"#ed7953\"],[0.7777777777777778,\"#fb9f3a\"],[0.8888888888888888,\"#fdca26\"],[1.0,\"#f0f921\"]]},\"colorway\":[\"#636efa\",\"#EF553B\",\"#00cc96\",\"#ab63fa\",\"#FFA15A\",\"#19d3f3\",\"#FF6692\",\"#B6E880\",\"#FF97FF\",\"#FECB52\"],\"font\":{\"color\":\"#2a3f5f\"},\"geo\":{\"bgcolor\":\"white\",\"lakecolor\":\"white\",\"landcolor\":\"#E5ECF6\",\"showlakes\":true,\"showland\":true,\"subunitcolor\":\"white\"},\"hoverlabel\":{\"align\":\"left\"},\"hovermode\":\"closest\",\"mapbox\":{\"style\":\"light\"},\"paper_bgcolor\":\"white\",\"plot_bgcolor\":\"#E5ECF6\",\"polar\":{\"angularaxis\":{\"gridcolor\":\"white\",\"linecolor\":\"white\",\"ticks\":\"\"},\"bgcolor\":\"#E5ECF6\",\"radialaxis\":{\"gridcolor\":\"white\",\"linecolor\":\"white\",\"ticks\":\"\"}},\"scene\":{\"xaxis\":{\"backgroundcolor\":\"#E5ECF6\",\"gridcolor\":\"white\",\"gridwidth\":2,\"linecolor\":\"white\",\"showbackground\":true,\"ticks\":\"\",\"zerolinecolor\":\"white\"},\"yaxis\":{\"backgroundcolor\":\"#E5ECF6\",\"gridcolor\":\"white\",\"gridwidth\":2,\"linecolor\":\"white\",\"showbackground\":true,\"ticks\":\"\",\"zerolinecolor\":\"white\"},\"zaxis\":{\"backgroundcolor\":\"#E5ECF6\",\"gridcolor\":\"white\",\"gridwidth\":2,\"linecolor\":\"white\",\"showbackground\":true,\"ticks\":\"\",\"zerolinecolor\":\"white\"}},\"shapedefaults\":{\"line\":{\"color\":\"#2a3f5f\"}},\"ternary\":{\"aaxis\":{\"gridcolor\":\"white\",\"linecolor\":\"white\",\"ticks\":\"\"},\"baxis\":{\"gridcolor\":\"white\",\"linecolor\":\"white\",\"ticks\":\"\"},\"bgcolor\":\"#E5ECF6\",\"caxis\":{\"gridcolor\":\"white\",\"linecolor\":\"white\",\"ticks\":\"\"}},\"title\":{\"x\":0.05},\"xaxis\":{\"automargin\":true,\"gridcolor\":\"white\",\"linecolor\":\"white\",\"ticks\":\"\",\"title\":{\"standoff\":15},\"zerolinecolor\":\"white\",\"zerolinewidth\":2},\"yaxis\":{\"automargin\":true,\"gridcolor\":\"white\",\"linecolor\":\"white\",\"ticks\":\"\",\"title\":{\"standoff\":15},\"zerolinecolor\":\"white\",\"zerolinewidth\":2}}},\"title\":{\"text\":\"Relation between price and size of the property for the overall market in Philladelphia\"},\"xaxis\":{\"anchor\":\"y\",\"domain\":[0.0,1.0],\"title\":{\"text\":\"Area in sqft.\"}},\"yaxis\":{\"anchor\":\"x\",\"domain\":[0.0,1.0],\"title\":{\"text\":\"price\"}}},                        {\"responsive\": true}                    ).then(function(){\n",
       "                            \n",
       "var gd = document.getElementById('12d6b80b-1333-4282-b0bc-f9727b94c36f');\n",
       "var x = new MutationObserver(function (mutations, observer) {{\n",
       "        var display = window.getComputedStyle(gd).display;\n",
       "        if (!display || display === 'none') {{\n",
       "            console.log([gd, 'removed!']);\n",
       "            Plotly.purge(gd);\n",
       "            observer.disconnect();\n",
       "        }}\n",
       "}});\n",
       "\n",
       "// Listen for the removal of the full notebook cells\n",
       "var notebookContainer = gd.closest('#notebook-container');\n",
       "if (notebookContainer) {{\n",
       "    x.observe(notebookContainer, {childList: true});\n",
       "}}\n",
       "\n",
       "// Listen for the clearing of the current output cell\n",
       "var outputEl = gd.closest('.output');\n",
       "if (outputEl) {{\n",
       "    x.observe(outputEl, {childList: true});\n",
       "}}\n",
       "\n",
       "                        })                };                });            </script>        </div>"
      ]
     },
     "metadata": {},
     "output_type": "display_data"
    }
   ],
   "source": [
    "## Fourth vizualisation: price versius area \n",
    "\n",
    "fig_scatter = px.scatter(\n",
    "    current_price_df,\n",
    "    x=\"Area in sqft.\",\n",
    "    y=\"price\",\n",
    "    opacity=0.65,\n",
    "    color = \"zip code\",\n",
    "    trendline= \"lowess\",\n",
    "    trendline_scope= \"overall\",\n",
    "    trendline_color_override= \"darkblue\",\n",
    "    title = \"Relation between price and size of the property for the overall market in Philladelphia\",\n",
    "    height = 600\n",
    "    )\n",
    "fig_scatter.show()\n"
   ]
  },
  {
   "cell_type": "code",
   "execution_count": 228,
   "id": "f1e8db3d-97b4-4fbd-aba4-799a4c7fc188",
   "metadata": {},
   "outputs": [
    {
     "data": {},
     "metadata": {},
     "output_type": "display_data"
    },
    {
     "data": {
      "application/vnd.holoviews_exec.v0+json": "",
      "text/html": [
       "<div id='2896'>\n",
       "\n",
       "\n",
       "\n",
       "\n",
       "\n",
       "  <div class=\"bk-root\" id=\"baea206c-7ad1-4f9e-89dd-8067b83cd6f5\" data-root-id=\"2896\"></div>\n",
       "</div>\n",
       "<script type=\"application/javascript\">(function(root) {\n",
       "  function embed_document(root) {\n",
       "    var docs_json = {\"746d7e65-d08f-495e-82e3-7bcd8de722c5\":{\"defs\":[{\"extends\":null,\"module\":null,\"name\":\"ReactiveHTML1\",\"overrides\":[],\"properties\":[]},{\"extends\":null,\"module\":null,\"name\":\"FlexBox1\",\"overrides\":[],\"properties\":[{\"default\":\"flex-start\",\"kind\":null,\"name\":\"align_content\"},{\"default\":\"flex-start\",\"kind\":null,\"name\":\"align_items\"},{\"default\":\"row\",\"kind\":null,\"name\":\"flex_direction\"},{\"default\":\"wrap\",\"kind\":null,\"name\":\"flex_wrap\"},{\"default\":\"flex-start\",\"kind\":null,\"name\":\"justify_content\"}]},{\"extends\":null,\"module\":null,\"name\":\"TemplateActions1\",\"overrides\":[],\"properties\":[{\"default\":0,\"kind\":null,\"name\":\"open_modal\"},{\"default\":0,\"kind\":null,\"name\":\"close_modal\"}]},{\"extends\":null,\"module\":null,\"name\":\"MaterialTemplateActions1\",\"overrides\":[],\"properties\":[{\"default\":0,\"kind\":null,\"name\":\"open_modal\"},{\"default\":0,\"kind\":null,\"name\":\"close_modal\"}]}],\"roots\":{\"references\":[{\"attributes\":{},\"id\":\"2915\",\"type\":\"BasicTicker\"},{\"attributes\":{},\"id\":\"2940\",\"type\":\"Selection\"},{\"attributes\":{\"source\":{\"id\":\"2939\"}},\"id\":\"2947\",\"type\":\"CDSView\"},{\"attributes\":{\"below\":[{\"id\":\"2910\"}],\"center\":[{\"id\":\"2913\"},{\"id\":\"2917\"}],\"height\":400,\"left\":[{\"id\":\"2914\"}],\"margin\":[5,5,5,5],\"min_border_bottom\":10,\"min_border_left\":10,\"min_border_right\":10,\"min_border_top\":10,\"renderers\":[{\"id\":\"2946\"},{\"id\":\"2951\"}],\"sizing_mode\":\"fixed\",\"title\":{\"id\":\"2902\"},\"toolbar\":{\"id\":\"2924\"},\"x_range\":{\"id\":\"2898\"},\"x_scale\":{\"id\":\"2906\"},\"y_range\":{\"id\":\"2899\"},\"y_scale\":{\"id\":\"2908\"}},\"id\":\"2901\",\"subtype\":\"Figure\",\"type\":\"Plot\"},{\"attributes\":{\"fill_alpha\":0.5,\"fill_color\":\"#30a2da\",\"x\":{\"field\":\"x\"},\"y\":{\"field\":\"y\"}},\"id\":\"2942\",\"type\":\"Patch\"},{\"attributes\":{\"axis_label\":\"price_per_sqft\",\"formatter\":{\"id\":\"2933\"},\"major_label_policy\":{\"id\":\"2932\"},\"ticker\":{\"id\":\"2911\"}},\"id\":\"2910\",\"type\":\"LinearAxis\"},{\"attributes\":{\"axis\":{\"id\":\"2910\"},\"ticker\":{\"id\":\"2911\"}},\"id\":\"2913\",\"type\":\"Grid\"},{\"attributes\":{\"axis\":{\"id\":\"2914\"},\"dimension\":1,\"ticker\":{\"id\":\"2915\"}},\"id\":\"2917\",\"type\":\"Grid\"},{\"attributes\":{\"fill_alpha\":0.5,\"fill_color\":\"#30a2da\",\"x\":{\"field\":\"x\"},\"y\":{\"field\":\"y\"}},\"id\":\"2948\",\"type\":\"Patch\"},{\"attributes\":{\"active_multi\":null,\"tools\":[{\"id\":\"2900\"},{\"id\":\"2918\"},{\"id\":\"2919\"},{\"id\":\"2920\"},{\"id\":\"2921\"},{\"id\":\"2922\"}]},\"id\":\"2924\",\"type\":\"Toolbar\"},{\"attributes\":{},\"id\":\"2911\",\"type\":\"BasicTicker\"},{\"attributes\":{\"axis_label\":\"Density\",\"formatter\":{\"id\":\"2936\"},\"major_label_policy\":{\"id\":\"2935\"},\"ticker\":{\"id\":\"2915\"}},\"id\":\"2914\",\"type\":\"LinearAxis\"},{\"attributes\":{},\"id\":\"2908\",\"type\":\"LinearScale\"},{\"attributes\":{\"bottom_units\":\"screen\",\"fill_alpha\":0.5,\"fill_color\":\"lightgrey\",\"left_units\":\"screen\",\"level\":\"overlay\",\"line_alpha\":1.0,\"line_color\":\"black\",\"line_dash\":[4,4],\"line_width\":2,\"right_units\":\"screen\",\"syncable\":false,\"top_units\":\"screen\"},\"id\":\"2923\",\"type\":\"BoxAnnotation\"},{\"attributes\":{\"margin\":[5,5,5,5],\"name\":\"HSpacer07277\",\"sizing_mode\":\"stretch_width\"},\"id\":\"3042\",\"type\":\"Spacer\"},{\"attributes\":{},\"id\":\"2935\",\"type\":\"AllLabels\"},{\"attributes\":{},\"id\":\"2932\",\"type\":\"AllLabels\"},{\"attributes\":{},\"id\":\"2936\",\"type\":\"BasicTickFormatter\"},{\"attributes\":{\"fill_alpha\":0.5,\"fill_color\":\"#30a2da\",\"line_alpha\":1,\"x\":{\"field\":\"x\"},\"y\":{\"field\":\"y\"}},\"id\":\"2943\",\"type\":\"Patch\"},{\"attributes\":{\"end\":0.011211253700155913,\"reset_end\":0.011211253700155913,\"reset_start\":0.0,\"tags\":[[[\"price_per_sqft_density\",\"Density\",null]]]},\"id\":\"2899\",\"type\":\"Range1d\"},{\"attributes\":{\"callback\":null,\"renderers\":[{\"id\":\"2946\"}],\"tags\":[\"hv_created\"],\"tooltips\":[[\"price_per_sqft\",\"@{price_per_sqft}\"],[\"Density\",\"@{price_per_sqft_density}\"]]},\"id\":\"2900\",\"type\":\"HoverTool\"},{\"attributes\":{},\"id\":\"2918\",\"type\":\"SaveTool\"},{\"attributes\":{\"dimension\":\"height\",\"level\":\"glyph\",\"line_color\":\"#30a2da\",\"line_width\":3,\"location\":231.3},\"id\":\"2951\",\"type\":\"Span\"},{\"attributes\":{\"text\":\"Density curve for properties similar to property with ZPID :10285435\",\"text_color\":\"black\",\"text_font_size\":\"12pt\"},\"id\":\"2902\",\"type\":\"Title\"},{\"attributes\":{},\"id\":\"2919\",\"type\":\"PanTool\"},{\"attributes\":{},\"id\":\"2922\",\"type\":\"ResetTool\"},{\"attributes\":{},\"id\":\"2959\",\"type\":\"UnionRenderers\"},{\"attributes\":{\"fill_alpha\":0.2,\"fill_color\":\"#30a2da\",\"line_alpha\":0.2,\"x\":{\"field\":\"x\"},\"y\":{\"field\":\"y\"}},\"id\":\"2945\",\"type\":\"Patch\"},{\"attributes\":{},\"id\":\"2920\",\"type\":\"WheelZoomTool\"},{\"attributes\":{\"data\":{\"x\":{\"__ndarray__\":\"3llvMcE5W0D+2f+sWcpbQB9akCjyWlxAP9ogpIrrXEBgWrEfI3xdQIDaQZu7DF5AoVrSFlSdXkDB2mKS7C1fQOJa8w2Fvl9Age3BxI4nYECRLYoC229gQKFtUkAnuGBAsq0afnMAYUDC7eK7v0hhQNItq/kLkWFA4m1zN1jZYUDyrTt1pCFiQAPuA7PwaWJAEy7M8DyyYkAjbpQuifpiQDSuXGzVQmNARO4kqiGLY0BULu3nbdNjQGRutSW6G2RAdK59YwZkZECE7kWhUqxkQJUuDt+e9GRApW7WHOs8ZUC1rp5aN4VlQMbuZpiDzWVA1i4v1s8VZkDmbvcTHF5mQPauv1FopmZABu+Hj7TuZkAWL1DNADdnQCZvGAtNf2dAN6/gSJnHZ0BH76iG5Q9oQFgvccQxWGhAaG85An6gaEB4rwFAyuhoQIjvyX0WMWlAmC+Su2J5aUCob1r5rsFpQLivIjf7CWpAye/qdEdSakDZL7Oyk5pqQOpve/Df4mpA+q9DLiwra0AK8AtseHNrQBow1KnEu2tAKnCc5xAEbEA6sGQlXUxsQErwLGOplGxAWzD1oPXcbEBrcL3eQSVtQHuwhRyObW1Ai/BNWtq1bUCcMBaYJv5tQKxw3tVyRm5AvLCmE7+ObkDM8G5RC9duQN0wN49XH29A7XD/zKNnb0D9sMcK8K9vQA3xj0g8+G9AjhgsQ0QgcECXOBBiakRwQJ9Y9ICQaHBAp3jYn7aMcECvmLy+3LBwQLi4oN0C1XBAwNiE/Cj5cEDI+GgbTx1xQNAYTTp1QXFA2DgxWZtlcUDgWBV4wYlxQOh4+ZbnrXFA8JjdtQ3ScUD4uMHUM/ZxQADZpfNZGnJACPmJEoA+ckAQGW4xpmJyQBg5UlDMhnJAIFk2b/KqckApeRqOGM9yQDGZ/qw+83JAObniy2QXc0BB2cbqijtzQEn5qgmxX3NAUhmPKNeDc0BaOXNH/adzQGJZV2YjzHNAank7hUnwc0BymR+kbxR0QHq5A8OVOHRAgtnn4btcdECK+csA4oB0QJIZsB8IpXRAmjmUPi7JdECaOZQ+Lsl0QJIZsB8IpXRAivnLAOKAdECC2efhu1x0QHq5A8OVOHRAcpkfpG8UdEBqeTuFSfBzQGJZV2YjzHNAWjlzR/2nc0BSGY8o14NzQEn5qgmxX3NAQdnG6oo7c0A5ueLLZBdzQDGZ/qw+83JAKXkajhjPckAgWTZv8qpyQBg5UlDMhnJAEBluMaZickAI+YkSgD5yQADZpfNZGnJA+LjB1DP2cUDwmN21DdJxQOh4+ZbnrXFA4FgVeMGJcUDYODFZm2VxQNAYTTp1QXFAyPhoG08dcUDA2IT8KPlwQLi4oN0C1XBAr5i8vtywcECneNiftoxwQJ9Y9ICQaHBAlzgQYmpEcECOGCxDRCBwQA3xj0g8+G9A/bDHCvCvb0DtcP/Mo2dvQN0wN49XH29AzPBuUQvXbkC8sKYTv45uQKxw3tVyRm5AnDAWmCb+bUCL8E1a2rVtQHuwhRyObW1Aa3C93kElbUBbMPWg9dxsQErwLGOplGxAOrBkJV1MbEAqcJznEARsQBow1KnEu2tACvALbHhza0D6r0MuLCtrQOpve/Df4mpA2S+zspOaakDJ7+p0R1JqQLivIjf7CWpAqG9a+a7BaUCYL5K7YnlpQIjvyX0WMWlAeK8BQMroaEBobzkCfqBoQFgvccQxWGhAR++ohuUPaEA3r+BImcdnQCZvGAtNf2dAFi9QzQA3Z0AG74ePtO5mQPauv1FopmZA5m73ExxeZkDWLi/WzxVmQMbuZpiDzWVAta6eWjeFZUClbtYc6zxlQJUuDt+e9GRAhO5FoVKsZEB0rn1jBmRkQGRutSW6G2RAVC7t523TY0BE7iSqIYtjQDSuXGzVQmNAI26ULon6YkATLszwPLJiQAPuA7PwaWJA8q07daQhYkDibXM3WNlhQNItq/kLkWFAwu3iu79IYUCyrRp+cwBhQKFtUkAnuGBAkS2KAttvYECB7cHEjidgQOJa8w2Fvl9AwdpikuwtX0ChWtIWVJ1eQIDaQZu7DF5AYFqxHyN8XUA/2iCkiutcQB9akCjyWlxA/tn/rFnKW0DeWW8xwTlbQA==\",\"dtype\":\"float64\",\"order\":\"little\",\"shape\":[200]},\"y\":{\"__ndarray__\":\"AAAAAAAAAAAAAAAAAAAAAAAAAAAAAAAAAAAAAAAAAAAAAAAAAAAAAAAAAAAAAAAAAAAAAAAAAAAAAAAAAAAAAAAAAAAAAAAAAAAAAAAAAAAAAAAAAAAAAAAAAAAAAAAAAAAAAAAAAAAAAAAAAAAAAAAAAAAAAAAAAAAAAAAAAAAAAAAAAAAAAAAAAAAAAAAAAAAAAAAAAAAAAAAAAAAAAAAAAAAAAAAAAAAAAAAAAAAAAAAAAAAAAAAAAAAAAAAAAAAAAAAAAAAAAAAAAAAAAAAAAAAAAAAAAAAAAAAAAAAAAAAAAAAAAAAAAAAAAAAAAAAAAAAAAAAAAAAAAAAAAAAAAAAAAAAAAAAAAAAAAAAAAAAAAAAAAAAAAAAAAAAAAAAAAAAAAAAAAAAAAAAAAAAAAAAAAAAAAAAAAAAAAAAAAAAAAAAAAAAAAAAAAAAAAAAAAAAAAAAAAAAAAAAAAAAAAAAAAAAAAAAAAAAAAAAAAAAAAAAAAAAAAAAAAAAAAAAAAAAAAAAAAAAAAAAAAAAAAAAAAAAAAAAAAAAAAAAAAAAAAAAAAAAAAAAAAAAAAAAAAAAAAAAAAAAAAAAAAAAAAAAAAAAAAAAAAAAAAAAAAAAAAAAAAAAAAAAAAAAAAAAAAAAAAAAAAAAAAAAAAAAAAAAAAAAAAAAAAAAAAAAAAAAAAAAAAAAAAAAAAAAAAAAAAAAAAAAAAAAAAAAAAAAAAAAAAAAAAAAAAAAAAAAAAAAAAAAAAAAAAAAAAAAAAAAAAAAAAAAAAAAAAAAAAAAAAAAAAAAAAAAAAAAAAAAAAAAAAAAAAAAAAAAAAAAAAAAAAAAAAAAAAAAAAAAAAAAAAAAAAAAAAAAAAAAAAAAAAAAAAAAAAAAAAAAAAAAAAAAAAAAAAAAAAAAAAAAAAAAAAAAAAAAAAAAAAAAAAAAAAAAAAAAAAAAAAAAAAAAAAAAAAAAAAAAAAAAAAAAAAAAAAAAAAAAAAAAAAAAAAAAAAAAAAAAAAAAAAAAAAAAAAAAAAAAAAAAAAAAAAAAAAAAAAAAAAAAAAAAAAAAAAACYAAh225wDP+7dR5cz/Ak/xkDeM1IPET9EGhEXMDMWP6IkRZ51oRw/wBa0dSlMIj8w6LoN5i0nP5ngdFZYGi0/bkG5KMYbMj+vX9V3GFY2P8lnnRssTzs/ZCAp1H+MQD/8zaGr2uFDPwBzuyVarkc/hU9njeT2Sz/egqkNFV9QP87NuqUlAlM/9NSbb0vjVT+2NQfhs/9YPytonPMUU1w/RdYlosXXXz+gOePTdsNhP8CIAQFmrGM/wkoc5oiiZT8ryeKHpqFnP7VjbqOupWk/18q34fSqaz8IrMaQaK5tP+0M4UfErW8/pN2oidjTcD+s2N2z7M1xPzpdC5R0xXI/UX9gtjy7cz++uoMtdLB0Py4ixYuPpnU/DhGlxCSfdj9yCqmJwpt3Pwj5bTvGnXg/X+r9yjOmeT8xX8zckrV6P8Q7ESPUy3s/mL+sPUHofD8NeeKHeAl+P/3+DS11LX8/qt66X9EogD/prmg+fbmAP3pc68MTR4E/Hj4pX9fPgT8+uzNFC1KCP0nYb5IFzII/sfNwGj48gz+5FIfBWKGDPzQqy74q+oM/FPHNubpFhD/npIZLPIOEP8NyD+4HsoQ/xZE/y5DRhD/Zlt8TWuGEPx7cgpHt4IQ//IMd+9TPhD9dYhg9l62EPwbD9Wq6eYQ/+GmWgMozhD/cUCSEZNuDP5q6RhBFcIM/dkGm31jygj8BQsWqzWGCP8fOEI8hv4E/jBrWSy8LgT8qxC7kNUeAPzQD7De16X4/0G2Ti0ksfT9kLlnG5lp7Pw/3eT/aenk/z1nDT9eRdz+18Qhvx6V1P9ppRu6WvHM/q3C1ogHccT/APpizYglwP4V7v7AUk2w/3TPyejdBaT8qqcQa6SNmP5xM/qk9QGM/8khGcJqZYD+f+t33gmNcPw7NGsLbEVg/wOfrm/o7VD9wgclnRt1QPxREp5qG3ks/z7chExHURj9FP3WOZ4lCP/ZpPnhS1z0/5ARRujDPNz/2j77IeNQyPw7JqEaRhS0/SakJuCPwJj/2j9nPQaohP79thty09xo/kdZBdudmFD+DbUZmfJgOPw==\",\"dtype\":\"float64\",\"order\":\"little\",\"shape\":[200]}},\"selected\":{\"id\":\"2940\"},\"selection_policy\":{\"id\":\"2959\"}},\"id\":\"2939\",\"type\":\"ColumnDataSource\"},{\"attributes\":{\"overlay\":{\"id\":\"2923\"}},\"id\":\"2921\",\"type\":\"BoxZoomTool\"},{\"attributes\":{\"margin\":[5,5,5,5],\"name\":\"HSpacer07276\",\"sizing_mode\":\"stretch_width\"},\"id\":\"2897\",\"type\":\"Spacer\"},{\"attributes\":{\"fill_alpha\":0.5,\"fill_color\":\"#30a2da\",\"line_color\":\"red\",\"x\":{\"field\":\"x\"},\"y\":{\"field\":\"y\"}},\"id\":\"2944\",\"type\":\"Patch\"},{\"attributes\":{},\"id\":\"2933\",\"type\":\"BasicTickFormatter\"},{\"attributes\":{\"children\":[{\"id\":\"2897\"},{\"id\":\"2901\"},{\"id\":\"3042\"}],\"margin\":[0,0,0,0],\"name\":\"Row07272\",\"tags\":[\"embedded\"]},\"id\":\"2896\",\"type\":\"Row\"},{\"attributes\":{},\"id\":\"2906\",\"type\":\"LinearScale\"},{\"attributes\":{\"data_source\":{\"id\":\"2939\"},\"glyph\":{\"id\":\"2942\"},\"hover_glyph\":{\"id\":\"2944\"},\"muted_glyph\":{\"id\":\"2945\"},\"nonselection_glyph\":{\"id\":\"2943\"},\"selection_glyph\":{\"id\":\"2948\"},\"view\":{\"id\":\"2947\"}},\"id\":\"2946\",\"type\":\"GlyphRenderer\"},{\"attributes\":{\"end\":332.5737901487388,\"reset_end\":332.5737901487388,\"reset_start\":108.90241657137037,\"start\":108.90241657137037,\"tags\":[[[\"price_per_sqft\",\"price_per_sqft\",null]]]},\"id\":\"2898\",\"type\":\"Range1d\"}],\"root_ids\":[\"2896\"]},\"title\":\"Bokeh Application\",\"version\":\"2.3.2\"}};\n",
       "    var render_items = [{\"docid\":\"746d7e65-d08f-495e-82e3-7bcd8de722c5\",\"root_ids\":[\"2896\"],\"roots\":{\"2896\":\"baea206c-7ad1-4f9e-89dd-8067b83cd6f5\"}}];\n",
       "    root.Bokeh.embed.embed_items_notebook(docs_json, render_items);\n",
       "  }\n",
       "  if (root.Bokeh !== undefined && root.Bokeh.Panel !== undefined && ( root['Plotly'] !== undefined)) {\n",
       "    embed_document(root);\n",
       "  } else {\n",
       "    var attempts = 0;\n",
       "    var timer = setInterval(function(root) {\n",
       "      if (root.Bokeh !== undefined && root.Bokeh.Panel !== undefined && (root['Plotly'] !== undefined)) {\n",
       "        clearInterval(timer);\n",
       "        embed_document(root);\n",
       "      } else if (document.readyState == \"complete\") {\n",
       "        attempts++;\n",
       "        if (attempts > 200) {\n",
       "          clearInterval(timer);\n",
       "          console.log(\"Bokeh: ERROR: Unable to run BokehJS code because BokehJS library is missing\");\n",
       "        }\n",
       "      }\n",
       "    }, 25, root)\n",
       "  }\n",
       "})(window);</script>"
      ],
      "text/plain": [
       ":Overlay\n",
       "   .Distribution.I :Distribution   [price_per_sqft]   (Density)\n",
       "   .VLine.Vline    :VLine   [x,y]"
      ]
     },
     "execution_count": 228,
     "metadata": {
      "application/vnd.holoviews_exec.v0+json": {
       "id": "2896"
      }
     },
     "output_type": "execute_result"
    }
   ],
   "source": [
    "## Fifth vizualisation: bell curve for the sold house\n",
    "# Set title with variable ZPID in function of the search\n",
    "title_content = f\"Density curve for properties similar to property with ZPID :{ZPID}\"\n",
    "\n",
    "# Define two plots: the desnity and the value of the current house for sale defined by the ZPID.\n",
    "denisty_curve = sold_price_df['price_per_sqft'].hvplot.kde(width=600, height = 400, title =title_content, hover_line_color=\"red\", grid=True)\n",
    "vline = hv.VLine(Purchase_house_price_per_sqft , label=\"vline\")\n",
    "\n",
    "# Join plots under a new variable name\n",
    "density_plt = denisty*vline\n",
    "\n",
    "density_plt\n",
    "\n"
   ]
  },
  {
   "cell_type": "code",
   "execution_count": null,
   "id": "0a187f99-42cf-4842-bcb8-2196d242533a",
   "metadata": {},
   "outputs": [],
   "source": []
  }
 ],
 "metadata": {
  "kernelspec": {
   "display_name": "Python 3 (ipykernel)",
   "language": "python",
   "name": "python3"
  },
  "language_info": {
   "codemirror_mode": {
    "name": "ipython",
    "version": 3
   },
   "file_extension": ".py",
   "mimetype": "text/x-python",
   "name": "python",
   "nbconvert_exporter": "python",
   "pygments_lexer": "ipython3",
   "version": "3.7.10"
  }
 },
 "nbformat": 4,
 "nbformat_minor": 5
}
